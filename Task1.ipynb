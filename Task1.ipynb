{
 "cells": [
  {
   "cell_type": "markdown",
   "metadata": {},
   "source": [
    "<b>Data mining Project - 2020/21</b><br/>\n",
    "<span>\n",
    "<b>Authors:</b> <a href=\"http://------\">Diletta Goglia</a> and <a href=\"http://------\">Marco Petix</a><br/>\n",
    "<b>Python version:</b>  3.x<br/>\n",
    "<b>Last update:</b> 20/10/2020\n",
    "</span>\n",
    "</span>"
   ]
  },
  {
   "cell_type": "markdown",
   "metadata": {},
   "source": [
    "# Data Understanding and Preparation\n"
   ]
  },
  {
   "cell_type": "markdown",
   "metadata": {},
   "source": [
    "# Data Understanding\n",
    "**Dataset description**\n",
    "\n",
    "This notebook contains an explorative analysis of the **\"customer_supermarket\"** describing purchases and shopping sessions.\n",
    "\n",
    "The data is organised in a form of an array, where the dataset attributes (aka features) are organised in columns, and the shoppig sessions (aka instances) - in rows. The dataset consists of several data categories describing purchases made by customers, such as the country, basket informations, products descriptions, quantity etc. \n",
    "\n",
    "The data set includes 471910 data observations.\n"
   ]
  },
  {
   "cell_type": "markdown",
   "metadata": {
    "pycharm": {
     "name": "#%% md\n"
    }
   },
   "source": [
    "**Importing libraries and loading dataset**"
   ]
  },
  {
   "cell_type": "code",
   "execution_count": 661,
   "metadata": {
    "pycharm": {
     "name": "#%%\n"
    }
   },
   "outputs": [],
   "source": [
    "%matplotlib inline\n",
    "import math\n",
    "import numpy as np\n",
    "import pandas as pd\n",
    "import scipy.stats as stats\n",
    "import matplotlib.pyplot as plt\n",
    "\n",
    "from collections import defaultdict\n",
    "from scipy.stats.stats import pearsonr"
   ]
  },
  {
   "cell_type": "markdown",
   "metadata": {
    "pycharm": {
     "name": "#%% md\n"
    }
   },
   "source": [
    "Read the .csv file containing the data. The first line contains the list of attributes. The data is assigned to a Pandas dataframe."
   ]
  },
  {
   "cell_type": "code",
   "execution_count": 662,
   "metadata": {
    "pycharm": {
     "name": "#%%\n"
    }
   },
   "outputs": [],
   "source": [
    "df = pd.read_csv('dataset/customer_supermarket.csv', sep='\\t', index_col=0)"
   ]
  },
  {
   "cell_type": "markdown",
   "metadata": {},
   "source": [
    "## Data semantics\n",
    "\n",
    "The function **head()** provides the first records of the dataframe.\n",
    "We use it in order to assess the correct loading of the dataset and to provide a example of the records contained within it."
   ]
  },
  {
   "cell_type": "code",
   "execution_count": 663,
   "metadata": {
    "pycharm": {
     "name": "#%%\n"
    }
   },
   "outputs": [
    {
     "name": "stdout",
     "output_type": "stream",
     "text": [
      "  BasketID      BasketDate  Sale  CustomerID CustomerCountry  ProdID  \\\n",
      "0   536365  01/12/10 08:26  2,55    17850.00  United Kingdom  85123A   \n",
      "1   536365  01/12/10 08:26  3,39    17850.00  United Kingdom   71053   \n",
      "2   536365  01/12/10 08:26  2,75    17850.00  United Kingdom  84406B   \n",
      "3   536365  01/12/10 08:26  3,39    17850.00  United Kingdom  84029G   \n",
      "4   536365  01/12/10 08:26  3,39    17850.00  United Kingdom  84029E   \n",
      "\n",
      "                             ProdDescr  Qta  \n",
      "0   WHITE HANGING HEART T-LIGHT HOLDER    6  \n",
      "1                  WHITE METAL LANTERN    6  \n",
      "2       CREAM CUPID HEARTS COAT HANGER    8  \n",
      "3  KNITTED UNION FLAG HOT WATER BOTTLE    6  \n",
      "4       RED WOOLLY HOTTIE WHITE HEART.    6  \n",
      "\n"
     ]
    }
   ],
   "source": [
    "print(df.head()) #print the first records of a df\n",
    "print()\n",
    "#print(df.tail()) #print the last records of a df"
   ]
  },
  {
   "cell_type": "markdown",
   "metadata": {},
   "source": [
    "### Types of Attributes and basic checks\n",
    "\n",
    "Check the data integrity, that is whether there are any empty cells or corrupted data. The Pandas function **info()** is used in order to obtain preliminary information on the dataset.\n",
    "It highlights the data type and counts the number of not-null values for each column of the dataset."
   ]
  },
  {
   "cell_type": "code",
   "execution_count": 664,
   "metadata": {
    "pycharm": {
     "name": "#%%\n"
    }
   },
   "outputs": [
    {
     "name": "stdout",
     "output_type": "stream",
     "text": [
      "<class 'pandas.core.frame.DataFrame'>\n",
      "Int64Index: 471910 entries, 0 to 541909\n",
      "Data columns (total 8 columns):\n",
      " #   Column           Non-Null Count   Dtype  \n",
      "---  ------           --------------   -----  \n",
      " 0   BasketID         471910 non-null  object \n",
      " 1   BasketDate       471910 non-null  object \n",
      " 2   Sale             471910 non-null  object \n",
      " 3   CustomerID       406830 non-null  float64\n",
      " 4   CustomerCountry  471910 non-null  object \n",
      " 5   ProdID           471910 non-null  object \n",
      " 6   ProdDescr        471157 non-null  object \n",
      " 7   Qta              471910 non-null  int64  \n",
      "dtypes: float64(1), int64(1), object(6)\n",
      "memory usage: 32.4+ MB\n"
     ]
    }
   ],
   "source": [
    "df.info()"
   ]
  },
  {
   "cell_type": "markdown",
   "metadata": {},
   "source": [
    "The aforementioned function, other than identifying 471910 as the total number of records contained within the dataframe, highlights:\n",
    "1. the inability of Pandas to recognize the values of *BasketDate* as datetime;\n",
    "2. the misinterpretation of the values of the attribute *Sale*, being represented as objects and not real numbers, due to the use of the **comma as delimiter for decimal values**;\n",
    "3. the presence of **missing values** within the attributes *CustomerID* and *ProdDescr*;\n",
    "4. the presence of **non numerical values** within the attributes *BasketID* and *ProductID*, despite an expectation at a first intuitive level could suggest them to be integer.\n",
    "\n",
    "Moreover, we notice that we only have attributes of the type **categorical**, **numeric** and **ratio-scaled** (there are not 'binary' and 'ordinal' types of data).\n",
    "\n",
    "Here we present a classification of these attributes by type:\n",
    "\n",
    "- Categorical Attributes:<br>\n",
    "    - *BasketID*\n",
    "    - *CustomerID*\n",
    "    - *CustomerCountry*\n",
    "    - *ProdID*\n",
    "    - *ProdDescr*\n",
    "\n",
    "- Numerical Attributes:<br>\n",
    "    - *BasketDate*\n",
    "    - *Sale*\n",
    "    - *Qta*\n",
    "\n",
    "### Type conversion\n",
    "\n",
    "Now we address the first two issues.\n",
    "\n",
    "So since,\n",
    "+ *BasketDate* should be a datetime \n",
    "+ *Sale* should be a float dtype\n",
    "\n",
    "we:\n",
    "\n",
    "- **A.** convert *BasketDate* attribute into the right datatype using **pd.to_datetime**.\n",
    "- **B.** substitute the commas with dots in the *Sale* column and convert it from object to float type using Pandas **astype()** method.\n",
    "\n",
    "We will address the issue number 3. about missing values in the corresponding section **\"1.1.3. Missing values \"**.\n"
   ]
  },
  {
   "cell_type": "code",
   "execution_count": 665,
   "metadata": {
    "pycharm": {
     "name": "#%%\n"
    }
   },
   "outputs": [
    {
     "data": {
      "text/plain": [
       "0        2010-01-12 08:26:00\n",
       "1        2010-01-12 08:26:00\n",
       "2        2010-01-12 08:26:00\n",
       "3        2010-01-12 08:26:00\n",
       "4        2010-01-12 08:26:00\n",
       "                 ...        \n",
       "541905   2011-09-12 12:50:00\n",
       "541906   2011-09-12 12:50:00\n",
       "541907   2011-09-12 12:50:00\n",
       "541908   2011-09-12 12:50:00\n",
       "541909   2011-09-12 12:50:00\n",
       "Name: BasketDate, Length: 471910, dtype: datetime64[ns]"
      ]
     },
     "execution_count": 665,
     "metadata": {},
     "output_type": "execute_result"
    }
   ],
   "source": [
    "# converting 'BasketDate' to datetime\n",
    "pd.to_datetime(df['BasketDate'])"
   ]
  },
  {
   "cell_type": "code",
   "execution_count": 666,
   "metadata": {},
   "outputs": [
    {
     "data": {
      "text/plain": [
       "0    2.55\n",
       "1    3.39\n",
       "2    2.75\n",
       "3    3.39\n",
       "4    3.39\n",
       "Name: Sale, dtype: object"
      ]
     },
     "execution_count": 666,
     "metadata": {},
     "output_type": "execute_result"
    }
   ],
   "source": [
    "df['Sale'] = df['Sale'].str.replace(',', '.') # replacing commas with dots\n",
    "df['Sale'].head() "
   ]
  },
  {
   "cell_type": "code",
   "execution_count": 667,
   "metadata": {},
   "outputs": [
    {
     "data": {
      "text/plain": [
       "0   2.55\n",
       "1   3.39\n",
       "2   2.75\n",
       "3   3.39\n",
       "4   3.39\n",
       "Name: Sale, dtype: float64"
      ]
     },
     "execution_count": 667,
     "metadata": {},
     "output_type": "execute_result"
    }
   ],
   "source": [
    "df['Sale'] = df['Sale'].astype(float) # converting 'Sale' to float type\n",
    "df['Sale'].head()"
   ]
  },
  {
   "cell_type": "markdown",
   "metadata": {},
   "source": [
    "This presence of commas is common when working with European data.\n",
    "An alternative solution to fix it would be adding the argument **decimal = \",\"** to the *read_csv* function."
   ]
  },
  {
   "cell_type": "markdown",
   "metadata": {},
   "source": [
    "We check again the data types after having fixed them:"
   ]
  },
  {
   "cell_type": "code",
   "execution_count": 668,
   "metadata": {
    "pycharm": {
     "name": "#%%\n"
    }
   },
   "outputs": [
    {
     "data": {
      "text/plain": [
       "BasketID            object\n",
       "BasketDate          object\n",
       "Sale               float64\n",
       "CustomerID         float64\n",
       "CustomerCountry     object\n",
       "ProdID              object\n",
       "ProdDescr           object\n",
       "Qta                  int64\n",
       "dtype: object"
      ]
     },
     "execution_count": 668,
     "metadata": {},
     "output_type": "execute_result"
    }
   ],
   "source": [
    "df.dtypes # return the type of each attribute\n",
    "          # provides list of attribute with the respective type"
   ]
  },
  {
   "cell_type": "markdown",
   "metadata": {},
   "source": [
    "****CustomerID* as a float or an object**\n",
    "\n",
    "Notice how tinkering with the decimals delimiter makes Pandas recognize the *CustomerID* values as objects and not real values.\n",
    "\n",
    "It could be possible to solve this issue by :\n",
    "- explicitly casting the type of the CustomerID column as float or\n",
    "- dropping the aforementioned column from the original dataframe, extracting it again from the csv file and subsequently joining the old and new dataframes. (this process is presented below as an example)"
   ]
  },
  {
   "cell_type": "code",
   "execution_count": 669,
   "metadata": {
    "pycharm": {
     "name": "#%%\n"
    }
   },
   "outputs": [],
   "source": [
    "# df_2 = pd.read_csv('customer_supermarket.csv', sep='\\t', index_col=0, usecols=[0, 4])\n",
    "# df.drop(['CustomerID'], axis=1, inplace=True)\n",
    "# df = df.join(df_2)"
   ]
  },
  {
   "cell_type": "markdown",
   "metadata": {},
   "source": [
    "But, given the function as index of the attribute in question, its representation as a numeric data is not useful for the purposes of our analysis and, therefore, neither of the two solutions is applied.\n",
    "\n",
    "Another possible solution:"
   ]
  },
  {
   "cell_type": "code",
   "execution_count": 670,
   "metadata": {},
   "outputs": [],
   "source": [
    "# df['CustomerID'] = df['CustomerID'].astype(float) "
   ]
  },
  {
   "cell_type": "markdown",
   "metadata": {},
   "source": [
    "But before doing this, we must fill all the null values (see section ***Data Cleaning & Transformation***)."
   ]
  },
  {
   "cell_type": "markdown",
   "metadata": {},
   "source": [
    "### Unique values\n",
    "Using the function **unique()** we can see unique values occuring in each categorical column."
   ]
  },
  {
   "cell_type": "code",
   "execution_count": 671,
   "metadata": {},
   "outputs": [
    {
     "name": "stdout",
     "output_type": "stream",
     "text": [
      "There are  38 distinct countries, which are: \t\n",
      "['United Kingdom' 'France' 'Australia' 'Netherlands' 'Germany' 'Norway'\n",
      " 'EIRE' 'Switzerland' 'Spain' 'Poland' 'Portugal' 'Italy' 'Belgium'\n",
      " 'Lithuania' 'Japan' 'Iceland' 'Channel Islands' 'Denmark' 'Cyprus'\n",
      " 'Sweden' 'Austria' 'Israel' 'Finland' 'Bahrain' 'Greece' 'Hong Kong'\n",
      " 'Singapore' 'Lebanon' 'United Arab Emirates' 'Saudi Arabia'\n",
      " 'Czech Republic' 'Canada' 'Unspecified' 'Brazil' 'USA'\n",
      " 'European Community' 'Malta' 'RSA'] \n",
      "\n",
      "\n",
      "There are 24627 distinct baskets (i.e. shopping sessions). \n",
      "There are 4373 distinct customers. \n",
      "There are 3953 distinct products bought. \n"
     ]
    }
   ],
   "source": [
    "print(\"There are \", df.CustomerCountry.unique().size, \"distinct countries, which are: \\t\") \n",
    "print(df.CustomerCountry.unique(), \"\\n\\n\")\n",
    "print(\"There are\", df.BasketID.unique().size, \"distinct baskets (i.e. shopping sessions). \") \n",
    "print(\"There are\", df.CustomerID.unique().size, \"distinct customers. \") \n",
    "print(\"There are\", df.ProdID.unique().size, \"distinct products bought. \") "
   ]
  },
  {
   "cell_type": "markdown",
   "metadata": {
    "pycharm": {
     "name": "#%% md\n"
    }
   },
   "source": [
    "## Data Quality\n",
    "### Duplicates"
   ]
  },
  {
   "cell_type": "code",
   "execution_count": 672,
   "metadata": {
    "pycharm": {
     "name": "#%%\n"
    }
   },
   "outputs": [
    {
     "data": {
      "text/plain": [
       "0         False\n",
       "1         False\n",
       "2         False\n",
       "3         False\n",
       "4         False\n",
       "          ...  \n",
       "541905    False\n",
       "541906    False\n",
       "541907    False\n",
       "541908    False\n",
       "541909    False\n",
       "Length: 471910, dtype: bool"
      ]
     },
     "execution_count": 672,
     "metadata": {},
     "output_type": "execute_result"
    }
   ],
   "source": [
    "duplicates = df.duplicated()\n",
    "duplicates"
   ]
  },
  {
   "cell_type": "code",
   "execution_count": 673,
   "metadata": {},
   "outputs": [
    {
     "name": "stdout",
     "output_type": "stream",
     "text": [
      "Duplicate records not found\n"
     ]
    }
   ],
   "source": [
    "for dupl in duplicates:\n",
    "    if dupl == 'True':\n",
    "        print (dupl)\n",
    "        \n",
    "print(\"Duplicate records not found\")"
   ]
  },
  {
   "cell_type": "code",
   "execution_count": 674,
   "metadata": {},
   "outputs": [],
   "source": [
    "# df[duplicates]"
   ]
  },
  {
   "cell_type": "markdown",
   "metadata": {
    "pycharm": {
     "name": "#%% md\n"
    }
   },
   "source": [
    "### Missing values detection\n",
    "\n",
    "\n",
    "As discovered in the ***Data semantic*** section:\n",
    "+ *CustomerID* has only 406830 non-null entries\n",
    "+ *ProdDescr* has only 471157 non-null entries\n",
    "\n",
    "\n",
    "We confirm the assumption about the presence of missing values within the dataset by making use of the pandas function **isnull()**."
   ]
  },
  {
   "cell_type": "code",
   "execution_count": 675,
   "metadata": {
    "pycharm": {
     "name": "#%%\n"
    }
   },
   "outputs": [
    {
     "data": {
      "text/plain": [
       "BasketID           False\n",
       "BasketDate         False\n",
       "Sale               False\n",
       "CustomerID          True\n",
       "CustomerCountry    False\n",
       "ProdID             False\n",
       "ProdDescr           True\n",
       "Qta                False\n",
       "dtype: bool"
      ]
     },
     "execution_count": 675,
     "metadata": {},
     "output_type": "execute_result"
    }
   ],
   "source": [
    "df.isnull().any() # True when the attribute contains at least one missing value"
   ]
  },
  {
   "cell_type": "markdown",
   "metadata": {},
   "source": [
    "As previously discovered by the **info()** function, the columns *CustomerID* and *ProdDescr* are cofirmed to contain missing values.\n",
    "\n",
    "We will find the best strategy to treat them in the ***Data Cleaning*** section.\n",
    "\n",
    "####  Zero values\n",
    "Numerical attributes like *Qta* or *Sale* might also present missing values (i.e. represented by zero values): therefore, specific code needs to be written in order to check for these cases."
   ]
  },
  {
   "cell_type": "markdown",
   "metadata": {},
   "source": [
    "We now look for values equal to zero in both of the attributes and then we reason about their meaning, to understand if zeros  can be interpreted as \"missing\" or not."
   ]
  },
  {
   "cell_type": "code",
   "execution_count": 676,
   "metadata": {
    "pycharm": {
     "name": "#%%\n"
    }
   },
   "outputs": [
    {
     "data": {
      "text/plain": [
       "0"
      ]
     },
     "execution_count": 676,
     "metadata": {},
     "output_type": "execute_result"
    }
   ],
   "source": [
    "df.Qta.where(df['Qta'] == 0).count() #Zero values in Qta"
   ]
  },
  {
   "cell_type": "code",
   "execution_count": 677,
   "metadata": {
    "pycharm": {
     "name": "#%%\n"
    }
   },
   "outputs": [
    {
     "data": {
      "text/plain": [
       "1279"
      ]
     },
     "execution_count": 677,
     "metadata": {},
     "output_type": "execute_result"
    }
   ],
   "source": [
    "df.Sale.where(df['Sale'] == 0).count() #Zero values in Sale"
   ]
  },
  {
   "cell_type": "markdown",
   "metadata": {
    "pycharm": {
     "name": "#%% md\n"
    }
   },
   "source": [
    "The sales column has 1279 values equal to zero but, given the transactional\n",
    "nature of the dataset under examination, we believe that the aforementioned\n",
    "null values do retain a useful significance for the purposes of our analysis.\n",
    "\n",
    "Therefore, these values are not involved in the process of replacing\n",
    "missing values which instead will only involve the categorical attributes of the dataset.\n",
    "\n",
    "\n",
    "#### Addictional checks on categorical attributes \n",
    "\n",
    "***CustomerCountry***\n",
    "\n",
    "We compute a list of all the possible values of the *CustomerCountry* attribute."
   ]
  },
  {
   "cell_type": "code",
   "execution_count": 678,
   "metadata": {
    "pycharm": {
     "name": "#%%\n"
    }
   },
   "outputs": [
    {
     "data": {
      "text/plain": [
       "United Kingdom          426261\n",
       "Germany                   9495\n",
       "France                    8525\n",
       "EIRE                      7824\n",
       "Spain                     2533\n",
       "Netherlands               2371\n",
       "Belgium                   2069\n",
       "Switzerland               1932\n",
       "Portugal                  1495\n",
       "Australia                 1259\n",
       "Norway                    1086\n",
       "Italy                      803\n",
       "Channel Islands            758\n",
       "Finland                    695\n",
       "Cyprus                     622\n",
       "Sweden                     462\n",
       "Austria                    401\n",
       "Denmark                    389\n",
       "Japan                      358\n",
       "Poland                     341\n",
       "Unspecified                340\n",
       "USA                        291\n",
       "Israel                     269\n",
       "Singapore                  229\n",
       "Iceland                    182\n",
       "Canada                     151\n",
       "Greece                     146\n",
       "Hong Kong                  138\n",
       "Malta                      127\n",
       "United Arab Emirates        68\n",
       "European Community          61\n",
       "RSA                         58\n",
       "Lebanon                     45\n",
       "Lithuania                   35\n",
       "Brazil                      32\n",
       "Czech Republic              30\n",
       "Bahrain                     19\n",
       "Saudi Arabia                10\n",
       "Name: CustomerCountry, dtype: int64"
      ]
     },
     "execution_count": 678,
     "metadata": {},
     "output_type": "execute_result"
    }
   ],
   "source": [
    "df.CustomerCountry.value_counts()"
   ]
  },
  {
   "cell_type": "markdown",
   "metadata": {},
   "source": [
    "The value ***Unspecified*** is associated with 340 different records within the dataframe.\n",
    "Given the inherent ambiguity of the value we consider it a **strong candidate for a replacement** with values with a stronger statistical significance.\n",
    "\n",
    "Before committing to this decision, however, we check for the values within the *CustomerID* column of the records that present an \"Unspecified\" *CustomerCountry*.\n",
    "Other transactions from the same customers, here represented by other records with the same value for *CustomerID*, could display different, and less ambiguous, values as their *CustomerCountry*.\n",
    "\n",
    "We compute a list of all the values for CustomerID associated with records with an \"Unspecified\" *CustomerCountry*.\n"
   ]
  },
  {
   "cell_type": "code",
   "execution_count": 679,
   "metadata": {
    "pycharm": {
     "name": "#%%\n"
    }
   },
   "outputs": [
    {
     "data": {
      "text/plain": [
       "Float64Index([12743.0, 16320.0, 14265.0, 12363.0], dtype='float64')"
      ]
     },
     "execution_count": 679,
     "metadata": {},
     "output_type": "execute_result"
    }
   ],
   "source": [
    "unspecified_ids = df.loc[df.CustomerCountry == 'Unspecified'].CustomerID.value_counts()\n",
    "unspecified_ids.keys()"
   ]
  },
  {
   "cell_type": "markdown",
   "metadata": {
    "pycharm": {
     "name": "#%% md\n"
    }
   },
   "source": [
    "We now check for every value of *CustomerCountry* associated with said values of *CustomerID*."
   ]
  },
  {
   "cell_type": "code",
   "execution_count": 680,
   "metadata": {
    "pycharm": {
     "name": "#%%\n"
    }
   },
   "outputs": [
    {
     "data": {
      "text/plain": [
       "Unspecified    244\n",
       "Name: CustomerCountry, dtype: int64"
      ]
     },
     "execution_count": 680,
     "metadata": {},
     "output_type": "execute_result"
    }
   ],
   "source": [
    "df.loc[df.CustomerID.isin(unspecified_ids.keys())].CustomerCountry.value_counts()"
   ]
  },
  {
   "cell_type": "markdown",
   "metadata": {
    "pycharm": {
     "name": "#%% md\n"
    }
   },
   "source": [
    "None of the records we have referred to are associated with a CustomerCountry other than \"Unspecified\".\n",
    "This set of records therefore acts as an autonomous group.\n",
    "\n",
    "While it is still possible to replace the values in question with the more frequent value of this attribute (in this case United Kingdom), we believe it is more interesting to wait for the results of the clustering process in view of a hypothetical grouping with records coming from a specific country."
   ]
  },
  {
   "cell_type": "markdown",
   "metadata": {},
   "source": [
    "\n",
    "***ProID***\n",
    "\n",
    "We compute a list of all the possible values of the *ProdID* attribute."
   ]
  },
  {
   "cell_type": "code",
   "execution_count": 681,
   "metadata": {
    "pycharm": {
     "name": "#%%\n"
    }
   },
   "outputs": [
    {
     "data": {
      "text/plain": [
       "85123A    2191\n",
       "22423     2042\n",
       "85099B    1917\n",
       "47566     1569\n",
       "20725     1492\n",
       "          ... \n",
       "17028J       1\n",
       "35597B       1\n",
       "21431        1\n",
       "20954        1\n",
       "90037A       1\n",
       "Name: ProdID, Length: 3953, dtype: int64"
      ]
     },
     "execution_count": 681,
     "metadata": {},
     "output_type": "execute_result"
    }
   ],
   "source": [
    "df.ProdID.value_counts()"
   ]
  },
  {
   "cell_type": "markdown",
   "metadata": {},
   "source": [
    "The *ProdID* column presents 3953 unique values and this wide array of variety stands in the way of a deeper analysis of each single value."
   ]
  },
  {
   "cell_type": "markdown",
   "metadata": {
    "pycharm": {
     "name": "#%% md\n"
    }
   },
   "source": [
    "### Statistics & Variable Distribution\n",
    "#### Outlier detection\n",
    "\n",
    "The pandas function **describe()** is used to obtain basic statistical notion regarding the numerical attributes of the dataset."
   ]
  },
  {
   "cell_type": "code",
   "execution_count": 682,
   "metadata": {
    "pycharm": {
     "name": "#%%\n"
    }
   },
   "outputs": [
    {
     "data": {
      "text/html": [
       "<div>\n",
       "<style scoped>\n",
       "    .dataframe tbody tr th:only-of-type {\n",
       "        vertical-align: middle;\n",
       "    }\n",
       "\n",
       "    .dataframe tbody tr th {\n",
       "        vertical-align: top;\n",
       "    }\n",
       "\n",
       "    .dataframe thead th {\n",
       "        text-align: right;\n",
       "    }\n",
       "</style>\n",
       "<table border=\"1\" class=\"dataframe\">\n",
       "  <thead>\n",
       "    <tr style=\"text-align: right;\">\n",
       "      <th></th>\n",
       "      <th>Sale</th>\n",
       "      <th>CustomerID</th>\n",
       "      <th>Qta</th>\n",
       "    </tr>\n",
       "  </thead>\n",
       "  <tbody>\n",
       "    <tr>\n",
       "      <th>count</th>\n",
       "      <td>471910.00</td>\n",
       "      <td>406830.00</td>\n",
       "      <td>471910.00</td>\n",
       "    </tr>\n",
       "    <tr>\n",
       "      <th>mean</th>\n",
       "      <td>4.03</td>\n",
       "      <td>15287.68</td>\n",
       "      <td>10.72</td>\n",
       "    </tr>\n",
       "    <tr>\n",
       "      <th>std</th>\n",
       "      <td>83.77</td>\n",
       "      <td>1713.60</td>\n",
       "      <td>231.36</td>\n",
       "    </tr>\n",
       "    <tr>\n",
       "      <th>min</th>\n",
       "      <td>-11062.06</td>\n",
       "      <td>12346.00</td>\n",
       "      <td>-80995.00</td>\n",
       "    </tr>\n",
       "    <tr>\n",
       "      <th>25%</th>\n",
       "      <td>1.25</td>\n",
       "      <td>13953.00</td>\n",
       "      <td>1.00</td>\n",
       "    </tr>\n",
       "    <tr>\n",
       "      <th>50%</th>\n",
       "      <td>2.08</td>\n",
       "      <td>15152.00</td>\n",
       "      <td>4.00</td>\n",
       "    </tr>\n",
       "    <tr>\n",
       "      <th>75%</th>\n",
       "      <td>3.75</td>\n",
       "      <td>16791.00</td>\n",
       "      <td>12.00</td>\n",
       "    </tr>\n",
       "    <tr>\n",
       "      <th>max</th>\n",
       "      <td>38970.00</td>\n",
       "      <td>18287.00</td>\n",
       "      <td>80995.00</td>\n",
       "    </tr>\n",
       "  </tbody>\n",
       "</table>\n",
       "</div>"
      ],
      "text/plain": [
       "           Sale  CustomerID       Qta\n",
       "count 471910.00   406830.00 471910.00\n",
       "mean       4.03    15287.68     10.72\n",
       "std       83.77     1713.60    231.36\n",
       "min   -11062.06    12346.00 -80995.00\n",
       "25%        1.25    13953.00      1.00\n",
       "50%        2.08    15152.00      4.00\n",
       "75%        3.75    16791.00     12.00\n",
       "max    38970.00    18287.00  80995.00"
      ]
     },
     "execution_count": 682,
     "metadata": {},
     "output_type": "execute_result"
    }
   ],
   "source": [
    "pd.options.display.float_format = '{:.2f}'.format\n",
    "df.describe() # this function provides a summary of statistical informations"
   ]
  },
  {
   "cell_type": "markdown",
   "metadata": {},
   "source": [
    "The data provided by the function highlight:\n",
    "- the presence of **negative values** within both the *Sale* and *Qta* columns.\n",
    "- an high variance for both attributes, perhaps due to outliers (needs assessment via visualization).\n",
    "\n",
    "#### Interpretation of negative values\n",
    "\n",
    "**For *Sale* attribute**\n",
    "\n",
    "Negative values for *Qta* attribute may be interpreted as an error to fix, while for the attribute *Sale* can be interpreted as a refound.\n",
    "\n",
    "Now we are going to perform **addictional checks** to confirm or disprove this hypoteses and give the correct interpretation to negative values."
   ]
  },
  {
   "cell_type": "code",
   "execution_count": 683,
   "metadata": {},
   "outputs": [
    {
     "data": {
      "text/html": [
       "<div>\n",
       "<style scoped>\n",
       "    .dataframe tbody tr th:only-of-type {\n",
       "        vertical-align: middle;\n",
       "    }\n",
       "\n",
       "    .dataframe tbody tr th {\n",
       "        vertical-align: top;\n",
       "    }\n",
       "\n",
       "    .dataframe thead th {\n",
       "        text-align: right;\n",
       "    }\n",
       "</style>\n",
       "<table border=\"1\" class=\"dataframe\">\n",
       "  <thead>\n",
       "    <tr style=\"text-align: right;\">\n",
       "      <th></th>\n",
       "      <th>BasketID</th>\n",
       "      <th>BasketDate</th>\n",
       "      <th>Sale</th>\n",
       "      <th>CustomerID</th>\n",
       "      <th>CustomerCountry</th>\n",
       "      <th>ProdID</th>\n",
       "      <th>ProdDescr</th>\n",
       "      <th>Qta</th>\n",
       "    </tr>\n",
       "  </thead>\n",
       "  <tbody>\n",
       "    <tr>\n",
       "      <th>299983</th>\n",
       "      <td>A563186</td>\n",
       "      <td>12/08/11 14:51</td>\n",
       "      <td>-11062.06</td>\n",
       "      <td>nan</td>\n",
       "      <td>United Kingdom</td>\n",
       "      <td>B</td>\n",
       "      <td>Adjust bad debt</td>\n",
       "      <td>1</td>\n",
       "    </tr>\n",
       "    <tr>\n",
       "      <th>299984</th>\n",
       "      <td>A563187</td>\n",
       "      <td>12/08/11 14:52</td>\n",
       "      <td>-11062.06</td>\n",
       "      <td>nan</td>\n",
       "      <td>United Kingdom</td>\n",
       "      <td>B</td>\n",
       "      <td>Adjust bad debt</td>\n",
       "      <td>1</td>\n",
       "    </tr>\n",
       "  </tbody>\n",
       "</table>\n",
       "</div>"
      ],
      "text/plain": [
       "       BasketID      BasketDate      Sale  CustomerID CustomerCountry ProdID  \\\n",
       "299983  A563186  12/08/11 14:51 -11062.06         nan  United Kingdom      B   \n",
       "299984  A563187  12/08/11 14:52 -11062.06         nan  United Kingdom      B   \n",
       "\n",
       "              ProdDescr  Qta  \n",
       "299983  Adjust bad debt    1  \n",
       "299984  Adjust bad debt    1  "
      ]
     },
     "execution_count": 683,
     "metadata": {},
     "output_type": "execute_result"
    }
   ],
   "source": [
    "df[df['Sale'] < 0] #select records with negative sale"
   ]
  },
  {
   "cell_type": "markdown",
   "metadata": {},
   "source": [
    "The description in *ProdDescr* column confirms that it is a refound.\n",
    "\n",
    "In fact, according to the description associated with both records ( *ProdDescr* : \"Adjust bad dept\"), these transaction could be associated with some kind of refund operation.\n",
    "\n",
    "Anyway, the statistical significance that these two isolated cases have with respect to the analysis of the dataset in question is minimal if compared to the remaining amount of data. Considering these two records as **outliers**, could therefore **improve the total reliability of the tests** conducted subsequently on the rest of the dataset.\n",
    "\n",
    "The further discussion about removing them continues in the section ***Data Cleaning & Trasformation***."
   ]
  },
  {
   "cell_type": "markdown",
   "metadata": {},
   "source": [
    "**For *Qta* attribute**"
   ]
  },
  {
   "cell_type": "code",
   "execution_count": 684,
   "metadata": {},
   "outputs": [
    {
     "data": {
      "text/html": [
       "<div>\n",
       "<style scoped>\n",
       "    .dataframe tbody tr th:only-of-type {\n",
       "        vertical-align: middle;\n",
       "    }\n",
       "\n",
       "    .dataframe tbody tr th {\n",
       "        vertical-align: top;\n",
       "    }\n",
       "\n",
       "    .dataframe thead th {\n",
       "        text-align: right;\n",
       "    }\n",
       "</style>\n",
       "<table border=\"1\" class=\"dataframe\">\n",
       "  <thead>\n",
       "    <tr style=\"text-align: right;\">\n",
       "      <th></th>\n",
       "      <th>BasketID</th>\n",
       "      <th>BasketDate</th>\n",
       "      <th>Sale</th>\n",
       "      <th>CustomerID</th>\n",
       "      <th>CustomerCountry</th>\n",
       "      <th>ProdID</th>\n",
       "      <th>ProdDescr</th>\n",
       "      <th>Qta</th>\n",
       "    </tr>\n",
       "  </thead>\n",
       "  <tbody>\n",
       "    <tr>\n",
       "      <th>141</th>\n",
       "      <td>C536379</td>\n",
       "      <td>01/12/10 09:41</td>\n",
       "      <td>27.50</td>\n",
       "      <td>14527.00</td>\n",
       "      <td>United Kingdom</td>\n",
       "      <td>D</td>\n",
       "      <td>Discount</td>\n",
       "      <td>-1</td>\n",
       "    </tr>\n",
       "    <tr>\n",
       "      <th>154</th>\n",
       "      <td>C536383</td>\n",
       "      <td>01/12/10 09:49</td>\n",
       "      <td>4.65</td>\n",
       "      <td>15311.00</td>\n",
       "      <td>United Kingdom</td>\n",
       "      <td>35004C</td>\n",
       "      <td>SET OF 3 COLOURED  FLYING DUCKS</td>\n",
       "      <td>-1</td>\n",
       "    </tr>\n",
       "    <tr>\n",
       "      <th>235</th>\n",
       "      <td>C536391</td>\n",
       "      <td>01/12/10 10:24</td>\n",
       "      <td>1.65</td>\n",
       "      <td>17548.00</td>\n",
       "      <td>United Kingdom</td>\n",
       "      <td>22556</td>\n",
       "      <td>PLASTERS IN TIN CIRCUS PARADE</td>\n",
       "      <td>-12</td>\n",
       "    </tr>\n",
       "    <tr>\n",
       "      <th>236</th>\n",
       "      <td>C536391</td>\n",
       "      <td>01/12/10 10:24</td>\n",
       "      <td>0.29</td>\n",
       "      <td>17548.00</td>\n",
       "      <td>United Kingdom</td>\n",
       "      <td>21984</td>\n",
       "      <td>PACK OF 12 PINK PAISLEY TISSUES</td>\n",
       "      <td>-24</td>\n",
       "    </tr>\n",
       "    <tr>\n",
       "      <th>237</th>\n",
       "      <td>C536391</td>\n",
       "      <td>01/12/10 10:24</td>\n",
       "      <td>0.29</td>\n",
       "      <td>17548.00</td>\n",
       "      <td>United Kingdom</td>\n",
       "      <td>21983</td>\n",
       "      <td>PACK OF 12 BLUE PAISLEY TISSUES</td>\n",
       "      <td>-24</td>\n",
       "    </tr>\n",
       "    <tr>\n",
       "      <th>...</th>\n",
       "      <td>...</td>\n",
       "      <td>...</td>\n",
       "      <td>...</td>\n",
       "      <td>...</td>\n",
       "      <td>...</td>\n",
       "      <td>...</td>\n",
       "      <td>...</td>\n",
       "      <td>...</td>\n",
       "    </tr>\n",
       "    <tr>\n",
       "      <th>540449</th>\n",
       "      <td>C581490</td>\n",
       "      <td>09/12/11 09:57</td>\n",
       "      <td>0.83</td>\n",
       "      <td>14397.00</td>\n",
       "      <td>United Kingdom</td>\n",
       "      <td>23144</td>\n",
       "      <td>ZINC T-LIGHT HOLDER STARS SMALL</td>\n",
       "      <td>-11</td>\n",
       "    </tr>\n",
       "    <tr>\n",
       "      <th>541541</th>\n",
       "      <td>C581499</td>\n",
       "      <td>09/12/11 10:28</td>\n",
       "      <td>224.69</td>\n",
       "      <td>15498.00</td>\n",
       "      <td>United Kingdom</td>\n",
       "      <td>M</td>\n",
       "      <td>Manual</td>\n",
       "      <td>-1</td>\n",
       "    </tr>\n",
       "    <tr>\n",
       "      <th>541715</th>\n",
       "      <td>C581568</td>\n",
       "      <td>09/12/11 11:57</td>\n",
       "      <td>10.95</td>\n",
       "      <td>15311.00</td>\n",
       "      <td>United Kingdom</td>\n",
       "      <td>21258</td>\n",
       "      <td>VICTORIAN SEWING BOX LARGE</td>\n",
       "      <td>-5</td>\n",
       "    </tr>\n",
       "    <tr>\n",
       "      <th>541716</th>\n",
       "      <td>C581569</td>\n",
       "      <td>09/12/11 11:58</td>\n",
       "      <td>1.25</td>\n",
       "      <td>17315.00</td>\n",
       "      <td>United Kingdom</td>\n",
       "      <td>84978</td>\n",
       "      <td>HANGING HEART JAR T-LIGHT HOLDER</td>\n",
       "      <td>-1</td>\n",
       "    </tr>\n",
       "    <tr>\n",
       "      <th>541717</th>\n",
       "      <td>C581569</td>\n",
       "      <td>09/12/11 11:58</td>\n",
       "      <td>1.25</td>\n",
       "      <td>17315.00</td>\n",
       "      <td>United Kingdom</td>\n",
       "      <td>20979</td>\n",
       "      <td>36 PENCILS TUBE RED RETROSPOT</td>\n",
       "      <td>-5</td>\n",
       "    </tr>\n",
       "  </tbody>\n",
       "</table>\n",
       "<p>9752 rows × 8 columns</p>\n",
       "</div>"
      ],
      "text/plain": [
       "       BasketID      BasketDate   Sale  CustomerID CustomerCountry  ProdID  \\\n",
       "141     C536379  01/12/10 09:41  27.50    14527.00  United Kingdom       D   \n",
       "154     C536383  01/12/10 09:49   4.65    15311.00  United Kingdom  35004C   \n",
       "235     C536391  01/12/10 10:24   1.65    17548.00  United Kingdom   22556   \n",
       "236     C536391  01/12/10 10:24   0.29    17548.00  United Kingdom   21984   \n",
       "237     C536391  01/12/10 10:24   0.29    17548.00  United Kingdom   21983   \n",
       "...         ...             ...    ...         ...             ...     ...   \n",
       "540449  C581490  09/12/11 09:57   0.83    14397.00  United Kingdom   23144   \n",
       "541541  C581499  09/12/11 10:28 224.69    15498.00  United Kingdom       M   \n",
       "541715  C581568  09/12/11 11:57  10.95    15311.00  United Kingdom   21258   \n",
       "541716  C581569  09/12/11 11:58   1.25    17315.00  United Kingdom   84978   \n",
       "541717  C581569  09/12/11 11:58   1.25    17315.00  United Kingdom   20979   \n",
       "\n",
       "                               ProdDescr  Qta  \n",
       "141                             Discount   -1  \n",
       "154      SET OF 3 COLOURED  FLYING DUCKS   -1  \n",
       "235       PLASTERS IN TIN CIRCUS PARADE   -12  \n",
       "236     PACK OF 12 PINK PAISLEY TISSUES   -24  \n",
       "237     PACK OF 12 BLUE PAISLEY TISSUES   -24  \n",
       "...                                  ...  ...  \n",
       "540449   ZINC T-LIGHT HOLDER STARS SMALL  -11  \n",
       "541541                            Manual   -1  \n",
       "541715        VICTORIAN SEWING BOX LARGE   -5  \n",
       "541716  HANGING HEART JAR T-LIGHT HOLDER   -1  \n",
       "541717     36 PENCILS TUBE RED RETROSPOT   -5  \n",
       "\n",
       "[9752 rows x 8 columns]"
      ]
     },
     "execution_count": 684,
     "metadata": {},
     "output_type": "execute_result"
    }
   ],
   "source": [
    "df[df['Qta'] < 0] #select records with negative quantity"
   ]
  },
  {
   "cell_type": "code",
   "execution_count": 685,
   "metadata": {
    "pycharm": {
     "name": "#%%\n"
    }
   },
   "outputs": [
    {
     "data": {
      "text/plain": [
       "141                               Discount\n",
       "154        SET OF 3 COLOURED  FLYING DUCKS\n",
       "235         PLASTERS IN TIN CIRCUS PARADE \n",
       "236       PACK OF 12 PINK PAISLEY TISSUES \n",
       "237       PACK OF 12 BLUE PAISLEY TISSUES \n",
       "                        ...               \n",
       "540449     ZINC T-LIGHT HOLDER STARS SMALL\n",
       "541541                              Manual\n",
       "541715          VICTORIAN SEWING BOX LARGE\n",
       "541716    HANGING HEART JAR T-LIGHT HOLDER\n",
       "541717       36 PENCILS TUBE RED RETROSPOT\n",
       "Name: ProdDescr, Length: 9752, dtype: object"
      ]
     },
     "execution_count": 685,
     "metadata": {},
     "output_type": "execute_result"
    }
   ],
   "source": [
    "df[df.Qta < 0].ProdDescr"
   ]
  },
  {
   "cell_type": "markdown",
   "metadata": {
    "pycharm": {
     "name": "#%% md\n"
    }
   },
   "source": [
    "This time the records with a negative value for *Qta* are over 9000 and this amount does guarantee a stronger statistical relevance with respect to the analysis of the dataset.\n",
    "\n",
    "So this is not an error but maybe can be interpreted as items acquired from the company instead then sold.\n",
    "\n",
    "The values of *ProdDescr* associated with these records, however, don't provide any contextualization for the values of *Qta*.\n",
    "The best hypothesis remains that one of transactions during which the company acquired (and didn't sell) some asset from the customers."
   ]
  },
  {
   "cell_type": "markdown",
   "metadata": {},
   "source": [
    "**Addictional checks to find outliers**\n",
    "\n",
    "Now we print the highest values for *Sale* in order to see if we can find addictional outliers"
   ]
  },
  {
   "cell_type": "code",
   "execution_count": 686,
   "metadata": {},
   "outputs": [
    {
     "data": {
      "text/html": [
       "<div>\n",
       "<style scoped>\n",
       "    .dataframe tbody tr th:only-of-type {\n",
       "        vertical-align: middle;\n",
       "    }\n",
       "\n",
       "    .dataframe tbody tr th {\n",
       "        vertical-align: top;\n",
       "    }\n",
       "\n",
       "    .dataframe thead th {\n",
       "        text-align: right;\n",
       "    }\n",
       "</style>\n",
       "<table border=\"1\" class=\"dataframe\">\n",
       "  <thead>\n",
       "    <tr style=\"text-align: right;\">\n",
       "      <th></th>\n",
       "      <th>BasketID</th>\n",
       "      <th>BasketDate</th>\n",
       "      <th>Sale</th>\n",
       "      <th>CustomerID</th>\n",
       "      <th>CustomerCountry</th>\n",
       "      <th>ProdID</th>\n",
       "      <th>ProdDescr</th>\n",
       "      <th>Qta</th>\n",
       "    </tr>\n",
       "  </thead>\n",
       "  <tbody>\n",
       "    <tr>\n",
       "      <th>16356</th>\n",
       "      <td>C537651</td>\n",
       "      <td>07/12/10 15:49</td>\n",
       "      <td>13541.33</td>\n",
       "      <td>nan</td>\n",
       "      <td>United Kingdom</td>\n",
       "      <td>AMAZONFEE</td>\n",
       "      <td>AMAZON FEE</td>\n",
       "      <td>-1</td>\n",
       "    </tr>\n",
       "    <tr>\n",
       "      <th>43703</th>\n",
       "      <td>C540118</td>\n",
       "      <td>05/01/11 09:57</td>\n",
       "      <td>16453.71</td>\n",
       "      <td>nan</td>\n",
       "      <td>United Kingdom</td>\n",
       "      <td>AMAZONFEE</td>\n",
       "      <td>AMAZON FEE</td>\n",
       "      <td>-1</td>\n",
       "    </tr>\n",
       "    <tr>\n",
       "      <th>222681</th>\n",
       "      <td>C556445</td>\n",
       "      <td>10/06/11 15:31</td>\n",
       "      <td>38970.00</td>\n",
       "      <td>15098.00</td>\n",
       "      <td>United Kingdom</td>\n",
       "      <td>M</td>\n",
       "      <td>Manual</td>\n",
       "      <td>-1</td>\n",
       "    </tr>\n",
       "    <tr>\n",
       "      <th>524601</th>\n",
       "      <td>C580604</td>\n",
       "      <td>05/12/11 11:35</td>\n",
       "      <td>11586.50</td>\n",
       "      <td>nan</td>\n",
       "      <td>United Kingdom</td>\n",
       "      <td>AMAZONFEE</td>\n",
       "      <td>AMAZON FEE</td>\n",
       "      <td>-1</td>\n",
       "    </tr>\n",
       "  </tbody>\n",
       "</table>\n",
       "</div>"
      ],
      "text/plain": [
       "       BasketID      BasketDate     Sale  CustomerID CustomerCountry  \\\n",
       "16356   C537651  07/12/10 15:49 13541.33         nan  United Kingdom   \n",
       "43703   C540118  05/01/11 09:57 16453.71         nan  United Kingdom   \n",
       "222681  C556445  10/06/11 15:31 38970.00    15098.00  United Kingdom   \n",
       "524601  C580604  05/12/11 11:35 11586.50         nan  United Kingdom   \n",
       "\n",
       "           ProdID   ProdDescr  Qta  \n",
       "16356   AMAZONFEE  AMAZON FEE   -1  \n",
       "43703   AMAZONFEE  AMAZON FEE   -1  \n",
       "222681          M      Manual   -1  \n",
       "524601  AMAZONFEE  AMAZON FEE   -1  "
      ]
     },
     "execution_count": 686,
     "metadata": {},
     "output_type": "execute_result"
    }
   ],
   "source": [
    "df[df.Sale > 10000.00]"
   ]
  },
  {
   "cell_type": "markdown",
   "metadata": {},
   "source": [
    "# Data Preparation"
   ]
  },
  {
   "cell_type": "markdown",
   "metadata": {},
   "source": [
    "## Data Cleaning & Trasformation"
   ]
  },
  {
   "cell_type": "markdown",
   "metadata": {
    "pycharm": {
     "name": "#%% md\n"
    }
   },
   "source": [
    "\n",
    "Now we will replace the missing values for attributes *CustomerID* and *ProdDescr*, as anticipated in section ***Missing values detection***."
   ]
  },
  {
   "cell_type": "markdown",
   "metadata": {
    "pycharm": {
     "name": "#%% md\n"
    }
   },
   "source": [
    "### Replacing missing values\n",
    "**Replacing missing values of *CustomerID***\n",
    "\n",
    "The *CustomerID* column presents 65080 missing values."
   ]
  },
  {
   "cell_type": "code",
   "execution_count": 687,
   "metadata": {
    "pycharm": {
     "name": "#%%\n"
    }
   },
   "outputs": [
    {
     "data": {
      "text/plain": [
       "65080"
      ]
     },
     "execution_count": 687,
     "metadata": {},
     "output_type": "execute_result"
    }
   ],
   "source": [
    "df.CustomerID.isnull().sum()"
   ]
  },
  {
   "cell_type": "markdown",
   "metadata": {
    "pycharm": {
     "name": "#%% md\n"
    }
   },
   "source": [
    "In order to effectively replace said values, we select the most frequent IDs in a given *CustomerCountry* (the **mode** over a subset of the dataframe) as a substitute for the missing values from that region.\n",
    "\n",
    "These are the most frequent CustomerID for each *CustomerCountry*:"
   ]
  },
  {
   "cell_type": "code",
   "execution_count": 688,
   "metadata": {
    "pycharm": {
     "name": "#%%\n"
    }
   },
   "outputs": [
    {
     "name": "stdout",
     "output_type": "stream",
     "text": [
      "CustomerCountry\n",
      "Australia              12415.00\n",
      "Austria                12360.00\n",
      "Bahrain                12355.00\n",
      "Belgium                12362.00\n",
      "Brazil                 12769.00\n",
      "Canada                 17444.00\n",
      "Channel Islands        14936.00\n",
      "Cyprus                 12359.00\n",
      "Czech Republic         12781.00\n",
      "Denmark                12406.00\n",
      "EIRE                   14911.00\n",
      "European Community     15108.00\n",
      "Finland                12428.00\n",
      "France                 12681.00\n",
      "Germany                12471.00\n",
      "Greece                 12717.00\n",
      "Hong Kong                    []\n",
      "Iceland                12347.00\n",
      "Israel                 12688.00\n",
      "Italy                  12584.00\n",
      "Japan                  12753.00\n",
      "Lebanon                12764.00\n",
      "Lithuania              15332.00\n",
      "Malta                  17828.00\n",
      "Netherlands            14646.00\n",
      "Norway                 12433.00\n",
      "Poland                 12779.00\n",
      "Portugal               12757.00\n",
      "RSA                    12446.00\n",
      "Saudi Arabia           12565.00\n",
      "Singapore              12744.00\n",
      "Spain                  12540.00\n",
      "Sweden                 17404.00\n",
      "Switzerland            12451.00\n",
      "USA                    12607.00\n",
      "United Arab Emirates   12739.00\n",
      "United Kingdom         17841.00\n",
      "Unspecified            12743.00\n",
      "Name: CustomerID, dtype: object\n"
     ]
    }
   ],
   "source": [
    "country_mode = df.groupby(['CustomerCountry']).agg(lambda x:x.mode()).CustomerID\n",
    "print(country_mode)"
   ]
  },
  {
   "cell_type": "markdown",
   "metadata": {
    "pycharm": {
     "name": "#%% md\n"
    }
   },
   "source": [
    "No CustomerID is associated with any of the records with *CustomerCountry* equals to \"Hong Kong\". For the sake of replacing these empty values **we craft a custom CustomerID and add it** to the aforementioned list."
   ]
  },
  {
   "cell_type": "code",
   "execution_count": 689,
   "metadata": {},
   "outputs": [
    {
     "data": {
      "text/plain": [
       "18287.0"
      ]
     },
     "execution_count": 689,
     "metadata": {},
     "output_type": "execute_result"
    }
   ],
   "source": [
    "df.CustomerID.max()"
   ]
  },
  {
   "cell_type": "code",
   "execution_count": 690,
   "metadata": {
    "pycharm": {
     "name": "#%%\n"
    }
   },
   "outputs": [
    {
     "data": {
      "text/plain": [
       "18288.0"
      ]
     },
     "execution_count": 690,
     "metadata": {},
     "output_type": "execute_result"
    }
   ],
   "source": [
    "country_mode[\"Hong Kong\"] = df.CustomerID.max()+1\n",
    "country_mode[\"Hong Kong\"]"
   ]
  },
  {
   "cell_type": "markdown",
   "metadata": {
    "pycharm": {
     "name": "#%% md\n"
    }
   },
   "source": [
    "Now we substitute each missing value with the corresponding element from the list."
   ]
  },
  {
   "cell_type": "code",
   "execution_count": 691,
   "metadata": {
    "pycharm": {
     "name": "#%%\n"
    }
   },
   "outputs": [],
   "source": [
    "#We replace the missing values from CustomerID with the elements from country_mode\n",
    "df['CustomerID'] = df.apply(\n",
    "    lambda row: country_mode[row['CustomerCountry']] if pd.isnull(row['CustomerID']) else row['CustomerID'],\n",
    "    axis=1\n",
    ")"
   ]
  },
  {
   "cell_type": "markdown",
   "metadata": {
    "pycharm": {
     "name": "#%% md\n"
    }
   },
   "source": [
    "After the process the number of missing values is down to zero."
   ]
  },
  {
   "cell_type": "code",
   "execution_count": 692,
   "metadata": {
    "pycharm": {
     "name": "#%%\n"
    }
   },
   "outputs": [
    {
     "data": {
      "text/plain": [
       "0"
      ]
     },
     "execution_count": 692,
     "metadata": {},
     "output_type": "execute_result"
    }
   ],
   "source": [
    "df.CustomerID.isnull().sum() "
   ]
  },
  {
   "cell_type": "markdown",
   "metadata": {},
   "source": [
    "**Necessario ???**\n",
    "\n",
    "Now that we have replaced all the missing values for *CustomerID*, we can convert them to float (or even integer) type, as anticipated in section **DS-B**."
   ]
  },
  {
   "cell_type": "code",
   "execution_count": 693,
   "metadata": {},
   "outputs": [
    {
     "data": {
      "text/plain": [
       "dtype('float64')"
      ]
     },
     "execution_count": 693,
     "metadata": {},
     "output_type": "execute_result"
    }
   ],
   "source": [
    "df.CustomerID.dtype"
   ]
  },
  {
   "cell_type": "code",
   "execution_count": 694,
   "metadata": {},
   "outputs": [
    {
     "data": {
      "text/plain": [
       "0   17850.00\n",
       "1   17850.00\n",
       "2   17850.00\n",
       "3   17850.00\n",
       "4   17850.00\n",
       "Name: CustomerID, dtype: float64"
      ]
     },
     "execution_count": 694,
     "metadata": {},
     "output_type": "execute_result"
    }
   ],
   "source": [
    "df.CustomerID = df.CustomerID.astype(float) \n",
    "df.CustomerID.head()"
   ]
  },
  {
   "cell_type": "code",
   "execution_count": 695,
   "metadata": {},
   "outputs": [
    {
     "data": {
      "text/plain": [
       "0    17850\n",
       "1    17850\n",
       "2    17850\n",
       "3    17850\n",
       "4    17850\n",
       "Name: CustomerID, dtype: int32"
      ]
     },
     "execution_count": 695,
     "metadata": {},
     "output_type": "execute_result"
    }
   ],
   "source": [
    "df.CustomerID = df.CustomerID.astype(int) \n",
    "df.CustomerID.head()"
   ]
  },
  {
   "cell_type": "markdown",
   "metadata": {},
   "source": [
    "Addictional check to the dataset:"
   ]
  },
  {
   "cell_type": "code",
   "execution_count": 696,
   "metadata": {},
   "outputs": [
    {
     "data": {
      "text/plain": [
       "BasketID            object\n",
       "BasketDate          object\n",
       "Sale               float64\n",
       "CustomerID           int32\n",
       "CustomerCountry     object\n",
       "ProdID              object\n",
       "ProdDescr           object\n",
       "Qta                  int64\n",
       "dtype: object"
      ]
     },
     "execution_count": 696,
     "metadata": {},
     "output_type": "execute_result"
    }
   ],
   "source": [
    "df.dtypes"
   ]
  },
  {
   "cell_type": "markdown",
   "metadata": {
    "pycharm": {
     "name": "#%% md\n"
    }
   },
   "source": [
    "**Replacing missing values of *ProdDescr***"
   ]
  },
  {
   "cell_type": "markdown",
   "metadata": {},
   "source": [
    "Since the dataset contains **ordered data**, each **sequential record / transaction** (indicated by *BasketID*) involves a set of items, described in the attribute *ProdDescr*.\n",
    "The set of products purchased by a customer during one shopping trip constitute exactly a transaction (or 'session')."
   ]
  },
  {
   "cell_type": "markdown",
   "metadata": {},
   "source": [
    "### Removing outliers\n",
    "We now drop the two records with negative values for *Sale*, found in section ***Outliers detection***."
   ]
  },
  {
   "cell_type": "code",
   "execution_count": 697,
   "metadata": {},
   "outputs": [
    {
     "data": {
      "text/html": [
       "<div>\n",
       "<style scoped>\n",
       "    .dataframe tbody tr th:only-of-type {\n",
       "        vertical-align: middle;\n",
       "    }\n",
       "\n",
       "    .dataframe tbody tr th {\n",
       "        vertical-align: top;\n",
       "    }\n",
       "\n",
       "    .dataframe thead th {\n",
       "        text-align: right;\n",
       "    }\n",
       "</style>\n",
       "<table border=\"1\" class=\"dataframe\">\n",
       "  <thead>\n",
       "    <tr style=\"text-align: right;\">\n",
       "      <th></th>\n",
       "      <th>BasketID</th>\n",
       "      <th>BasketDate</th>\n",
       "      <th>Sale</th>\n",
       "      <th>CustomerID</th>\n",
       "      <th>CustomerCountry</th>\n",
       "      <th>ProdID</th>\n",
       "      <th>ProdDescr</th>\n",
       "      <th>Qta</th>\n",
       "    </tr>\n",
       "  </thead>\n",
       "  <tbody>\n",
       "    <tr>\n",
       "      <th>299983</th>\n",
       "      <td>A563186</td>\n",
       "      <td>12/08/11 14:51</td>\n",
       "      <td>-11062.06</td>\n",
       "      <td>17841</td>\n",
       "      <td>United Kingdom</td>\n",
       "      <td>B</td>\n",
       "      <td>Adjust bad debt</td>\n",
       "      <td>1</td>\n",
       "    </tr>\n",
       "    <tr>\n",
       "      <th>299984</th>\n",
       "      <td>A563187</td>\n",
       "      <td>12/08/11 14:52</td>\n",
       "      <td>-11062.06</td>\n",
       "      <td>17841</td>\n",
       "      <td>United Kingdom</td>\n",
       "      <td>B</td>\n",
       "      <td>Adjust bad debt</td>\n",
       "      <td>1</td>\n",
       "    </tr>\n",
       "  </tbody>\n",
       "</table>\n",
       "</div>"
      ],
      "text/plain": [
       "       BasketID      BasketDate      Sale  CustomerID CustomerCountry ProdID  \\\n",
       "299983  A563186  12/08/11 14:51 -11062.06       17841  United Kingdom      B   \n",
       "299984  A563187  12/08/11 14:52 -11062.06       17841  United Kingdom      B   \n",
       "\n",
       "              ProdDescr  Qta  \n",
       "299983  Adjust bad debt    1  \n",
       "299984  Adjust bad debt    1  "
      ]
     },
     "execution_count": 697,
     "metadata": {},
     "output_type": "execute_result"
    }
   ],
   "source": [
    "df[df['Sale'] < 0] #select records with negative sale"
   ]
  },
  {
   "cell_type": "code",
   "execution_count": 698,
   "metadata": {},
   "outputs": [],
   "source": [
    "df = df.drop([299983,299984])"
   ]
  },
  {
   "cell_type": "markdown",
   "metadata": {},
   "source": [
    "Printing again the statistics of the dataset, we can see that values for *Sale* attribute are less sparse."
   ]
  },
  {
   "cell_type": "code",
   "execution_count": 699,
   "metadata": {},
   "outputs": [
    {
     "data": {
      "text/html": [
       "<div>\n",
       "<style scoped>\n",
       "    .dataframe tbody tr th:only-of-type {\n",
       "        vertical-align: middle;\n",
       "    }\n",
       "\n",
       "    .dataframe tbody tr th {\n",
       "        vertical-align: top;\n",
       "    }\n",
       "\n",
       "    .dataframe thead th {\n",
       "        text-align: right;\n",
       "    }\n",
       "</style>\n",
       "<table border=\"1\" class=\"dataframe\">\n",
       "  <thead>\n",
       "    <tr style=\"text-align: right;\">\n",
       "      <th></th>\n",
       "      <th>Sale</th>\n",
       "      <th>CustomerID</th>\n",
       "      <th>Qta</th>\n",
       "    </tr>\n",
       "  </thead>\n",
       "  <tbody>\n",
       "    <tr>\n",
       "      <th>count</th>\n",
       "      <td>471908.00</td>\n",
       "      <td>471908.00</td>\n",
       "      <td>471908.00</td>\n",
       "    </tr>\n",
       "    <tr>\n",
       "      <th>mean</th>\n",
       "      <td>4.08</td>\n",
       "      <td>15635.40</td>\n",
       "      <td>10.72</td>\n",
       "    </tr>\n",
       "    <tr>\n",
       "      <th>std</th>\n",
       "      <td>80.61</td>\n",
       "      <td>1818.24</td>\n",
       "      <td>231.36</td>\n",
       "    </tr>\n",
       "    <tr>\n",
       "      <th>min</th>\n",
       "      <td>0.00</td>\n",
       "      <td>12346.00</td>\n",
       "      <td>-80995.00</td>\n",
       "    </tr>\n",
       "    <tr>\n",
       "      <th>25%</th>\n",
       "      <td>1.25</td>\n",
       "      <td>14099.00</td>\n",
       "      <td>1.00</td>\n",
       "    </tr>\n",
       "    <tr>\n",
       "      <th>50%</th>\n",
       "      <td>2.08</td>\n",
       "      <td>15658.00</td>\n",
       "      <td>4.00</td>\n",
       "    </tr>\n",
       "    <tr>\n",
       "      <th>75%</th>\n",
       "      <td>3.75</td>\n",
       "      <td>17557.00</td>\n",
       "      <td>12.00</td>\n",
       "    </tr>\n",
       "    <tr>\n",
       "      <th>max</th>\n",
       "      <td>38970.00</td>\n",
       "      <td>18288.00</td>\n",
       "      <td>80995.00</td>\n",
       "    </tr>\n",
       "  </tbody>\n",
       "</table>\n",
       "</div>"
      ],
      "text/plain": [
       "           Sale  CustomerID       Qta\n",
       "count 471908.00   471908.00 471908.00\n",
       "mean       4.08    15635.40     10.72\n",
       "std       80.61     1818.24    231.36\n",
       "min        0.00    12346.00 -80995.00\n",
       "25%        1.25    14099.00      1.00\n",
       "50%        2.08    15658.00      4.00\n",
       "75%        3.75    17557.00     12.00\n",
       "max    38970.00    18288.00  80995.00"
      ]
     },
     "execution_count": 699,
     "metadata": {},
     "output_type": "execute_result"
    }
   ],
   "source": [
    "pd.options.display.float_format = '{:.2f}'.format\n",
    "df.describe() # this function provides a summary of statistical informations"
   ]
  },
  {
   "cell_type": "markdown",
   "metadata": {},
   "source": [
    "### Data Normalization\n",
    "#### Min-Max approach\n",
    "The \"min-max feature scaling\" rescales the feature to a fixed range of [0,1] by subtracting the minimum value of the feature and then dividing by the range. \n",
    "\n",
    "\\* *Alternatively, we can use the MinMaxScaler class available in the Scikit-learn library.*"
   ]
  },
  {
   "cell_type": "code",
   "execution_count": 700,
   "metadata": {},
   "outputs": [
    {
     "data": {
      "text/html": [
       "<div>\n",
       "<style scoped>\n",
       "    .dataframe tbody tr th:only-of-type {\n",
       "        vertical-align: middle;\n",
       "    }\n",
       "\n",
       "    .dataframe tbody tr th {\n",
       "        vertical-align: top;\n",
       "    }\n",
       "\n",
       "    .dataframe thead th {\n",
       "        text-align: right;\n",
       "    }\n",
       "</style>\n",
       "<table border=\"1\" class=\"dataframe\">\n",
       "  <thead>\n",
       "    <tr style=\"text-align: right;\">\n",
       "      <th></th>\n",
       "      <th>BasketID</th>\n",
       "      <th>BasketDate</th>\n",
       "      <th>Sale</th>\n",
       "      <th>CustomerID</th>\n",
       "      <th>CustomerCountry</th>\n",
       "      <th>ProdID</th>\n",
       "      <th>ProdDescr</th>\n",
       "      <th>Qta</th>\n",
       "    </tr>\n",
       "  </thead>\n",
       "  <tbody>\n",
       "    <tr>\n",
       "      <th>0</th>\n",
       "      <td>536365</td>\n",
       "      <td>01/12/10 08:26</td>\n",
       "      <td>2.55</td>\n",
       "      <td>17850</td>\n",
       "      <td>United Kingdom</td>\n",
       "      <td>85123A</td>\n",
       "      <td>WHITE HANGING HEART T-LIGHT HOLDER</td>\n",
       "      <td>6</td>\n",
       "    </tr>\n",
       "    <tr>\n",
       "      <th>1</th>\n",
       "      <td>536365</td>\n",
       "      <td>01/12/10 08:26</td>\n",
       "      <td>3.39</td>\n",
       "      <td>17850</td>\n",
       "      <td>United Kingdom</td>\n",
       "      <td>71053</td>\n",
       "      <td>WHITE METAL LANTERN</td>\n",
       "      <td>6</td>\n",
       "    </tr>\n",
       "    <tr>\n",
       "      <th>2</th>\n",
       "      <td>536365</td>\n",
       "      <td>01/12/10 08:26</td>\n",
       "      <td>2.75</td>\n",
       "      <td>17850</td>\n",
       "      <td>United Kingdom</td>\n",
       "      <td>84406B</td>\n",
       "      <td>CREAM CUPID HEARTS COAT HANGER</td>\n",
       "      <td>8</td>\n",
       "    </tr>\n",
       "    <tr>\n",
       "      <th>3</th>\n",
       "      <td>536365</td>\n",
       "      <td>01/12/10 08:26</td>\n",
       "      <td>3.39</td>\n",
       "      <td>17850</td>\n",
       "      <td>United Kingdom</td>\n",
       "      <td>84029G</td>\n",
       "      <td>KNITTED UNION FLAG HOT WATER BOTTLE</td>\n",
       "      <td>6</td>\n",
       "    </tr>\n",
       "    <tr>\n",
       "      <th>4</th>\n",
       "      <td>536365</td>\n",
       "      <td>01/12/10 08:26</td>\n",
       "      <td>3.39</td>\n",
       "      <td>17850</td>\n",
       "      <td>United Kingdom</td>\n",
       "      <td>84029E</td>\n",
       "      <td>RED WOOLLY HOTTIE WHITE HEART.</td>\n",
       "      <td>6</td>\n",
       "    </tr>\n",
       "    <tr>\n",
       "      <th>...</th>\n",
       "      <td>...</td>\n",
       "      <td>...</td>\n",
       "      <td>...</td>\n",
       "      <td>...</td>\n",
       "      <td>...</td>\n",
       "      <td>...</td>\n",
       "      <td>...</td>\n",
       "      <td>...</td>\n",
       "    </tr>\n",
       "    <tr>\n",
       "      <th>541905</th>\n",
       "      <td>581587</td>\n",
       "      <td>09/12/11 12:50</td>\n",
       "      <td>2.10</td>\n",
       "      <td>12680</td>\n",
       "      <td>France</td>\n",
       "      <td>22899</td>\n",
       "      <td>CHILDREN'S APRON DOLLY GIRL</td>\n",
       "      <td>6</td>\n",
       "    </tr>\n",
       "    <tr>\n",
       "      <th>541906</th>\n",
       "      <td>581587</td>\n",
       "      <td>09/12/11 12:50</td>\n",
       "      <td>4.15</td>\n",
       "      <td>12680</td>\n",
       "      <td>France</td>\n",
       "      <td>23254</td>\n",
       "      <td>CHILDRENS CUTLERY DOLLY GIRL</td>\n",
       "      <td>4</td>\n",
       "    </tr>\n",
       "    <tr>\n",
       "      <th>541907</th>\n",
       "      <td>581587</td>\n",
       "      <td>09/12/11 12:50</td>\n",
       "      <td>4.15</td>\n",
       "      <td>12680</td>\n",
       "      <td>France</td>\n",
       "      <td>23255</td>\n",
       "      <td>CHILDRENS CUTLERY CIRCUS PARADE</td>\n",
       "      <td>4</td>\n",
       "    </tr>\n",
       "    <tr>\n",
       "      <th>541908</th>\n",
       "      <td>581587</td>\n",
       "      <td>09/12/11 12:50</td>\n",
       "      <td>4.95</td>\n",
       "      <td>12680</td>\n",
       "      <td>France</td>\n",
       "      <td>22138</td>\n",
       "      <td>BAKING SET 9 PIECE RETROSPOT</td>\n",
       "      <td>3</td>\n",
       "    </tr>\n",
       "    <tr>\n",
       "      <th>541909</th>\n",
       "      <td>581587</td>\n",
       "      <td>09/12/11 12:50</td>\n",
       "      <td>18.00</td>\n",
       "      <td>12680</td>\n",
       "      <td>France</td>\n",
       "      <td>POST</td>\n",
       "      <td>POSTAGE</td>\n",
       "      <td>1</td>\n",
       "    </tr>\n",
       "  </tbody>\n",
       "</table>\n",
       "<p>471908 rows × 8 columns</p>\n",
       "</div>"
      ],
      "text/plain": [
       "       BasketID      BasketDate  Sale  CustomerID CustomerCountry  ProdID  \\\n",
       "0        536365  01/12/10 08:26  2.55       17850  United Kingdom  85123A   \n",
       "1        536365  01/12/10 08:26  3.39       17850  United Kingdom   71053   \n",
       "2        536365  01/12/10 08:26  2.75       17850  United Kingdom  84406B   \n",
       "3        536365  01/12/10 08:26  3.39       17850  United Kingdom  84029G   \n",
       "4        536365  01/12/10 08:26  3.39       17850  United Kingdom  84029E   \n",
       "...         ...             ...   ...         ...             ...     ...   \n",
       "541905   581587  09/12/11 12:50  2.10       12680          France   22899   \n",
       "541906   581587  09/12/11 12:50  4.15       12680          France   23254   \n",
       "541907   581587  09/12/11 12:50  4.15       12680          France   23255   \n",
       "541908   581587  09/12/11 12:50  4.95       12680          France   22138   \n",
       "541909   581587  09/12/11 12:50 18.00       12680          France    POST   \n",
       "\n",
       "                                  ProdDescr  Qta  \n",
       "0        WHITE HANGING HEART T-LIGHT HOLDER    6  \n",
       "1                       WHITE METAL LANTERN    6  \n",
       "2            CREAM CUPID HEARTS COAT HANGER    8  \n",
       "3       KNITTED UNION FLAG HOT WATER BOTTLE    6  \n",
       "4            RED WOOLLY HOTTIE WHITE HEART.    6  \n",
       "...                                     ...  ...  \n",
       "541905         CHILDREN'S APRON DOLLY GIRL     6  \n",
       "541906        CHILDRENS CUTLERY DOLLY GIRL     4  \n",
       "541907      CHILDRENS CUTLERY CIRCUS PARADE    4  \n",
       "541908        BAKING SET 9 PIECE RETROSPOT     3  \n",
       "541909                              POSTAGE    1  \n",
       "\n",
       "[471908 rows x 8 columns]"
      ]
     },
     "execution_count": 700,
     "metadata": {},
     "output_type": "execute_result"
    }
   ],
   "source": [
    "# apply the min-max scaling in Pandas using the .min() and .max() methods\n",
    "def min_max_scaling(df):\n",
    "    # copy the dataframe\n",
    "    df_norm = df.copy()\n",
    "    # apply min-max scaling\n",
    "    for column in df_norm.columns:\n",
    "        if ((column == float)):\n",
    "            df_norm[column] = (df_norm[column] - df_norm[column].min()) / (df_norm[column].max() - df_norm[column].min())\n",
    "        \n",
    "    return df_norm\n",
    "    \n",
    "# call the min_max_scaling function\n",
    "df_normalized = min_max_scaling(df)\n",
    "\n",
    "df_normalized"
   ]
  },
  {
   "cell_type": "markdown",
   "metadata": {},
   "source": [
    "\n",
    "### Correlation\n",
    "\n",
    "We measure the correlation between the (numerical) attributes of the dataset."
   ]
  },
  {
   "cell_type": "code",
   "execution_count": 701,
   "metadata": {
    "pycharm": {
     "name": "#%%\n"
    }
   },
   "outputs": [
    {
     "data": {
      "text/html": [
       "<div>\n",
       "<style scoped>\n",
       "    .dataframe tbody tr th:only-of-type {\n",
       "        vertical-align: middle;\n",
       "    }\n",
       "\n",
       "    .dataframe tbody tr th {\n",
       "        vertical-align: top;\n",
       "    }\n",
       "\n",
       "    .dataframe thead th {\n",
       "        text-align: right;\n",
       "    }\n",
       "</style>\n",
       "<table border=\"1\" class=\"dataframe\">\n",
       "  <thead>\n",
       "    <tr style=\"text-align: right;\">\n",
       "      <th></th>\n",
       "      <th>Sale</th>\n",
       "      <th>CustomerID</th>\n",
       "      <th>Qta</th>\n",
       "    </tr>\n",
       "  </thead>\n",
       "  <tbody>\n",
       "    <tr>\n",
       "      <th>Sale</th>\n",
       "      <td>1.00</td>\n",
       "      <td>0.01</td>\n",
       "      <td>-0.00</td>\n",
       "    </tr>\n",
       "    <tr>\n",
       "      <th>CustomerID</th>\n",
       "      <td>0.01</td>\n",
       "      <td>1.00</td>\n",
       "      <td>-0.01</td>\n",
       "    </tr>\n",
       "    <tr>\n",
       "      <th>Qta</th>\n",
       "      <td>-0.00</td>\n",
       "      <td>-0.01</td>\n",
       "      <td>1.00</td>\n",
       "    </tr>\n",
       "  </tbody>\n",
       "</table>\n",
       "</div>"
      ],
      "text/plain": [
       "            Sale  CustomerID   Qta\n",
       "Sale        1.00        0.01 -0.00\n",
       "CustomerID  0.01        1.00 -0.01\n",
       "Qta        -0.00       -0.01  1.00"
      ]
     },
     "execution_count": 701,
     "metadata": {},
     "output_type": "execute_result"
    }
   ],
   "source": [
    "df.corr() #method : {‘pearson’, ‘kendall’, ‘spearman’}\n",
    "# Pay attention! Boolean values can be wrongly treated as integers (values 0 & 1)"
   ]
  },
  {
   "cell_type": "markdown",
   "metadata": {},
   "source": [
    "The **corr()** function from pandas computes the **pearson correlation** by default but other methods can be specified through the arguments of the function."
   ]
  },
  {
   "cell_type": "code",
   "execution_count": 702,
   "metadata": {
    "pycharm": {
     "name": "#%%\n"
    }
   },
   "outputs": [
    {
     "data": {
      "text/html": [
       "<div>\n",
       "<style scoped>\n",
       "    .dataframe tbody tr th:only-of-type {\n",
       "        vertical-align: middle;\n",
       "    }\n",
       "\n",
       "    .dataframe tbody tr th {\n",
       "        vertical-align: top;\n",
       "    }\n",
       "\n",
       "    .dataframe thead th {\n",
       "        text-align: right;\n",
       "    }\n",
       "</style>\n",
       "<table border=\"1\" class=\"dataframe\">\n",
       "  <thead>\n",
       "    <tr style=\"text-align: right;\">\n",
       "      <th></th>\n",
       "      <th>Sale</th>\n",
       "      <th>CustomerID</th>\n",
       "      <th>Qta</th>\n",
       "    </tr>\n",
       "  </thead>\n",
       "  <tbody>\n",
       "    <tr>\n",
       "      <th>Sale</th>\n",
       "      <td>1.00</td>\n",
       "      <td>0.05</td>\n",
       "      <td>-0.30</td>\n",
       "    </tr>\n",
       "    <tr>\n",
       "      <th>CustomerID</th>\n",
       "      <td>0.05</td>\n",
       "      <td>1.00</td>\n",
       "      <td>-0.19</td>\n",
       "    </tr>\n",
       "    <tr>\n",
       "      <th>Qta</th>\n",
       "      <td>-0.30</td>\n",
       "      <td>-0.19</td>\n",
       "      <td>1.00</td>\n",
       "    </tr>\n",
       "  </tbody>\n",
       "</table>\n",
       "</div>"
      ],
      "text/plain": [
       "            Sale  CustomerID   Qta\n",
       "Sale        1.00        0.05 -0.30\n",
       "CustomerID  0.05        1.00 -0.19\n",
       "Qta        -0.30       -0.19  1.00"
      ]
     },
     "execution_count": 702,
     "metadata": {},
     "output_type": "execute_result"
    }
   ],
   "source": [
    "df.corr(method='kendall')"
   ]
  },
  {
   "cell_type": "code",
   "execution_count": 703,
   "metadata": {
    "pycharm": {
     "name": "#%%\n"
    }
   },
   "outputs": [
    {
     "data": {
      "text/html": [
       "<div>\n",
       "<style scoped>\n",
       "    .dataframe tbody tr th:only-of-type {\n",
       "        vertical-align: middle;\n",
       "    }\n",
       "\n",
       "    .dataframe tbody tr th {\n",
       "        vertical-align: top;\n",
       "    }\n",
       "\n",
       "    .dataframe thead th {\n",
       "        text-align: right;\n",
       "    }\n",
       "</style>\n",
       "<table border=\"1\" class=\"dataframe\">\n",
       "  <thead>\n",
       "    <tr style=\"text-align: right;\">\n",
       "      <th></th>\n",
       "      <th>Sale</th>\n",
       "      <th>CustomerID</th>\n",
       "      <th>Qta</th>\n",
       "    </tr>\n",
       "  </thead>\n",
       "  <tbody>\n",
       "    <tr>\n",
       "      <th>Sale</th>\n",
       "      <td>1.00</td>\n",
       "      <td>0.07</td>\n",
       "      <td>-0.40</td>\n",
       "    </tr>\n",
       "    <tr>\n",
       "      <th>CustomerID</th>\n",
       "      <td>0.07</td>\n",
       "      <td>1.00</td>\n",
       "      <td>-0.27</td>\n",
       "    </tr>\n",
       "    <tr>\n",
       "      <th>Qta</th>\n",
       "      <td>-0.40</td>\n",
       "      <td>-0.27</td>\n",
       "      <td>1.00</td>\n",
       "    </tr>\n",
       "  </tbody>\n",
       "</table>\n",
       "</div>"
      ],
      "text/plain": [
       "            Sale  CustomerID   Qta\n",
       "Sale        1.00        0.07 -0.40\n",
       "CustomerID  0.07        1.00 -0.27\n",
       "Qta        -0.40       -0.27  1.00"
      ]
     },
     "execution_count": 703,
     "metadata": {},
     "output_type": "execute_result"
    }
   ],
   "source": [
    "df.corr(method='spearman')"
   ]
  },
  {
   "cell_type": "markdown",
   "metadata": {},
   "source": [
    "(COMMENTS ON CORRELATION)\n"
   ]
  },
  {
   "cell_type": "markdown",
   "metadata": {},
   "source": [
    "# Data Visualization (plots)"
   ]
  },
  {
   "cell_type": "markdown",
   "metadata": {},
   "source": [
    "   ### (Grafici non relativi a periodi di tempo)\n",
    "   "
   ]
  },
  {
   "cell_type": "markdown",
   "metadata": {},
   "source": [
    "#### Shopping sessions\n",
    "\n",
    "How many shopping sessions for each country"
   ]
  },
  {
   "cell_type": "code",
   "execution_count": 704,
   "metadata": {},
   "outputs": [
    {
     "name": "stdout",
     "output_type": "stream",
     "text": [
      "Country \t Number of sessions\n"
     ]
    },
    {
     "data": {
      "text/plain": [
       "CustomerCountry\n",
       "Saudi Arabia                10\n",
       "Bahrain                     19\n",
       "Czech Republic              30\n",
       "Brazil                      32\n",
       "Lithuania                   35\n",
       "Lebanon                     45\n",
       "RSA                         58\n",
       "European Community          61\n",
       "United Arab Emirates        68\n",
       "Malta                      127\n",
       "Hong Kong                  138\n",
       "Greece                     146\n",
       "Canada                     151\n",
       "Iceland                    182\n",
       "Singapore                  229\n",
       "Israel                     269\n",
       "USA                        291\n",
       "Unspecified                340\n",
       "Poland                     341\n",
       "Japan                      358\n",
       "Denmark                    389\n",
       "Austria                    401\n",
       "Sweden                     462\n",
       "Cyprus                     622\n",
       "Finland                    695\n",
       "Channel Islands            758\n",
       "Italy                      803\n",
       "Norway                    1086\n",
       "Australia                 1259\n",
       "Portugal                  1495\n",
       "Switzerland               1932\n",
       "Belgium                   2069\n",
       "Netherlands               2371\n",
       "Spain                     2533\n",
       "EIRE                      7824\n",
       "France                    8525\n",
       "Germany                   9495\n",
       "United Kingdom          426259\n",
       "Name: BasketID, dtype: int64"
      ]
     },
     "execution_count": 704,
     "metadata": {},
     "output_type": "execute_result"
    }
   ],
   "source": [
    "print(\"Country \\t Number of sessions\")\n",
    "df['BasketID'].groupby(df['CustomerCountry']).count().sort_values()"
   ]
  },
  {
   "cell_type": "markdown",
   "metadata": {},
   "source": [
    "A total of 138 shopping sessions have been done in Hong Kong, but no customer IDs result for them.\n",
    "Zero customers have been identified in Hong Kong, even if they have done a total of 138 sessions.\n",
    "\n",
    "This problem is fixed in section ***Data Cleaning & Transformation***."
   ]
  },
  {
   "cell_type": "markdown",
   "metadata": {},
   "source": [
    "#### Products\n",
    "\n",
    "Which are the most bought products"
   ]
  },
  {
   "cell_type": "code",
   "execution_count": 705,
   "metadata": {},
   "outputs": [
    {
     "name": "stdout",
     "output_type": "stream",
     "text": [
      "Product \t Quantity\n"
     ]
    },
    {
     "data": {
      "text/plain": [
       "ProdDescr\n",
       "Damaged                               -4434\n",
       "?                                     -4385\n",
       "incorrect stock entry.                -4320\n",
       "check                                 -4237\n",
       "mouldy, thrown away.                  -2600\n",
       "                                      ...  \n",
       "PACK OF 72 RETROSPOT CAKE CASES       34657\n",
       "WHITE HANGING HEART T-LIGHT HOLDER    34743\n",
       "ASSORTED COLOUR BIRD ORNAMENT         36115\n",
       "JUMBO BAG RED RETROSPOT               46287\n",
       "WORLD WAR 2 GLIDERS ASSTD DESIGNS     53503\n",
       "Name: Qta, Length: 4096, dtype: int64"
      ]
     },
     "execution_count": 705,
     "metadata": {},
     "output_type": "execute_result"
    }
   ],
   "source": [
    "print(\"Product \\t Quantity\")\n",
    "df['Qta'].groupby(df['ProdDescr']).sum().sort_values()\n",
    "# stamparne di più"
   ]
  },
  {
   "cell_type": "markdown",
   "metadata": {},
   "source": [
    "   ### Periods plots\n"
   ]
  },
  {
   "cell_type": "markdown",
   "metadata": {},
   "source": [
    "Before building plots for periods, we duplicate the dataframe and set the date as index for it. In this way we have this *ad hoc* dataframe for building plots, and we use it just for this purpose."
   ]
  },
  {
   "cell_type": "code",
   "execution_count": 706,
   "metadata": {},
   "outputs": [
    {
     "data": {
      "text/html": [
       "<div>\n",
       "<style scoped>\n",
       "    .dataframe tbody tr th:only-of-type {\n",
       "        vertical-align: middle;\n",
       "    }\n",
       "\n",
       "    .dataframe tbody tr th {\n",
       "        vertical-align: top;\n",
       "    }\n",
       "\n",
       "    .dataframe thead th {\n",
       "        text-align: right;\n",
       "    }\n",
       "</style>\n",
       "<table border=\"1\" class=\"dataframe\">\n",
       "  <thead>\n",
       "    <tr style=\"text-align: right;\">\n",
       "      <th></th>\n",
       "      <th>BasketID</th>\n",
       "      <th>BasketDate</th>\n",
       "      <th>Sale</th>\n",
       "      <th>CustomerID</th>\n",
       "      <th>CustomerCountry</th>\n",
       "      <th>ProdID</th>\n",
       "      <th>ProdDescr</th>\n",
       "      <th>Qta</th>\n",
       "    </tr>\n",
       "    <tr>\n",
       "      <th>BasketDate</th>\n",
       "      <th></th>\n",
       "      <th></th>\n",
       "      <th></th>\n",
       "      <th></th>\n",
       "      <th></th>\n",
       "      <th></th>\n",
       "      <th></th>\n",
       "      <th></th>\n",
       "    </tr>\n",
       "  </thead>\n",
       "  <tbody>\n",
       "    <tr>\n",
       "      <th>2010-12-01 08:26:00</th>\n",
       "      <td>536365</td>\n",
       "      <td>01/12/10 08:26</td>\n",
       "      <td>2.55</td>\n",
       "      <td>17850</td>\n",
       "      <td>United Kingdom</td>\n",
       "      <td>85123A</td>\n",
       "      <td>WHITE HANGING HEART T-LIGHT HOLDER</td>\n",
       "      <td>6</td>\n",
       "    </tr>\n",
       "    <tr>\n",
       "      <th>2010-12-01 08:26:00</th>\n",
       "      <td>536365</td>\n",
       "      <td>01/12/10 08:26</td>\n",
       "      <td>3.39</td>\n",
       "      <td>17850</td>\n",
       "      <td>United Kingdom</td>\n",
       "      <td>71053</td>\n",
       "      <td>WHITE METAL LANTERN</td>\n",
       "      <td>6</td>\n",
       "    </tr>\n",
       "    <tr>\n",
       "      <th>2010-12-01 08:26:00</th>\n",
       "      <td>536365</td>\n",
       "      <td>01/12/10 08:26</td>\n",
       "      <td>2.75</td>\n",
       "      <td>17850</td>\n",
       "      <td>United Kingdom</td>\n",
       "      <td>84406B</td>\n",
       "      <td>CREAM CUPID HEARTS COAT HANGER</td>\n",
       "      <td>8</td>\n",
       "    </tr>\n",
       "    <tr>\n",
       "      <th>2010-12-01 08:26:00</th>\n",
       "      <td>536365</td>\n",
       "      <td>01/12/10 08:26</td>\n",
       "      <td>3.39</td>\n",
       "      <td>17850</td>\n",
       "      <td>United Kingdom</td>\n",
       "      <td>84029G</td>\n",
       "      <td>KNITTED UNION FLAG HOT WATER BOTTLE</td>\n",
       "      <td>6</td>\n",
       "    </tr>\n",
       "    <tr>\n",
       "      <th>2010-12-01 08:26:00</th>\n",
       "      <td>536365</td>\n",
       "      <td>01/12/10 08:26</td>\n",
       "      <td>3.39</td>\n",
       "      <td>17850</td>\n",
       "      <td>United Kingdom</td>\n",
       "      <td>84029E</td>\n",
       "      <td>RED WOOLLY HOTTIE WHITE HEART.</td>\n",
       "      <td>6</td>\n",
       "    </tr>\n",
       "  </tbody>\n",
       "</table>\n",
       "</div>"
      ],
      "text/plain": [
       "                    BasketID      BasketDate  Sale  CustomerID  \\\n",
       "BasketDate                                                       \n",
       "2010-12-01 08:26:00   536365  01/12/10 08:26  2.55       17850   \n",
       "2010-12-01 08:26:00   536365  01/12/10 08:26  3.39       17850   \n",
       "2010-12-01 08:26:00   536365  01/12/10 08:26  2.75       17850   \n",
       "2010-12-01 08:26:00   536365  01/12/10 08:26  3.39       17850   \n",
       "2010-12-01 08:26:00   536365  01/12/10 08:26  3.39       17850   \n",
       "\n",
       "                    CustomerCountry  ProdID  \\\n",
       "BasketDate                                    \n",
       "2010-12-01 08:26:00  United Kingdom  85123A   \n",
       "2010-12-01 08:26:00  United Kingdom   71053   \n",
       "2010-12-01 08:26:00  United Kingdom  84406B   \n",
       "2010-12-01 08:26:00  United Kingdom  84029G   \n",
       "2010-12-01 08:26:00  United Kingdom  84029E   \n",
       "\n",
       "                                               ProdDescr  Qta  \n",
       "BasketDate                                                     \n",
       "2010-12-01 08:26:00   WHITE HANGING HEART T-LIGHT HOLDER    6  \n",
       "2010-12-01 08:26:00                  WHITE METAL LANTERN    6  \n",
       "2010-12-01 08:26:00       CREAM CUPID HEARTS COAT HANGER    8  \n",
       "2010-12-01 08:26:00  KNITTED UNION FLAG HOT WATER BOTTLE    6  \n",
       "2010-12-01 08:26:00       RED WOOLLY HOTTIE WHITE HEART.    6  "
      ]
     },
     "execution_count": 706,
     "metadata": {},
     "output_type": "execute_result"
    }
   ],
   "source": [
    "df2 = df.copy()\n",
    "df2.index = pd.to_datetime(df['BasketDate'], format='%d/%m/%y %H:%M')\n",
    "df2.head()"
   ]
  },
  {
   "cell_type": "markdown",
   "metadata": {},
   "source": [
    "#### *Sale* plots\n",
    "**Monthly**"
   ]
  },
  {
   "cell_type": "code",
   "execution_count": 707,
   "metadata": {},
   "outputs": [
    {
     "data": {
      "text/plain": [
       "Text(0, 0.5, 'Mean value')"
      ]
     },
     "execution_count": 707,
     "metadata": {},
     "output_type": "execute_result"
    },
    {
     "data": {
      "image/png": "[encoded data removed]",
      "text/plain": [
       "<Figure size 432x288 with 1 Axes>"
      ]
     },
     "metadata": {
      "needs_background": "light"
     },
     "output_type": "display_data"
    }
   ],
   "source": [
    "monthly_sales_mean = df2['Sale'].groupby([df2.index.year, df2.index.month]).mean().plot()\n",
    "plt.title('Montly sales: ')\n",
    "plt.xlabel('Month')\n",
    "plt.ylabel('Mean value')"
   ]
  },
  {
   "cell_type": "code",
   "execution_count": 708,
   "metadata": {},
   "outputs": [
    {
     "data": {
      "text/plain": [
       "Text(0, 0.5, 'Sum')"
      ]
     },
     "execution_count": 708,
     "metadata": {},
     "output_type": "execute_result"
    },
    {
     "data": {
      "image/png": "[encoded data removed]",
      "text/plain": [
       "<Figure size 432x288 with 1 Axes>"
      ]
     },
     "metadata": {
      "needs_background": "light"
     },
     "output_type": "display_data"
    }
   ],
   "source": [
    "monthly_sales_total = df2['Sale'].groupby([df2.index.year, df2.index.month]).sum().plot()\n",
    "plt.title('Total montly sales: ')\n",
    "plt.xlabel('Month')\n",
    "plt.ylabel('Sum')"
   ]
  },
  {
   "cell_type": "markdown",
   "metadata": {},
   "source": [
    "**Weekly**"
   ]
  },
  {
   "cell_type": "code",
   "execution_count": 709,
   "metadata": {},
   "outputs": [
    {
     "data": {
      "text/plain": [
       "Text(0, 0.5, 'Mean')"
      ]
     },
     "execution_count": 709,
     "metadata": {},
     "output_type": "execute_result"
    },
    {
     "data": {
      "image/png": "[encoded data removed]",
      "text/plain": [
       "<Figure size 432x288 with 1 Axes>"
      ]
     },
     "metadata": {
      "needs_background": "light"
     },
     "output_type": "display_data"
    }
   ],
   "source": [
    "weekly_sales_mean = df2['Sale'].groupby(df2.index.day).mean().plot()\n",
    "plt.title('Weekly sales: ')\n",
    "plt.xlabel('Day')\n",
    "plt.ylabel('Mean')"
   ]
  },
  {
   "cell_type": "code",
   "execution_count": 710,
   "metadata": {},
   "outputs": [
    {
     "data": {
      "text/plain": [
       "Text(0, 0.5, 'Sum')"
      ]
     },
     "execution_count": 710,
     "metadata": {},
     "output_type": "execute_result"
    },
    {
     "data": {
      "image/png": "[encoded data removed]",
      "text/plain": [
       "<Figure size 432x288 with 1 Axes>"
      ]
     },
     "metadata": {
      "needs_background": "light"
     },
     "output_type": "display_data"
    }
   ],
   "source": [
    "weekly_sales_total = df2['Sale'].groupby(df2.index.day).sum().plot()\n",
    "plt.title('Total weekly sales: ')\n",
    "plt.xlabel('Day')\n",
    "plt.ylabel('Sum')"
   ]
  },
  {
   "cell_type": "markdown",
   "metadata": {},
   "source": [
    "**Daily**"
   ]
  },
  {
   "cell_type": "code",
   "execution_count": 711,
   "metadata": {},
   "outputs": [
    {
     "data": {
      "text/plain": [
       "Text(0, 0.5, 'Mean value')"
      ]
     },
     "execution_count": 711,
     "metadata": {},
     "output_type": "execute_result"
    },
    {
     "data": {
      "image/png": "[encoded data removed]",
      "text/plain": [
       "<Figure size 432x288 with 1 Axes>"
      ]
     },
     "metadata": {
      "needs_background": "light"
     },
     "output_type": "display_data"
    }
   ],
   "source": [
    "daily_sales_mean = df2['Sale'].groupby([df2.index.month, df2.index.day]).mean().plot()\n",
    "plt.title('Daily sales for each month: ')\n",
    "plt.xlabel('Month-Day')\n",
    "plt.ylabel('Mean value')"
   ]
  },
  {
   "cell_type": "code",
   "execution_count": 712,
   "metadata": {},
   "outputs": [
    {
     "data": {
      "text/plain": [
       "Text(0, 0.5, 'Sum')"
      ]
     },
     "execution_count": 712,
     "metadata": {},
     "output_type": "execute_result"
    },
    {
     "data": {
      "image/png": "[encoded data removed]",
      "text/plain": [
       "<Figure size 432x288 with 1 Axes>"
      ]
     },
     "metadata": {
      "needs_background": "light"
     },
     "output_type": "display_data"
    }
   ],
   "source": [
    "daily_sales_total = df2['Sale'].groupby([df2.index.month, df2.index.day]).sum().plot()\n",
    "plt.title('Total daily sales for each month: ')\n",
    "plt.xlabel('Month-Day')\n",
    "plt.ylabel('Sum')"
   ]
  },
  {
   "cell_type": "markdown",
   "metadata": {},
   "source": [
    "**Hourly**"
   ]
  },
  {
   "cell_type": "code",
   "execution_count": 713,
   "metadata": {},
   "outputs": [
    {
     "data": {
      "text/plain": [
       "Text(0, 0.5, 'Sum')"
      ]
     },
     "execution_count": 713,
     "metadata": {},
     "output_type": "execute_result"
    },
    {
     "data": {
      "image/png": "[encoded data removed]",
      "text/plain": [
       "<Figure size 1440x720 with 4 Axes>"
      ]
     },
     "metadata": {
      "needs_background": "light"
     },
     "output_type": "display_data"
    }
   ],
   "source": [
    "# Set up a grid of plots:\n",
    "fig = plt.figure(figsize=(20, 10))\n",
    "fig_dims = (2, 2)\n",
    "fig.subplots_adjust(hspace=0.4, wspace=0.4)\n",
    "\n",
    "# Plot mean sales per hour\n",
    "plt.subplot2grid(fig_dims, (0, 0))\n",
    "hourly_sales_mean = df2['Sale'].groupby(df2.index.hour).mean().plot()\n",
    "plt.title('Sales per hour: ')\n",
    "plt.xlabel('Hour')\n",
    "plt.ylabel('Mean value')\n",
    "\n",
    "# Plot total sales per hour\n",
    "plt.subplot2grid(fig_dims, (1, 0))\n",
    "hourly_sales_total = df2['Sale'].groupby(df2.index.hour).sum().plot()\n",
    "plt.title('Total sales per hour: ')\n",
    "plt.xlabel('Hour')\n",
    "plt.ylabel('Sum')\n",
    "\n",
    "# Plot mean sales per hour for each month\n",
    "plt.subplot2grid(fig_dims, (0, 1))\n",
    "hourly_sales_mean = df2['Sale'].groupby([df2.index.month, df2.index.hour]).mean().plot()\n",
    "plt.title('Hourly sales for each month: ')\n",
    "plt.xlabel('Month-Hour')\n",
    "plt.ylabel('Mean value')\n",
    "\n",
    "# Plot total sales per hour for each month\n",
    "# evidente regolarità !!\n",
    "plt.subplot2grid(fig_dims, (1, 1))\n",
    "hourly_sales_total = df2['Sale'].groupby([df2.index.month, df2.index.hour]).sum().plot()\n",
    "plt.title('Total hourly sales for each month: ')\n",
    "plt.xlabel('Month-Hour')\n",
    "plt.ylabel('Sum')"
   ]
  },
  {
   "cell_type": "markdown",
   "metadata": {},
   "source": [
    "#### *Country* plots"
   ]
  },
  {
   "cell_type": "code",
   "execution_count": 714,
   "metadata": {},
   "outputs": [
    {
     "data": {
      "text/html": [
       "<div>\n",
       "<style scoped>\n",
       "    .dataframe tbody tr th:only-of-type {\n",
       "        vertical-align: middle;\n",
       "    }\n",
       "\n",
       "    .dataframe tbody tr th {\n",
       "        vertical-align: top;\n",
       "    }\n",
       "\n",
       "    .dataframe thead th {\n",
       "        text-align: right;\n",
       "    }\n",
       "</style>\n",
       "<table border=\"1\" class=\"dataframe\">\n",
       "  <thead>\n",
       "    <tr style=\"text-align: right;\">\n",
       "      <th></th>\n",
       "      <th>Sale</th>\n",
       "      <th>CustomerID</th>\n",
       "      <th>Qta</th>\n",
       "    </tr>\n",
       "    <tr>\n",
       "      <th>CustomerCountry</th>\n",
       "      <th></th>\n",
       "      <th></th>\n",
       "      <th></th>\n",
       "    </tr>\n",
       "  </thead>\n",
       "  <tbody>\n",
       "    <tr>\n",
       "      <th>Australia</th>\n",
       "      <td>1.79</td>\n",
       "      <td>12415</td>\n",
       "      <td>24</td>\n",
       "    </tr>\n",
       "    <tr>\n",
       "      <th>Austria</th>\n",
       "      <td>1.95</td>\n",
       "      <td>12374</td>\n",
       "      <td>9</td>\n",
       "    </tr>\n",
       "    <tr>\n",
       "      <th>Bahrain</th>\n",
       "      <td>3.81</td>\n",
       "      <td>12355</td>\n",
       "      <td>6</td>\n",
       "    </tr>\n",
       "    <tr>\n",
       "      <th>Belgium</th>\n",
       "      <td>1.95</td>\n",
       "      <td>12407</td>\n",
       "      <td>10</td>\n",
       "    </tr>\n",
       "    <tr>\n",
       "      <th>Brazil</th>\n",
       "      <td>3.32</td>\n",
       "      <td>12769</td>\n",
       "      <td>10</td>\n",
       "    </tr>\n",
       "    <tr>\n",
       "      <th>Canada</th>\n",
       "      <td>1.65</td>\n",
       "      <td>17444</td>\n",
       "      <td>12</td>\n",
       "    </tr>\n",
       "    <tr>\n",
       "      <th>Channel Islands</th>\n",
       "      <td>2.55</td>\n",
       "      <td>14936</td>\n",
       "      <td>10</td>\n",
       "    </tr>\n",
       "    <tr>\n",
       "      <th>Cyprus</th>\n",
       "      <td>2.95</td>\n",
       "      <td>12370</td>\n",
       "      <td>5</td>\n",
       "    </tr>\n",
       "    <tr>\n",
       "      <th>Czech Republic</th>\n",
       "      <td>1.45</td>\n",
       "      <td>12781</td>\n",
       "      <td>24</td>\n",
       "    </tr>\n",
       "    <tr>\n",
       "      <th>Denmark</th>\n",
       "      <td>1.95</td>\n",
       "      <td>12412</td>\n",
       "      <td>12</td>\n",
       "    </tr>\n",
       "    <tr>\n",
       "      <th>EIRE</th>\n",
       "      <td>2.10</td>\n",
       "      <td>14911</td>\n",
       "      <td>10</td>\n",
       "    </tr>\n",
       "    <tr>\n",
       "      <th>European Community</th>\n",
       "      <td>3.35</td>\n",
       "      <td>15108</td>\n",
       "      <td>6</td>\n",
       "    </tr>\n",
       "    <tr>\n",
       "      <th>Finland</th>\n",
       "      <td>2.08</td>\n",
       "      <td>12428</td>\n",
       "      <td>10</td>\n",
       "    </tr>\n",
       "    <tr>\n",
       "      <th>France</th>\n",
       "      <td>1.79</td>\n",
       "      <td>12674</td>\n",
       "      <td>10</td>\n",
       "    </tr>\n",
       "    <tr>\n",
       "      <th>Germany</th>\n",
       "      <td>1.95</td>\n",
       "      <td>12592</td>\n",
       "      <td>10</td>\n",
       "    </tr>\n",
       "    <tr>\n",
       "      <th>Greece</th>\n",
       "      <td>2.10</td>\n",
       "      <td>12717</td>\n",
       "      <td>10</td>\n",
       "    </tr>\n",
       "    <tr>\n",
       "      <th>Hong Kong</th>\n",
       "      <td>1.95</td>\n",
       "      <td>18288</td>\n",
       "      <td>12</td>\n",
       "    </tr>\n",
       "    <tr>\n",
       "      <th>Iceland</th>\n",
       "      <td>2.02</td>\n",
       "      <td>12347</td>\n",
       "      <td>12</td>\n",
       "    </tr>\n",
       "    <tr>\n",
       "      <th>Israel</th>\n",
       "      <td>1.69</td>\n",
       "      <td>12688</td>\n",
       "      <td>12</td>\n",
       "    </tr>\n",
       "    <tr>\n",
       "      <th>Italy</th>\n",
       "      <td>2.55</td>\n",
       "      <td>12584</td>\n",
       "      <td>6</td>\n",
       "    </tr>\n",
       "    <tr>\n",
       "      <th>Japan</th>\n",
       "      <td>1.65</td>\n",
       "      <td>12753</td>\n",
       "      <td>36</td>\n",
       "    </tr>\n",
       "    <tr>\n",
       "      <th>Lebanon</th>\n",
       "      <td>3.95</td>\n",
       "      <td>12764</td>\n",
       "      <td>8</td>\n",
       "    </tr>\n",
       "    <tr>\n",
       "      <th>Lithuania</th>\n",
       "      <td>2.55</td>\n",
       "      <td>15332</td>\n",
       "      <td>16</td>\n",
       "    </tr>\n",
       "    <tr>\n",
       "      <th>Malta</th>\n",
       "      <td>2.95</td>\n",
       "      <td>17828</td>\n",
       "      <td>6</td>\n",
       "    </tr>\n",
       "    <tr>\n",
       "      <th>Netherlands</th>\n",
       "      <td>1.45</td>\n",
       "      <td>14646</td>\n",
       "      <td>72</td>\n",
       "    </tr>\n",
       "    <tr>\n",
       "      <th>Norway</th>\n",
       "      <td>2.08</td>\n",
       "      <td>12433</td>\n",
       "      <td>12</td>\n",
       "    </tr>\n",
       "    <tr>\n",
       "      <th>Poland</th>\n",
       "      <td>2.08</td>\n",
       "      <td>12779</td>\n",
       "      <td>10</td>\n",
       "    </tr>\n",
       "    <tr>\n",
       "      <th>Portugal</th>\n",
       "      <td>1.65</td>\n",
       "      <td>12766</td>\n",
       "      <td>9</td>\n",
       "    </tr>\n",
       "    <tr>\n",
       "      <th>RSA</th>\n",
       "      <td>2.95</td>\n",
       "      <td>12446</td>\n",
       "      <td>6</td>\n",
       "    </tr>\n",
       "    <tr>\n",
       "      <th>Saudi Arabia</th>\n",
       "      <td>2.30</td>\n",
       "      <td>12565</td>\n",
       "      <td>9</td>\n",
       "    </tr>\n",
       "    <tr>\n",
       "      <th>Singapore</th>\n",
       "      <td>2.10</td>\n",
       "      <td>12744</td>\n",
       "      <td>12</td>\n",
       "    </tr>\n",
       "    <tr>\n",
       "      <th>Spain</th>\n",
       "      <td>2.08</td>\n",
       "      <td>12540</td>\n",
       "      <td>6</td>\n",
       "    </tr>\n",
       "    <tr>\n",
       "      <th>Sweden</th>\n",
       "      <td>1.65</td>\n",
       "      <td>12697</td>\n",
       "      <td>20</td>\n",
       "    </tr>\n",
       "    <tr>\n",
       "      <th>Switzerland</th>\n",
       "      <td>1.69</td>\n",
       "      <td>12451</td>\n",
       "      <td>12</td>\n",
       "    </tr>\n",
       "    <tr>\n",
       "      <th>USA</th>\n",
       "      <td>1.45</td>\n",
       "      <td>12607</td>\n",
       "      <td>5</td>\n",
       "    </tr>\n",
       "    <tr>\n",
       "      <th>United Arab Emirates</th>\n",
       "      <td>1.67</td>\n",
       "      <td>12739</td>\n",
       "      <td>12</td>\n",
       "    </tr>\n",
       "    <tr>\n",
       "      <th>United Kingdom</th>\n",
       "      <td>2.08</td>\n",
       "      <td>16015</td>\n",
       "      <td>4</td>\n",
       "    </tr>\n",
       "    <tr>\n",
       "      <th>Unspecified</th>\n",
       "      <td>1.95</td>\n",
       "      <td>12743</td>\n",
       "      <td>3</td>\n",
       "    </tr>\n",
       "  </tbody>\n",
       "</table>\n",
       "</div>"
      ],
      "text/plain": [
       "                      Sale  CustomerID  Qta\n",
       "CustomerCountry                            \n",
       "Australia             1.79       12415   24\n",
       "Austria               1.95       12374    9\n",
       "Bahrain               3.81       12355    6\n",
       "Belgium               1.95       12407   10\n",
       "Brazil                3.32       12769   10\n",
       "Canada                1.65       17444   12\n",
       "Channel Islands       2.55       14936   10\n",
       "Cyprus                2.95       12370    5\n",
       "Czech Republic        1.45       12781   24\n",
       "Denmark               1.95       12412   12\n",
       "EIRE                  2.10       14911   10\n",
       "European Community    3.35       15108    6\n",
       "Finland               2.08       12428   10\n",
       "France                1.79       12674   10\n",
       "Germany               1.95       12592   10\n",
       "Greece                2.10       12717   10\n",
       "Hong Kong             1.95       18288   12\n",
       "Iceland               2.02       12347   12\n",
       "Israel                1.69       12688   12\n",
       "Italy                 2.55       12584    6\n",
       "Japan                 1.65       12753   36\n",
       "Lebanon               3.95       12764    8\n",
       "Lithuania             2.55       15332   16\n",
       "Malta                 2.95       17828    6\n",
       "Netherlands           1.45       14646   72\n",
       "Norway                2.08       12433   12\n",
       "Poland                2.08       12779   10\n",
       "Portugal              1.65       12766    9\n",
       "RSA                   2.95       12446    6\n",
       "Saudi Arabia          2.30       12565    9\n",
       "Singapore             2.10       12744   12\n",
       "Spain                 2.08       12540    6\n",
       "Sweden                1.65       12697   20\n",
       "Switzerland           1.69       12451   12\n",
       "USA                   1.45       12607    5\n",
       "United Arab Emirates  1.67       12739   12\n",
       "United Kingdom        2.08       16015    4\n",
       "Unspecified           1.95       12743    3"
      ]
     },
     "execution_count": 714,
     "metadata": {},
     "output_type": "execute_result"
    }
   ],
   "source": [
    "df2.groupby(df2['CustomerCountry']).median()"
   ]
  },
  {
   "cell_type": "code",
   "execution_count": 715,
   "metadata": {},
   "outputs": [
    {
     "data": {
      "text/plain": [
       "Text(0, 0.5, 'Sales median')"
      ]
     },
     "execution_count": 715,
     "metadata": {},
     "output_type": "execute_result"
    },
    {
     "data": {
      "image/png": "[encoded data removed]",
      "text/plain": [
       "<Figure size 432x288 with 1 Axes>"
      ]
     },
     "metadata": {
      "needs_background": "light"
     },
     "output_type": "display_data"
    }
   ],
   "source": [
    "df2['Sale'].groupby(df2['CustomerCountry']).median().plot(kind='bar')\n",
    "plt.title('Sales per country: ')\n",
    "plt.xlabel('Country')\n",
    "plt.ylabel('Sales median')"
   ]
  },
  {
   "cell_type": "code",
   "execution_count": 716,
   "metadata": {},
   "outputs": [
    {
     "data": {
      "text/plain": [
       "<matplotlib.axes._subplots.AxesSubplot at 0x18a0f95be88>"
      ]
     },
     "execution_count": 716,
     "metadata": {},
     "output_type": "execute_result"
    },
    {
     "data": {
      "image/png": "[encoded data removed]",
      "text/plain": [
       "<Figure size 432x288 with 1 Axes>"
      ]
     },
     "metadata": {
      "needs_background": "light"
     },
     "output_type": "display_data"
    }
   ],
   "source": [
    "median_sale_country.plot()"
   ]
  },
  {
   "cell_type": "code",
   "execution_count": null,
   "metadata": {},
   "outputs": [],
   "source": []
  },
  {
   "cell_type": "markdown",
   "metadata": {},
   "source": [
    "#### *Customers* plots\n",
    "\n",
    "How many customers for each country:"
   ]
  },
  {
   "cell_type": "code",
   "execution_count": 717,
   "metadata": {},
   "outputs": [
    {
     "name": "stdout",
     "output_type": "stream",
     "text": [
      "Country \t Number of customers\n"
     ]
    },
    {
     "data": {
      "text/plain": [
       "CustomerCountry\n",
       "Saudi Arabia                10\n",
       "Bahrain                     19\n",
       "Czech Republic              30\n",
       "Brazil                      32\n",
       "Lithuania                   35\n",
       "Lebanon                     45\n",
       "RSA                         58\n",
       "European Community          61\n",
       "United Arab Emirates        68\n",
       "Malta                      127\n",
       "Hong Kong                  138\n",
       "Greece                     146\n",
       "Canada                     151\n",
       "Iceland                    182\n",
       "Singapore                  229\n",
       "Israel                     269\n",
       "USA                        291\n",
       "Unspecified                340\n",
       "Poland                     341\n",
       "Japan                      358\n",
       "Denmark                    389\n",
       "Austria                    401\n",
       "Sweden                     462\n",
       "Cyprus                     622\n",
       "Finland                    695\n",
       "Channel Islands            758\n",
       "Italy                      803\n",
       "Norway                    1086\n",
       "Australia                 1259\n",
       "Portugal                  1495\n",
       "Switzerland               1932\n",
       "Belgium                   2069\n",
       "Netherlands               2371\n",
       "Spain                     2533\n",
       "EIRE                      7824\n",
       "France                    8525\n",
       "Germany                   9495\n",
       "United Kingdom          426259\n",
       "Name: CustomerID, dtype: int64"
      ]
     },
     "execution_count": 717,
     "metadata": {},
     "output_type": "execute_result"
    }
   ],
   "source": [
    "print(\"Country \\t Number of customers\")\n",
    "df2['CustomerID'].groupby(df2['CustomerCountry']).count().sort_values()"
   ]
  },
  {
   "cell_type": "code",
   "execution_count": 718,
   "metadata": {},
   "outputs": [
    {
     "data": {
      "text/plain": [
       "Text(0, 0.5, 'Number of customers')"
      ]
     },
     "execution_count": 718,
     "metadata": {},
     "output_type": "execute_result"
    },
    {
     "data": {
      "image/png": "[encoded data removed]",
      "text/plain": [
       "<Figure size 432x288 with 1 Axes>"
      ]
     },
     "metadata": {
      "needs_background": "light"
     },
     "output_type": "display_data"
    }
   ],
   "source": [
    "df2['CustomerID'].groupby(df2['CustomerCountry']).count().plot(kind='bar')\n",
    "plt.title('Number of customers per country: ')\n",
    "plt.xlabel('Country')\n",
    "plt.ylabel('Number of customers')"
   ]
  },
  {
   "cell_type": "code",
   "execution_count": 719,
   "metadata": {},
   "outputs": [],
   "source": [
    "# ELIMINARE UK per fare confronto fra gli altri paesi\n",
    "customers_without_UK = df2['CustomerID'].groupby(df2['CustomerCountry']).count()\n",
    "customers_without_UK = customers_without_UK.drop(['United Kingdom'])"
   ]
  },
  {
   "cell_type": "code",
   "execution_count": 720,
   "metadata": {},
   "outputs": [
    {
     "data": {
      "text/plain": [
       "Text(0, 0.5, 'Customers')"
      ]
     },
     "execution_count": 720,
     "metadata": {},
     "output_type": "execute_result"
    },
    {
     "data": {
      "image/png": "[encoded data removed]",
      "text/plain": [
       "<Figure size 432x288 with 1 Axes>"
      ]
     },
     "metadata": {
      "needs_background": "light"
     },
     "output_type": "display_data"
    }
   ],
   "source": [
    "customers_without_UK.plot(kind='bar')\n",
    "plt.title('Number of customers per country (without UK): ')\n",
    "plt.xlabel('Country')\n",
    "plt.ylabel('Customers')"
   ]
  },
  {
   "cell_type": "markdown",
   "metadata": {},
   "source": [
    "Shopping sessions for each customer: how many times each customer has bought something."
   ]
  },
  {
   "cell_type": "code",
   "execution_count": 721,
   "metadata": {},
   "outputs": [
    {
     "name": "stdout",
     "output_type": "stream",
     "text": [
      "Customer: \t How many shopping sessions\n"
     ]
    },
    {
     "data": {
      "text/plain": [
       "CustomerID\n",
       "12346      2\n",
       "12347    182\n",
       "12348     31\n",
       "12349     73\n",
       "12350     17\n",
       "        ... \n",
       "18281      7\n",
       "18282     13\n",
       "18283    756\n",
       "18287     70\n",
       "18288    138\n",
       "Name: BasketID, Length: 4373, dtype: int64"
      ]
     },
     "execution_count": 721,
     "metadata": {},
     "output_type": "execute_result"
    }
   ],
   "source": [
    "print(\"Customer: \\t How many shopping sessions\")\n",
    "df2['BasketID'].groupby(df2['CustomerID']).count()"
   ]
  },
  {
   "cell_type": "markdown",
   "metadata": {},
   "source": [
    "Sales per customer: how much each customer has spent in total."
   ]
  },
  {
   "cell_type": "code",
   "execution_count": 722,
   "metadata": {},
   "outputs": [
    {
     "name": "stdout",
     "output_type": "stream",
     "text": [
      "Customer \t Total sale\n"
     ]
    },
    {
     "data": {
      "text/plain": [
       "CustomerID\n",
       "12346      2.08\n",
       "12347    481.21\n",
       "12348    178.71\n",
       "12349    605.10\n",
       "12350     65.30\n",
       "          ...  \n",
       "18281     39.36\n",
       "18282     62.68\n",
       "18283   1220.93\n",
       "18287    104.55\n",
       "18288   8260.08\n",
       "Name: Sale, Length: 4373, dtype: float64"
      ]
     },
     "execution_count": 722,
     "metadata": {},
     "output_type": "execute_result"
    }
   ],
   "source": [
    "print(\"Customer \\t Total sale\")\n",
    "df2['Sale'].groupby(df2['CustomerID']).sum()"
   ]
  },
  {
   "cell_type": "markdown",
   "metadata": {},
   "source": [
    "Sales per country: in which country the sales are high/low."
   ]
  },
  {
   "cell_type": "code",
   "execution_count": 723,
   "metadata": {},
   "outputs": [
    {
     "name": "stdout",
     "output_type": "stream",
     "text": [
      "Country \t Total sale\n"
     ]
    },
    {
     "data": {
      "text/plain": [
       "CustomerCountry\n",
       "Australia                 4054.75\n",
       "Austria                   1701.52\n",
       "Bahrain                     86.57\n",
       "Belgium                   7540.13\n",
       "Brazil                     142.60\n",
       "Canada                     910.58\n",
       "Channel Islands           3738.55\n",
       "Cyprus                    3920.07\n",
       "Czech Republic              88.15\n",
       "Denmark                   1266.95\n",
       "EIRE                     40280.78\n",
       "European Community         294.05\n",
       "Finland                   3786.85\n",
       "France                   42960.34\n",
       "Germany                  37666.00\n",
       "Greece                     713.29\n",
       "Hong Kong                 8260.08\n",
       "Iceland                    481.21\n",
       "Israel                     983.93\n",
       "Italy                     3879.39\n",
       "Japan                      814.86\n",
       "Lebanon                    242.44\n",
       "Lithuania                   99.44\n",
       "Malta                      666.01\n",
       "Netherlands               6492.55\n",
       "Norway                    6529.06\n",
       "Poland                    1422.27\n",
       "Portugal                 12955.19\n",
       "RSA                        248.10\n",
       "Saudi Arabia                24.11\n",
       "Singapore                25108.89\n",
       "Spain                    12633.45\n",
       "Sweden                    1806.83\n",
       "Switzerland               6674.18\n",
       "USA                        644.98\n",
       "United Arab Emirates       229.89\n",
       "United Kingdom         1684050.55\n",
       "Unspecified                968.69\n",
       "Name: Sale, dtype: float64"
      ]
     },
     "execution_count": 723,
     "metadata": {},
     "output_type": "execute_result"
    }
   ],
   "source": [
    "print(\"Country \\t Total sale\")\n",
    "df2['Sale'].groupby(df2['CustomerCountry']).sum()"
   ]
  },
  {
   "cell_type": "code",
   "execution_count": 724,
   "metadata": {},
   "outputs": [],
   "source": [
    "# ELIMINARE UK per fare confronto fra gli altri paesi\n",
    "sales_without_UK = df2['Sale'].groupby(df2['CustomerCountry']).sum()\n",
    "sales_without_UK = sales_without_UK.drop(['United Kingdom'])"
   ]
  },
  {
   "cell_type": "code",
   "execution_count": 725,
   "metadata": {},
   "outputs": [
    {
     "data": {
      "text/plain": [
       "Text(0, 0.5, 'Total sales (expenditure)')"
      ]
     },
     "execution_count": 725,
     "metadata": {},
     "output_type": "execute_result"
    },
    {
     "data": {
      "image/png": "[encoded data removed]",
      "text/plain": [
       "<Figure size 432x288 with 1 Axes>"
      ]
     },
     "metadata": {
      "needs_background": "light"
     },
     "output_type": "display_data"
    }
   ],
   "source": [
    "sales_without_UK.plot(kind='bar')\n",
    "plt.title('Sales per country (without UK): ')\n",
    "plt.xlabel('Country')\n",
    "plt.ylabel('Total sales (expenditure)')"
   ]
  },
  {
   "cell_type": "markdown",
   "metadata": {},
   "source": [
    "# New features extraction\n",
    "We now find and extract new features useful for describing the customer profile and his purchasing behavior.\n",
    "\n",
    "For each customer, we extract the following indicators:\n",
    "- ***I***: the total number of items purchased by a customer during the period of\n",
    "observation.\n",
    "- ***Iu***: the number of distinct items bought by a customer in the period of\n",
    "observation.\n",
    "- ***Imax***: the maximum number of items purchased by a customer during a\n",
    "shopping session\n",
    "- ***E***: the Shannon entropy on the purchasing behaviour of the customer\n",
    "\n"
   ]
  },
  {
   "cell_type": "markdown",
   "metadata": {},
   "source": [
    "First of all, we extract the number of distinct customer:"
   ]
  },
  {
   "cell_type": "code",
   "execution_count": 726,
   "metadata": {},
   "outputs": [
    {
     "name": "stdout",
     "output_type": "stream",
     "text": [
      "There are 4373 distinct customers. \n"
     ]
    }
   ],
   "source": [
    "print(\"There are\", df.CustomerID.unique().size, \"distinct customers. \") "
   ]
  },
  {
   "cell_type": "markdown",
   "metadata": {},
   "source": [
    "## \"I\" indicator\n"
   ]
  },
  {
   "cell_type": "code",
   "execution_count": 782,
   "metadata": {},
   "outputs": [
    {
     "name": "stdout",
     "output_type": "stream",
     "text": [
      "\t How many items he bought \n",
      " CustomerID\n",
      "12346       0\n",
      "12347    2458\n",
      "12348    2341\n",
      "12349     631\n",
      "12350     197\n",
      "         ... \n",
      "18281      54\n",
      "18282      98\n",
      "18283    1397\n",
      "18287    1586\n",
      "18288    2592\n",
      "Name: Qta, Length: 4373, dtype: int64\n"
     ]
    }
   ],
   "source": [
    "# total number of items purchased by a customer\n",
    "I = df['Qta'].groupby(df['CustomerID']).sum()\n",
    "print(\"\\t How many items he bought \\n\", I)"
   ]
  },
  {
   "cell_type": "markdown",
   "metadata": {},
   "source": [
    "We now check the distribution of this new indicator, unsing the **density plot**."
   ]
  },
  {
   "cell_type": "code",
   "execution_count": 728,
   "metadata": {
    "scrolled": true
   },
   "outputs": [
    {
     "data": {
      "text/plain": [
       "(-4000.0, 10000.0, 0.0, 0.0004)"
      ]
     },
     "execution_count": 728,
     "metadata": {},
     "output_type": "execute_result"
    },
    {
     "data": {
      "image/png": "[encoded data removed]",
      "text/plain": [
       "<Figure size 432x288 with 1 Axes>"
      ]
     },
     "metadata": {
      "needs_background": "light"
     },
     "output_type": "display_data"
    }
   ],
   "source": [
    "# DENSITY PLOT\n",
    "I.plot.kde()\n",
    "plt.title('Density distribution of total items bought: ')\n",
    "plt.axis([-4000,10000,0,0.0004])"
   ]
  },
  {
   "cell_type": "markdown",
   "metadata": {},
   "source": [
    "*Osservazioni sul tipo di distribuzione*"
   ]
  },
  {
   "cell_type": "markdown",
   "metadata": {},
   "source": [
    "## \"Iu\" indicator"
   ]
  },
  {
   "cell_type": "code",
   "execution_count": 891,
   "metadata": {},
   "outputs": [
    {
     "data": {
      "text/plain": [
       "CustomerID\n",
       "12346                                              [23166]\n",
       "12347    [85116, 22375, 71477, 22492, 22771, 22772, 227...\n",
       "12348    [84992, 22951, 84991, 21213, 22616, 21981, 219...\n",
       "12349    [23112, 23460, 21564, 21411, 21563, 22131, 221...\n",
       "12350    [21908, 22412, 79066K, 79191C, 22348, 84086C, ...\n",
       "                               ...                        \n",
       "18281    [22037, 22716, 22028, 23007, 23008, 23209, 22467]\n",
       "18282    [21270, 23187, 23295, 22089, 21108, 21109, 224...\n",
       "18283    [22356, 20726, 22384, 22386, 20717, 20718, 850...\n",
       "18287    [22755, 22754, 22753, 22756, 22758, 22757, 227...\n",
       "18288    [85183A, 21058, 21967, 21981, 22551, 21947, 21...\n",
       "Name: ProdID, Length: 4373, dtype: object"
      ]
     },
     "execution_count": 891,
     "metadata": {},
     "output_type": "execute_result"
    }
   ],
   "source": [
    "# number of distinct items bought by a customer\n",
    "Iu = df['ProdID'].groupby(df['CustomerID']).unique()\n",
    "#Iu = pd.DataFrame(Iu)\n",
    "Iu"
   ]
  },
  {
   "cell_type": "code",
   "execution_count": 892,
   "metadata": {},
   "outputs": [
    {
     "data": {
      "text/html": [
       "<div>\n",
       "<style scoped>\n",
       "    .dataframe tbody tr th:only-of-type {\n",
       "        vertical-align: middle;\n",
       "    }\n",
       "\n",
       "    .dataframe tbody tr th {\n",
       "        vertical-align: top;\n",
       "    }\n",
       "\n",
       "    .dataframe thead th {\n",
       "        text-align: right;\n",
       "    }\n",
       "</style>\n",
       "<table border=\"1\" class=\"dataframe\">\n",
       "  <thead>\n",
       "    <tr style=\"text-align: right;\">\n",
       "      <th></th>\n",
       "      <th>TotalProd</th>\n",
       "    </tr>\n",
       "  </thead>\n",
       "  <tbody>\n",
       "  </tbody>\n",
       "</table>\n",
       "</div>"
      ],
      "text/plain": [
       "Empty DataFrame\n",
       "Columns: [TotalProd]\n",
       "Index: []"
      ]
     },
     "execution_count": 892,
     "metadata": {},
     "output_type": "execute_result"
    }
   ],
   "source": [
    "items = pd.DataFrame(data = {'TotalProd': []})\n",
    "items"
   ]
  },
  {
   "cell_type": "code",
   "execution_count": 893,
   "metadata": {
    "scrolled": true
   },
   "outputs": [
    {
     "data": {
      "text/plain": [
       "0        1.00\n",
       "1      103.00\n",
       "2       22.00\n",
       "3       73.00\n",
       "4       17.00\n",
       "        ...  \n",
       "4368     7.00\n",
       "4369    12.00\n",
       "4370   263.00\n",
       "4371    59.00\n",
       "4372   109.00\n",
       "Name: TotalProd, Length: 4373, dtype: float64"
      ]
     },
     "execution_count": 893,
     "metadata": {},
     "output_type": "execute_result"
    }
   ],
   "source": [
    "# counting uniques\n",
    "for i in Iu:\n",
    "    items = items.append({'TotalProd': i.size}, ignore_index=True)\n",
    "items.TotalProd"
   ]
  },
  {
   "cell_type": "code",
   "execution_count": 896,
   "metadata": {},
   "outputs": [
    {
     "data": {
      "text/html": [
       "<div>\n",
       "<style scoped>\n",
       "    .dataframe tbody tr th:only-of-type {\n",
       "        vertical-align: middle;\n",
       "    }\n",
       "\n",
       "    .dataframe tbody tr th {\n",
       "        vertical-align: top;\n",
       "    }\n",
       "\n",
       "    .dataframe thead th {\n",
       "        text-align: right;\n",
       "    }\n",
       "</style>\n",
       "<table border=\"1\" class=\"dataframe\">\n",
       "  <thead>\n",
       "    <tr style=\"text-align: right;\">\n",
       "      <th></th>\n",
       "      <th>TotalProd</th>\n",
       "      <th>CustomerID</th>\n",
       "    </tr>\n",
       "    <tr>\n",
       "      <th>CustomerID</th>\n",
       "      <th></th>\n",
       "      <th></th>\n",
       "    </tr>\n",
       "  </thead>\n",
       "  <tbody>\n",
       "    <tr>\n",
       "      <th>12346</th>\n",
       "      <td>1.00</td>\n",
       "      <td>12346</td>\n",
       "    </tr>\n",
       "    <tr>\n",
       "      <th>12347</th>\n",
       "      <td>103.00</td>\n",
       "      <td>12347</td>\n",
       "    </tr>\n",
       "    <tr>\n",
       "      <th>12348</th>\n",
       "      <td>22.00</td>\n",
       "      <td>12348</td>\n",
       "    </tr>\n",
       "    <tr>\n",
       "      <th>12349</th>\n",
       "      <td>73.00</td>\n",
       "      <td>12349</td>\n",
       "    </tr>\n",
       "    <tr>\n",
       "      <th>12350</th>\n",
       "      <td>17.00</td>\n",
       "      <td>12350</td>\n",
       "    </tr>\n",
       "    <tr>\n",
       "      <th>...</th>\n",
       "      <td>...</td>\n",
       "      <td>...</td>\n",
       "    </tr>\n",
       "    <tr>\n",
       "      <th>18281</th>\n",
       "      <td>7.00</td>\n",
       "      <td>18281</td>\n",
       "    </tr>\n",
       "    <tr>\n",
       "      <th>18282</th>\n",
       "      <td>12.00</td>\n",
       "      <td>18282</td>\n",
       "    </tr>\n",
       "    <tr>\n",
       "      <th>18283</th>\n",
       "      <td>263.00</td>\n",
       "      <td>18283</td>\n",
       "    </tr>\n",
       "    <tr>\n",
       "      <th>18287</th>\n",
       "      <td>59.00</td>\n",
       "      <td>18287</td>\n",
       "    </tr>\n",
       "    <tr>\n",
       "      <th>18288</th>\n",
       "      <td>109.00</td>\n",
       "      <td>18288</td>\n",
       "    </tr>\n",
       "  </tbody>\n",
       "</table>\n",
       "<p>4373 rows × 2 columns</p>\n",
       "</div>"
      ],
      "text/plain": [
       "            TotalProd  CustomerID\n",
       "CustomerID                       \n",
       "12346            1.00       12346\n",
       "12347          103.00       12347\n",
       "12348           22.00       12348\n",
       "12349           73.00       12349\n",
       "12350           17.00       12350\n",
       "...               ...         ...\n",
       "18281            7.00       18281\n",
       "18282           12.00       18282\n",
       "18283          263.00       18283\n",
       "18287           59.00       18287\n",
       "18288          109.00       18288\n",
       "\n",
       "[4373 rows x 2 columns]"
      ]
     },
     "execution_count": 896,
     "metadata": {},
     "output_type": "execute_result"
    }
   ],
   "source": [
    "items['CustomerID'] = Iu.index\n",
    "items.index = items.CustomerID\n",
    "items"
   ]
  },
  {
   "cell_type": "code",
   "execution_count": 730,
   "metadata": {},
   "outputs": [
    {
     "data": {
      "text/plain": [
       "(-1000.0, 1500.0, 0.0, 0.002)"
      ]
     },
     "execution_count": 730,
     "metadata": {},
     "output_type": "execute_result"
    },
    {
     "data": {
      "image/png": "[encoded data removed]",
      "text/plain": [
       "<Figure size 432x288 with 1 Axes>"
      ]
     },
     "metadata": {
      "needs_background": "light"
     },
     "output_type": "display_data"
    }
   ],
   "source": [
    "# DENSITY PLOT\n",
    "Iu.plot.kde()\n",
    "plt.title('Density distribution of distinct items bought: ')\n",
    "plt.axis([-1000,1500,0,0.002])"
   ]
  },
  {
   "cell_type": "code",
   "execution_count": 731,
   "metadata": {},
   "outputs": [
    {
     "data": {
      "text/plain": [
       "<matplotlib.axes._subplots.AxesSubplot at 0x18a185c3dc8>"
      ]
     },
     "execution_count": 731,
     "metadata": {},
     "output_type": "execute_result"
    },
    {
     "data": {
      "image/png": "[encoded data removed]",
      "text/plain": [
       "<Figure size 432x288 with 1 Axes>"
      ]
     },
     "metadata": {
      "needs_background": "light"
     },
     "output_type": "display_data"
    }
   ],
   "source": [
    "# FREQUENCY\n",
    "Iu.plot(kind='hist')"
   ]
  },
  {
   "cell_type": "markdown",
   "metadata": {},
   "source": [
    "## \"Imax\" indicator"
   ]
  },
  {
   "cell_type": "code",
   "execution_count": 732,
   "metadata": {},
   "outputs": [
    {
     "data": {
      "text/plain": [
       "CustomerID\n",
       "12346                                    [541431, C541433]\n",
       "12347    [537626, 542237, 549222, 556201, 562032, 57351...\n",
       "12348                     [539318, 541998, 548955, 568172]\n",
       "12349                                             [577609]\n",
       "12350                                             [543037]\n",
       "                               ...                        \n",
       "18281                                             [556464]\n",
       "18282                            [562525, C562808, 580173]\n",
       "18283    [540350, 541854, 545079, 550957, 554157, 55673...\n",
       "18287                             [554065, 570715, 573167]\n",
       "18288    [541975, C546557, 546558, 549738, 553148, 5576...\n",
       "Name: BasketID, Length: 4373, dtype: object"
      ]
     },
     "execution_count": 732,
     "metadata": {},
     "output_type": "execute_result"
    }
   ],
   "source": [
    "# maximum number of items purchased by a customer during a shopping session\n",
    "#Imax = df.Qta.groupby([df.CustomerID, df.BasketID]).sum().sort_values()\n",
    "#Imax\n",
    "df.BasketID.groupby(df.CustomerID).unique()"
   ]
  },
  {
   "cell_type": "markdown",
   "metadata": {},
   "source": [
    "## \"E\" indicator"
   ]
  },
  {
   "cell_type": "markdown",
   "metadata": {},
   "source": [
    "The value of entropy is between 0 and log(n).\n",
    "NB. *n* in this case is the number of distinct customers, i.e. 4373."
   ]
  },
  {
   "cell_type": "code",
   "execution_count": 749,
   "metadata": {},
   "outputs": [
    {
     "name": "stdout",
     "output_type": "stream",
     "text": [
      "Maximum value for Entropy:  8.38320455141292\n"
     ]
    }
   ],
   "source": [
    "import math\n",
    "print(\"Maximum value for Entropy: \", math.log(4373)) \n",
    "# in this case every event has the same probability -> confusion, not informative at all"
   ]
  },
  {
   "cell_type": "code",
   "execution_count": 733,
   "metadata": {},
   "outputs": [],
   "source": [
    "# Shannon entropy on the purchasing behaviour of the customer"
   ]
  },
  {
   "cell_type": "code",
   "execution_count": 750,
   "metadata": {
    "scrolled": true
   },
   "outputs": [
    {
     "name": "stderr",
     "output_type": "stream",
     "text": [
      "C:\\Users\\Diletta\\AppData\\Roaming\\Python\\Python37\\site-packages\\pandas\\core\\series.py:679: RuntimeWarning: divide by zero encountered in log\n",
      "  result = getattr(ufunc, method)(*inputs, **kwargs)\n"
     ]
    },
    {
     "data": {
      "text/plain": [
       "<matplotlib.axes._subplots.AxesSubplot at 0x18a2fa713c8>"
      ]
     },
     "execution_count": 750,
     "metadata": {},
     "output_type": "execute_result"
    },
    {
     "data": {
      "image/png": "[encoded data removed]",
      "text/plain": [
       "<Figure size 432x288 with 1 Axes>"
      ]
     },
     "metadata": {
      "needs_background": "light"
     },
     "output_type": "display_data"
    }
   ],
   "source": [
    "# COMPUTING SHANNON ENTROPY\n",
    "g_sum = df.groupby('CustomerID')['Sale'].transform('sum')\n",
    "values = df['Sale']/g_sum\n",
    "df['Entropy'] = -(values*np.log(values))\n",
    "\n",
    "# ENTROPY DISTRIBUTION\n",
    "df1 = df.groupby('CustomerID',as_index=False,sort=False)['Entropy'].sum()\n",
    "df1['Entropy'].plot.kde()"
   ]
  },
  {
   "cell_type": "markdown",
   "metadata": {},
   "source": [
    "## Additional indicators\n",
    "### Sales per customer"
   ]
  },
  {
   "cell_type": "code",
   "execution_count": 794,
   "metadata": {},
   "outputs": [
    {
     "data": {
      "text/plain": [
       "(-6000.0, 6000.0, 0.0, 0.0004)"
      ]
     },
     "execution_count": 794,
     "metadata": {},
     "output_type": "execute_result"
    },
    {
     "data": {
      "image/png": "[encoded data removed]",
      "text/plain": [
       "<Figure size 432x288 with 1 Axes>"
      ]
     },
     "metadata": {
      "needs_background": "light"
     },
     "output_type": "display_data"
    }
   ],
   "source": [
    "# DENSITY PLOT\n",
    "total_spent = df['Sale'].groupby(df['CustomerID']).sum()\n",
    "total_spent.plot(kind='kde')\n",
    "plt.title('Density distribution of items bought: ')\n",
    "plt.axis([-6000,6000,0,0.0004])"
   ]
  },
  {
   "cell_type": "code",
   "execution_count": 735,
   "metadata": {},
   "outputs": [
    {
     "data": {
      "image/png": "[encoded data removed]",
      "text/plain": [
       "<Figure size 432x288 with 1 Axes>"
      ]
     },
     "metadata": {
      "needs_background": "light"
     },
     "output_type": "display_data"
    }
   ],
   "source": [
    "# SCATTER PLOT\n",
    "plt.scatter(df['Sale'], df['CustomerID'])\n",
    "plt.xlabel('Sale')\n",
    "plt.ylabel('CustomerID')\n",
    "plt.show()"
   ]
  },
  {
   "cell_type": "markdown",
   "metadata": {},
   "source": [
    "**Is that value an outlier ???**"
   ]
  },
  {
   "cell_type": "code",
   "execution_count": 736,
   "metadata": {},
   "outputs": [
    {
     "data": {
      "image/png": "[encoded data removed]",
      "text/plain": [
       "<Figure size 432x288 with 1 Axes>"
      ]
     },
     "metadata": {
      "needs_background": "light"
     },
     "output_type": "display_data"
    }
   ],
   "source": [
    "# \"zoomming\" the interesting part\n",
    "plt.scatter(df['Sale'], df['CustomerID'])\n",
    "plt.xlabel('Sale')\n",
    "plt.ylabel('CustomerID')\n",
    "plt.axis([0,10000,df['CustomerID'].min(),df['CustomerID'].max()])\n",
    "plt.show()"
   ]
  },
  {
   "cell_type": "markdown",
   "metadata": {},
   "source": [
    "Ciò che emerge dal profilo del customer è che molte persone fanno spese piccole mentre poche persone fanno spese più grandi.\n",
    "Ciò è confermato dal grafico delle frequenze:"
   ]
  },
  {
   "cell_type": "code",
   "execution_count": 737,
   "metadata": {
    "scrolled": true
   },
   "outputs": [
    {
     "data": {
      "text/plain": [
       "<matplotlib.axes._subplots.AxesSubplot at 0x18a1c681dc8>"
      ]
     },
     "execution_count": 737,
     "metadata": {},
     "output_type": "execute_result"
    },
    {
     "data": {
      "image/png": "[encoded data removed]",
      "text/plain": [
       "<Figure size 432x288 with 1 Axes>"
      ]
     },
     "metadata": {
      "needs_background": "light"
     },
     "output_type": "display_data"
    }
   ],
   "source": [
    "# FREQUENCY\n",
    "df['Sale'].groupby(df['CustomerID']).sum().plot(kind='hist')"
   ]
  },
  {
   "cell_type": "markdown",
   "metadata": {},
   "source": [
    " ### Shopping sessions per customer"
   ]
  },
  {
   "cell_type": "code",
   "execution_count": 801,
   "metadata": {},
   "outputs": [
    {
     "data": {
      "text/plain": [
       "CustomerID\n",
       "12346      2\n",
       "12347    182\n",
       "12348     31\n",
       "12349     73\n",
       "12350     17\n",
       "        ... \n",
       "18281      7\n",
       "18282     13\n",
       "18283    756\n",
       "18287     70\n",
       "18288    138\n",
       "Name: BasketID, Length: 4373, dtype: int64"
      ]
     },
     "execution_count": 801,
     "metadata": {},
     "output_type": "execute_result"
    }
   ],
   "source": [
    "shopping_sess = df['BasketID'].groupby(df['CustomerID']).count()\n",
    "shopping_sess"
   ]
  },
  {
   "cell_type": "markdown",
   "metadata": {},
   "source": [
    "# New Dataset\n"
   ]
  },
  {
   "cell_type": "code",
   "execution_count": 760,
   "metadata": {},
   "outputs": [],
   "source": [
    "#customer_data = {'Customer': [], 'TotalQta': []}\n",
    "#customers = pd.DataFrame(data=customer_data)\n",
    "#customers.Customer = df.CustomerID.unique()"
   ]
  },
  {
   "cell_type": "code",
   "execution_count": 882,
   "metadata": {},
   "outputs": [],
   "source": [
    "# creating a new dataframe starting from \"I\" indicator\n",
    "customers = pd.DataFrame(I)\n",
    "customers = customers.rename(columns={\"Qta\": \"TotalQta\"})"
   ]
  },
  {
   "cell_type": "code",
   "execution_count": 897,
   "metadata": {},
   "outputs": [],
   "source": [
    "# adding info from \"Iu\" indicator\n",
    "customers['TotalProd'] = items.TotalProd"
   ]
  },
  {
   "cell_type": "code",
   "execution_count": 898,
   "metadata": {},
   "outputs": [],
   "source": [
    "# adding info from addictional indicators\n",
    "\n",
    "total_spent = pd.DataFrame(total_spent)\n",
    "customers['TotalSpent'] = total_spent.Sale\n",
    "\n",
    "shopping_sess = pd.DataFrame(shopping_sess)\n",
    "customers['ShopSessions'] = shopping_sess.BasketID"
   ]
  },
  {
   "cell_type": "code",
   "execution_count": 899,
   "metadata": {},
   "outputs": [
    {
     "data": {
      "text/html": [
       "<div>\n",
       "<style scoped>\n",
       "    .dataframe tbody tr th:only-of-type {\n",
       "        vertical-align: middle;\n",
       "    }\n",
       "\n",
       "    .dataframe tbody tr th {\n",
       "        vertical-align: top;\n",
       "    }\n",
       "\n",
       "    .dataframe thead th {\n",
       "        text-align: right;\n",
       "    }\n",
       "</style>\n",
       "<table border=\"1\" class=\"dataframe\">\n",
       "  <thead>\n",
       "    <tr style=\"text-align: right;\">\n",
       "      <th></th>\n",
       "      <th>TotalQta</th>\n",
       "      <th>TotalSpent</th>\n",
       "      <th>ShopSessions</th>\n",
       "      <th>TotalProd</th>\n",
       "    </tr>\n",
       "    <tr>\n",
       "      <th>CustomerID</th>\n",
       "      <th></th>\n",
       "      <th></th>\n",
       "      <th></th>\n",
       "      <th></th>\n",
       "    </tr>\n",
       "  </thead>\n",
       "  <tbody>\n",
       "    <tr>\n",
       "      <th>12346</th>\n",
       "      <td>0</td>\n",
       "      <td>2.08</td>\n",
       "      <td>2</td>\n",
       "      <td>1.00</td>\n",
       "    </tr>\n",
       "    <tr>\n",
       "      <th>12347</th>\n",
       "      <td>2458</td>\n",
       "      <td>481.21</td>\n",
       "      <td>182</td>\n",
       "      <td>103.00</td>\n",
       "    </tr>\n",
       "    <tr>\n",
       "      <th>12348</th>\n",
       "      <td>2341</td>\n",
       "      <td>178.71</td>\n",
       "      <td>31</td>\n",
       "      <td>22.00</td>\n",
       "    </tr>\n",
       "    <tr>\n",
       "      <th>12349</th>\n",
       "      <td>631</td>\n",
       "      <td>605.10</td>\n",
       "      <td>73</td>\n",
       "      <td>73.00</td>\n",
       "    </tr>\n",
       "    <tr>\n",
       "      <th>12350</th>\n",
       "      <td>197</td>\n",
       "      <td>65.30</td>\n",
       "      <td>17</td>\n",
       "      <td>17.00</td>\n",
       "    </tr>\n",
       "    <tr>\n",
       "      <th>...</th>\n",
       "      <td>...</td>\n",
       "      <td>...</td>\n",
       "      <td>...</td>\n",
       "      <td>...</td>\n",
       "    </tr>\n",
       "    <tr>\n",
       "      <th>18281</th>\n",
       "      <td>54</td>\n",
       "      <td>39.36</td>\n",
       "      <td>7</td>\n",
       "      <td>7.00</td>\n",
       "    </tr>\n",
       "    <tr>\n",
       "      <th>18282</th>\n",
       "      <td>98</td>\n",
       "      <td>62.68</td>\n",
       "      <td>13</td>\n",
       "      <td>12.00</td>\n",
       "    </tr>\n",
       "    <tr>\n",
       "      <th>18283</th>\n",
       "      <td>1397</td>\n",
       "      <td>1220.93</td>\n",
       "      <td>756</td>\n",
       "      <td>263.00</td>\n",
       "    </tr>\n",
       "    <tr>\n",
       "      <th>18287</th>\n",
       "      <td>1586</td>\n",
       "      <td>104.55</td>\n",
       "      <td>70</td>\n",
       "      <td>59.00</td>\n",
       "    </tr>\n",
       "    <tr>\n",
       "      <th>18288</th>\n",
       "      <td>2592</td>\n",
       "      <td>8260.08</td>\n",
       "      <td>138</td>\n",
       "      <td>109.00</td>\n",
       "    </tr>\n",
       "  </tbody>\n",
       "</table>\n",
       "<p>4373 rows × 4 columns</p>\n",
       "</div>"
      ],
      "text/plain": [
       "            TotalQta  TotalSpent  ShopSessions  TotalProd\n",
       "CustomerID                                               \n",
       "12346              0        2.08             2       1.00\n",
       "12347           2458      481.21           182     103.00\n",
       "12348           2341      178.71            31      22.00\n",
       "12349            631      605.10            73      73.00\n",
       "12350            197       65.30            17      17.00\n",
       "...              ...         ...           ...        ...\n",
       "18281             54       39.36             7       7.00\n",
       "18282             98       62.68            13      12.00\n",
       "18283           1397     1220.93           756     263.00\n",
       "18287           1586      104.55            70      59.00\n",
       "18288           2592     8260.08           138     109.00\n",
       "\n",
       "[4373 rows x 4 columns]"
      ]
     },
     "execution_count": 899,
     "metadata": {},
     "output_type": "execute_result"
    }
   ],
   "source": [
    "customers"
   ]
  },
  {
   "cell_type": "code",
   "execution_count": 900,
   "metadata": {},
   "outputs": [],
   "source": [
    "# Exporting the new dataset in CSV format\n",
    "customers.to_csv(r'customers.csv', index = False)"
   ]
  },
  {
   "cell_type": "markdown",
   "metadata": {},
   "source": [
    "## Correlations "
   ]
  },
  {
   "cell_type": "code",
   "execution_count": 901,
   "metadata": {},
   "outputs": [
    {
     "data": {
      "text/html": [
       "<div>\n",
       "<style scoped>\n",
       "    .dataframe tbody tr th:only-of-type {\n",
       "        vertical-align: middle;\n",
       "    }\n",
       "\n",
       "    .dataframe tbody tr th {\n",
       "        vertical-align: top;\n",
       "    }\n",
       "\n",
       "    .dataframe thead th {\n",
       "        text-align: right;\n",
       "    }\n",
       "</style>\n",
       "<table border=\"1\" class=\"dataframe\">\n",
       "  <thead>\n",
       "    <tr style=\"text-align: right;\">\n",
       "      <th></th>\n",
       "      <th>TotalQta</th>\n",
       "      <th>TotalSpent</th>\n",
       "      <th>ShopSessions</th>\n",
       "      <th>TotalProd</th>\n",
       "    </tr>\n",
       "  </thead>\n",
       "  <tbody>\n",
       "    <tr>\n",
       "      <th>TotalQta</th>\n",
       "      <td>1.00</td>\n",
       "      <td>0.51</td>\n",
       "      <td>0.54</td>\n",
       "      <td>0.58</td>\n",
       "    </tr>\n",
       "    <tr>\n",
       "      <th>TotalSpent</th>\n",
       "      <td>0.51</td>\n",
       "      <td>1.00</td>\n",
       "      <td>0.99</td>\n",
       "      <td>0.60</td>\n",
       "    </tr>\n",
       "    <tr>\n",
       "      <th>ShopSessions</th>\n",
       "      <td>0.54</td>\n",
       "      <td>0.99</td>\n",
       "      <td>1.00</td>\n",
       "      <td>0.66</td>\n",
       "    </tr>\n",
       "    <tr>\n",
       "      <th>TotalProd</th>\n",
       "      <td>0.58</td>\n",
       "      <td>0.60</td>\n",
       "      <td>0.66</td>\n",
       "      <td>1.00</td>\n",
       "    </tr>\n",
       "  </tbody>\n",
       "</table>\n",
       "</div>"
      ],
      "text/plain": [
       "              TotalQta  TotalSpent  ShopSessions  TotalProd\n",
       "TotalQta          1.00        0.51          0.54       0.58\n",
       "TotalSpent        0.51        1.00          0.99       0.60\n",
       "ShopSessions      0.54        0.99          1.00       0.66\n",
       "TotalProd         0.58        0.60          0.66       1.00"
      ]
     },
     "execution_count": 901,
     "metadata": {},
     "output_type": "execute_result"
    }
   ],
   "source": [
    "customers.corr()"
   ]
  },
  {
   "cell_type": "code",
   "execution_count": 902,
   "metadata": {},
   "outputs": [
    {
     "data": {
      "text/html": [
       "<div>\n",
       "<style scoped>\n",
       "    .dataframe tbody tr th:only-of-type {\n",
       "        vertical-align: middle;\n",
       "    }\n",
       "\n",
       "    .dataframe tbody tr th {\n",
       "        vertical-align: top;\n",
       "    }\n",
       "\n",
       "    .dataframe thead th {\n",
       "        text-align: right;\n",
       "    }\n",
       "</style>\n",
       "<table border=\"1\" class=\"dataframe\">\n",
       "  <thead>\n",
       "    <tr style=\"text-align: right;\">\n",
       "      <th></th>\n",
       "      <th>Sale</th>\n",
       "      <th>CustomerID</th>\n",
       "      <th>Qta</th>\n",
       "      <th>Entropy</th>\n",
       "    </tr>\n",
       "  </thead>\n",
       "  <tbody>\n",
       "    <tr>\n",
       "      <th>Sale</th>\n",
       "      <td>1.00</td>\n",
       "      <td>0.07</td>\n",
       "      <td>-0.40</td>\n",
       "      <td>0.31</td>\n",
       "    </tr>\n",
       "    <tr>\n",
       "      <th>CustomerID</th>\n",
       "      <td>0.07</td>\n",
       "      <td>1.00</td>\n",
       "      <td>-0.27</td>\n",
       "      <td>-0.29</td>\n",
       "    </tr>\n",
       "    <tr>\n",
       "      <th>Qta</th>\n",
       "      <td>-0.40</td>\n",
       "      <td>-0.27</td>\n",
       "      <td>1.00</td>\n",
       "      <td>0.10</td>\n",
       "    </tr>\n",
       "    <tr>\n",
       "      <th>Entropy</th>\n",
       "      <td>0.31</td>\n",
       "      <td>-0.29</td>\n",
       "      <td>0.10</td>\n",
       "      <td>1.00</td>\n",
       "    </tr>\n",
       "  </tbody>\n",
       "</table>\n",
       "</div>"
      ],
      "text/plain": [
       "            Sale  CustomerID   Qta  Entropy\n",
       "Sale        1.00        0.07 -0.40     0.31\n",
       "CustomerID  0.07        1.00 -0.27    -0.29\n",
       "Qta        -0.40       -0.27  1.00     0.10\n",
       "Entropy     0.31       -0.29  0.10     1.00"
      ]
     },
     "execution_count": 902,
     "metadata": {},
     "output_type": "execute_result"
    }
   ],
   "source": [
    "df.corr(method='spearman')"
   ]
  },
  {
   "cell_type": "code",
   "execution_count": 903,
   "metadata": {},
   "outputs": [
    {
     "data": {
      "text/html": [
       "<div>\n",
       "<style scoped>\n",
       "    .dataframe tbody tr th:only-of-type {\n",
       "        vertical-align: middle;\n",
       "    }\n",
       "\n",
       "    .dataframe tbody tr th {\n",
       "        vertical-align: top;\n",
       "    }\n",
       "\n",
       "    .dataframe thead th {\n",
       "        text-align: right;\n",
       "    }\n",
       "</style>\n",
       "<table border=\"1\" class=\"dataframe\">\n",
       "  <thead>\n",
       "    <tr style=\"text-align: right;\">\n",
       "      <th></th>\n",
       "      <th>Sale</th>\n",
       "      <th>CustomerID</th>\n",
       "      <th>Qta</th>\n",
       "      <th>Entropy</th>\n",
       "    </tr>\n",
       "  </thead>\n",
       "  <tbody>\n",
       "    <tr>\n",
       "      <th>Sale</th>\n",
       "      <td>1.00</td>\n",
       "      <td>0.05</td>\n",
       "      <td>-0.30</td>\n",
       "      <td>0.23</td>\n",
       "    </tr>\n",
       "    <tr>\n",
       "      <th>CustomerID</th>\n",
       "      <td>0.05</td>\n",
       "      <td>1.00</td>\n",
       "      <td>-0.19</td>\n",
       "      <td>-0.19</td>\n",
       "    </tr>\n",
       "    <tr>\n",
       "      <th>Qta</th>\n",
       "      <td>-0.30</td>\n",
       "      <td>-0.19</td>\n",
       "      <td>1.00</td>\n",
       "      <td>0.06</td>\n",
       "    </tr>\n",
       "    <tr>\n",
       "      <th>Entropy</th>\n",
       "      <td>0.23</td>\n",
       "      <td>-0.19</td>\n",
       "      <td>0.06</td>\n",
       "      <td>1.00</td>\n",
       "    </tr>\n",
       "  </tbody>\n",
       "</table>\n",
       "</div>"
      ],
      "text/plain": [
       "            Sale  CustomerID   Qta  Entropy\n",
       "Sale        1.00        0.05 -0.30     0.23\n",
       "CustomerID  0.05        1.00 -0.19    -0.19\n",
       "Qta        -0.30       -0.19  1.00     0.06\n",
       "Entropy     0.23       -0.19  0.06     1.00"
      ]
     },
     "execution_count": 903,
     "metadata": {},
     "output_type": "execute_result"
    }
   ],
   "source": [
    "df.corr(method='kendall')"
   ]
  },
  {
   "cell_type": "code",
   "execution_count": null,
   "metadata": {},
   "outputs": [],
   "source": []
  }
 ],
 "metadata": {
  "kernelspec": {
   "display_name": "Python 3",
   "language": "python",
   "name": "python3"
  },
  "language_info": {
   "codemirror_mode": {
    "name": "ipython",
    "version": 3
   },
   "file_extension": ".py",
   "mimetype": "text/x-python",
   "name": "python",
   "nbconvert_exporter": "python",
   "pygments_lexer": "ipython3",
   "version": "3.7.4"
  }
 },
 "nbformat": 4,
 "nbformat_minor": 1
}
