{
 "cells": [
  {
   "cell_type": "markdown",
   "metadata": {},
   "source": [
    "<b>Data mining Project - 2020/21</b><br/>\n",
    "<span>\n",
    "<b>Authors:</b> <a href=\"http://------\">Diletta Goglia</a> and <a href=\"http://------\">Marco Petix</a><br/>\n",
    "<b>Python version:</b>  3.x<br/>\n",
    "<b>Last update:</b> 26/10/2020\n",
    "</span>"
   ]
  },
  {
   "cell_type": "markdown",
   "metadata": {},
   "source": [
    "# Task 1 : Data Understanding and Preparation\n"
   ]
  },
  {
   "cell_type": "markdown",
   "metadata": {},
   "source": [
    "# Task 1.1 : Data Understanding\n",
    "\n",
    "## Introduction and dataset description\n",
    "\n",
    "This notebook contains an explorative analysis of the **\"customer_supermarket\"** describing purchases and shopping sessions.\n",
    "\n",
    "The data is organised in a form of an array, where the dataset attributes (aka features) are organised in columns, and the shoppig sessions (aka instances) - in rows. The dataset consists of several data categories describing purchases made by customers, such as the country, basket informations, products descriptions, quantity etc. \n",
    "\n",
    "The data set includes 471910 data observations.\n"
   ]
  },
  {
   "cell_type": "markdown",
   "metadata": {
    "pycharm": {
     "name": "#%% md\n"
    }
   },
   "source": [
    "**Importing libraries and loading dataset**"
   ]
  },
  {
   "cell_type": "code",
   "execution_count": 1,
   "metadata": {
    "pycharm": {
     "name": "#%%\n"
    }
   },
   "outputs": [],
   "source": [
    "%matplotlib inline\n",
    "import math\n",
    "import numpy as np\n",
    "import pandas as pd\n",
    "import scipy.stats as stats\n",
    "import matplotlib.pyplot as plt\n",
    "\n",
    "from collections import defaultdict\n",
    "from scipy.stats.stats import pearsonr"
   ]
  },
  {
   "cell_type": "markdown",
   "metadata": {
    "pycharm": {
     "name": "#%% md\n"
    }
   },
   "source": [
    "**Loading the dataset**\n",
    "\n",
    "Read the .csv file containing the data. The first line contains the list of attributes. The data is assigned to a Pandas dataframe."
   ]
  },
  {
   "cell_type": "code",
   "execution_count": 2,
   "metadata": {
    "pycharm": {
     "name": "#%%\n"
    }
   },
   "outputs": [],
   "source": [
    "df = pd.read_csv('customer_supermarket.csv', sep='\\t', index_col=0)"
   ]
  },
  {
   "cell_type": "markdown",
   "metadata": {},
   "source": [
    "## Data semantics\n",
    "\n",
    "The function **head()** provides some of the first records of the dataframe.\n",
    "We use it in order to assess the correct loading of the dataset and to provide a example of the records contained within it."
   ]
  },
  {
   "cell_type": "code",
   "execution_count": 3,
   "metadata": {
    "pycharm": {
     "name": "#%%\n"
    }
   },
   "outputs": [
    {
     "name": "stdout",
     "output_type": "stream",
     "text": [
      "  BasketID      BasketDate  Sale  CustomerID CustomerCountry  ProdID  \\\n",
      "0   536365  01/12/10 08:26  2,55     17850.0  United Kingdom  85123A   \n",
      "1   536365  01/12/10 08:26  3,39     17850.0  United Kingdom   71053   \n",
      "2   536365  01/12/10 08:26  2,75     17850.0  United Kingdom  84406B   \n",
      "3   536365  01/12/10 08:26  3,39     17850.0  United Kingdom  84029G   \n",
      "4   536365  01/12/10 08:26  3,39     17850.0  United Kingdom  84029E   \n",
      "\n",
      "                             ProdDescr  Qta  \n",
      "0   WHITE HANGING HEART T-LIGHT HOLDER    6  \n",
      "1                  WHITE METAL LANTERN    6  \n",
      "2       CREAM CUPID HEARTS COAT HANGER    8  \n",
      "3  KNITTED UNION FLAG HOT WATER BOTTLE    6  \n",
      "4       RED WOOLLY HOTTIE WHITE HEART.    6  \n"
     ]
    }
   ],
   "source": [
    "print(df.head()) #print the first records of a df"
   ]
  },
  {
   "cell_type": "markdown",
   "metadata": {},
   "source": [
    "### Types of Attributes and basic checks\n",
    "\n",
    "The Pandas function **info()** is used in order to obtain preliminary information on the dataset.\n",
    "It highlights the data type and counts the number of not-null values for each column of the dataset."
   ]
  },
  {
   "cell_type": "code",
   "execution_count": 4,
   "metadata": {
    "pycharm": {
     "name": "#%%\n"
    }
   },
   "outputs": [
    {
     "name": "stdout",
     "output_type": "stream",
     "text": [
      "<class 'pandas.core.frame.DataFrame'>\n",
      "Int64Index: 471910 entries, 0 to 541909\n",
      "Data columns (total 8 columns):\n",
      " #   Column           Non-Null Count   Dtype  \n",
      "---  ------           --------------   -----  \n",
      " 0   BasketID         471910 non-null  object \n",
      " 1   BasketDate       471910 non-null  object \n",
      " 2   Sale             471910 non-null  object \n",
      " 3   CustomerID       406830 non-null  float64\n",
      " 4   CustomerCountry  471910 non-null  object \n",
      " 5   ProdID           471910 non-null  object \n",
      " 6   ProdDescr        471157 non-null  object \n",
      " 7   Qta              471910 non-null  int64  \n",
      "dtypes: float64(1), int64(1), object(6)\n",
      "memory usage: 32.4+ MB\n"
     ]
    }
   ],
   "source": [
    "df.info()"
   ]
  },
  {
   "cell_type": "markdown",
   "metadata": {},
   "source": [
    "The aforementioned function, other than identifying 471910 as the total number of records contained within the dataframe, highlights:\n",
    "1. the inability of Pandas to recognize the values of *BasketDate* as datetime;\n",
    "2. the misinterpretation of the values of the attribute *Sale*, being represented as objects and not real numbers, due to the use of the **comma as delimiter for decimal values**;\n",
    "3. the presence of **missing values** within the attributes *CustomerID* and *ProdDescr*;\n",
    "4. the presence of **non numerical values** within the attributes *BasketID* and *ProductID*, despite an expectation at a first intuitive level could suggest them to be integer.\n",
    "\n",
    "Moreover, we notice that we only have attributes of the type **categorical**, **numeric** and **ratio-scaled** (there are not 'binary' and 'ordinal' types of data).\n",
    "\n",
    "Here we present a classification of these attributes by type:\n",
    "\n",
    "- Categorical Attributes:<br>\n",
    "    - *BasketID*\n",
    "    - *CustomerID*\n",
    "    - *CustomerCountry*\n",
    "    - *ProdID*\n",
    "    - *ProdDescr*\n",
    "\n",
    "- Numerical Attributes:<br>\n",
    "    - *BasketDate*\n",
    "    - *Sale*\n",
    "    - *Qta*\n",
    "\n",
    "### Type conversion\n",
    "\n",
    "Now we address the first two issues referred above, we want Pandas to:\n",
    "+ recognize the values from *BasketDate* as datetime and, \n",
    "+ recognize the values from *Sale* as floats.\n",
    "\n",
    "Both of them are fixable by tinkering with the arguments **parse_dates** and **decimal** from the pandas function **read_csv()** as in :"
   ]
  },
  {
   "cell_type": "code",
   "execution_count": 5,
   "metadata": {},
   "outputs": [],
   "source": [
    "# df = pd.read_csv('customer_supermarket.csv', sep='\\t', index_col=0, decimal = \",\",\n",
    "#                 parse_dates=[\"BasketDate\"])"
   ]
  },
  {
   "cell_type": "markdown",
   "metadata": {},
   "source": [
    "But for the sake of this notebook we will employ the casting function provided by Pandas.\n",
    "\n",
    "***BasketDate***<br>\n",
    "We use the pandas function **to_datetime()** in order to correctly format the values from *BasketDate*."
   ]
  },
  {
   "cell_type": "code",
   "execution_count": 6,
   "metadata": {
    "pycharm": {
     "name": "#%%\n"
    }
   },
   "outputs": [],
   "source": [
    "df['BasketDate'] = pd.to_datetime(df['BasketDate']) # converting 'BasketDate' to datetime"
   ]
  },
  {
   "cell_type": "markdown",
   "metadata": {},
   "source": [
    "***Sale***<br>\n",
    "The presence of commas as decimal delimiters is common when working with European data.\n",
    "\n",
    "We substitute the commas with dots in the *Sale* column and convert it from object to float type using Pandas **astype()** function."
   ]
  },
  {
   "cell_type": "code",
   "execution_count": 7,
   "metadata": {},
   "outputs": [
    {
     "data": {
      "text/plain": [
       "0    2.55\n",
       "1    3.39\n",
       "2    2.75\n",
       "3    3.39\n",
       "4    3.39\n",
       "Name: Sale, dtype: float64"
      ]
     },
     "execution_count": 7,
     "metadata": {},
     "output_type": "execute_result"
    }
   ],
   "source": [
    "df['Sale'] = df['Sale'].str.replace(',', '.') # replacing commas with dots\n",
    "df['Sale'] = df['Sale'].astype(float) # converting 'Sale' to float type\n",
    "df['Sale'].head()"
   ]
  },
  {
   "cell_type": "markdown",
   "metadata": {},
   "source": [
    "***CustomerIDs* as floats or objects**\n",
    "\n",
    "Given the index role of *CustomerID*, its representation as a numeric data is not useful for our analysis and, therefore, the panda **astype()** function is again used to cast the values from said attribute as objects."
   ]
  },
  {
   "cell_type": "code",
   "execution_count": 8,
   "metadata": {},
   "outputs": [],
   "source": [
    "df['CustomerID'] = df['CustomerID'].astype(object) # converting 'CustomerID' to object type"
   ]
  },
  {
   "cell_type": "markdown",
   "metadata": {},
   "source": [
    "We check again the data types after having fixed them:"
   ]
  },
  {
   "cell_type": "code",
   "execution_count": 9,
   "metadata": {
    "pycharm": {
     "name": "#%%\n"
    },
    "scrolled": true
   },
   "outputs": [
    {
     "data": {
      "text/plain": [
       "BasketID                   object\n",
       "BasketDate         datetime64[ns]\n",
       "Sale                      float64\n",
       "CustomerID                 object\n",
       "CustomerCountry            object\n",
       "ProdID                     object\n",
       "ProdDescr                  object\n",
       "Qta                         int64\n",
       "dtype: object"
      ]
     },
     "execution_count": 9,
     "metadata": {},
     "output_type": "execute_result"
    }
   ],
   "source": [
    "df.dtypes # return the type of each attribute\n",
    "          # provides list of attribute with the respective type"
   ]
  },
  {
   "cell_type": "markdown",
   "metadata": {},
   "source": [
    "## Statistics and Data Distribution\n"
   ]
  },
  {
   "cell_type": "markdown",
   "metadata": {},
   "source": [
    "### Statistics\n",
    "The pandas function **describe()** is used to obtain basic statistical notions regarding the numerical attributes of the dataset."
   ]
  },
  {
   "cell_type": "code",
   "execution_count": 10,
   "metadata": {},
   "outputs": [
    {
     "data": {
      "text/html": [
       "<div>\n",
       "<style scoped>\n",
       "    .dataframe tbody tr th:only-of-type {\n",
       "        vertical-align: middle;\n",
       "    }\n",
       "\n",
       "    .dataframe tbody tr th {\n",
       "        vertical-align: top;\n",
       "    }\n",
       "\n",
       "    .dataframe thead th {\n",
       "        text-align: right;\n",
       "    }\n",
       "</style>\n",
       "<table border=\"1\" class=\"dataframe\">\n",
       "  <thead>\n",
       "    <tr style=\"text-align: right;\">\n",
       "      <th></th>\n",
       "      <th>Sale</th>\n",
       "      <th>Qta</th>\n",
       "    </tr>\n",
       "  </thead>\n",
       "  <tbody>\n",
       "    <tr>\n",
       "      <th>count</th>\n",
       "      <td>471910.00</td>\n",
       "      <td>471910.00</td>\n",
       "    </tr>\n",
       "    <tr>\n",
       "      <th>mean</th>\n",
       "      <td>4.03</td>\n",
       "      <td>10.72</td>\n",
       "    </tr>\n",
       "    <tr>\n",
       "      <th>std</th>\n",
       "      <td>83.77</td>\n",
       "      <td>231.36</td>\n",
       "    </tr>\n",
       "    <tr>\n",
       "      <th>min</th>\n",
       "      <td>-11062.06</td>\n",
       "      <td>-80995.00</td>\n",
       "    </tr>\n",
       "    <tr>\n",
       "      <th>25%</th>\n",
       "      <td>1.25</td>\n",
       "      <td>1.00</td>\n",
       "    </tr>\n",
       "    <tr>\n",
       "      <th>50%</th>\n",
       "      <td>2.08</td>\n",
       "      <td>4.00</td>\n",
       "    </tr>\n",
       "    <tr>\n",
       "      <th>75%</th>\n",
       "      <td>3.75</td>\n",
       "      <td>12.00</td>\n",
       "    </tr>\n",
       "    <tr>\n",
       "      <th>max</th>\n",
       "      <td>38970.00</td>\n",
       "      <td>80995.00</td>\n",
       "    </tr>\n",
       "  </tbody>\n",
       "</table>\n",
       "</div>"
      ],
      "text/plain": [
       "           Sale       Qta\n",
       "count 471910.00 471910.00\n",
       "mean       4.03     10.72\n",
       "std       83.77    231.36\n",
       "min   -11062.06 -80995.00\n",
       "25%        1.25      1.00\n",
       "50%        2.08      4.00\n",
       "75%        3.75     12.00\n",
       "max    38970.00  80995.00"
      ]
     },
     "execution_count": 10,
     "metadata": {},
     "output_type": "execute_result"
    }
   ],
   "source": [
    "pd.options.display.float_format = '{:.2f}'.format\n",
    "df.describe() # this function provides a summary of statistical informations"
   ]
  },
  {
   "cell_type": "markdown",
   "metadata": {},
   "source": [
    "The data provided by the function highlight:\n",
    "- *Sale* and *Qta* are both positively skewed.\n",
    "- the presence of **negative values** within both the *Sale* and *Qta* columns.\n",
    "- an high variance for both attributes, perhaps due to **outliers**."
   ]
  },
  {
   "cell_type": "markdown",
   "metadata": {},
   "source": [
    "#### Negative values in *Sale* and *Qta*\n",
    "\n",
    "In order to rule out the possibility of outliers or insertion errors, we check the records with negative values for *Sale* and *Qta*.\n",
    "The *ProdDescr* attribute could, in this case, provide a useful contextualization of the transactions represented by said records.\n",
    "\n",
    "##### Sale\n",
    "\n",
    "We compute a list of the records with negative values for *Sale*."
   ]
  },
  {
   "cell_type": "code",
   "execution_count": 11,
   "metadata": {},
   "outputs": [
    {
     "data": {
      "text/html": [
       "<div>\n",
       "<style scoped>\n",
       "    .dataframe tbody tr th:only-of-type {\n",
       "        vertical-align: middle;\n",
       "    }\n",
       "\n",
       "    .dataframe tbody tr th {\n",
       "        vertical-align: top;\n",
       "    }\n",
       "\n",
       "    .dataframe thead th {\n",
       "        text-align: right;\n",
       "    }\n",
       "</style>\n",
       "<table border=\"1\" class=\"dataframe\">\n",
       "  <thead>\n",
       "    <tr style=\"text-align: right;\">\n",
       "      <th></th>\n",
       "      <th>BasketID</th>\n",
       "      <th>BasketDate</th>\n",
       "      <th>Sale</th>\n",
       "      <th>CustomerID</th>\n",
       "      <th>CustomerCountry</th>\n",
       "      <th>ProdID</th>\n",
       "      <th>ProdDescr</th>\n",
       "      <th>Qta</th>\n",
       "    </tr>\n",
       "  </thead>\n",
       "  <tbody>\n",
       "    <tr>\n",
       "      <th>299983</th>\n",
       "      <td>A563186</td>\n",
       "      <td>2011-12-08 14:51:00</td>\n",
       "      <td>-11062.06</td>\n",
       "      <td>NaN</td>\n",
       "      <td>United Kingdom</td>\n",
       "      <td>B</td>\n",
       "      <td>Adjust bad debt</td>\n",
       "      <td>1</td>\n",
       "    </tr>\n",
       "    <tr>\n",
       "      <th>299984</th>\n",
       "      <td>A563187</td>\n",
       "      <td>2011-12-08 14:52:00</td>\n",
       "      <td>-11062.06</td>\n",
       "      <td>NaN</td>\n",
       "      <td>United Kingdom</td>\n",
       "      <td>B</td>\n",
       "      <td>Adjust bad debt</td>\n",
       "      <td>1</td>\n",
       "    </tr>\n",
       "  </tbody>\n",
       "</table>\n",
       "</div>"
      ],
      "text/plain": [
       "       BasketID          BasketDate      Sale CustomerID CustomerCountry  \\\n",
       "299983  A563186 2011-12-08 14:51:00 -11062.06        NaN  United Kingdom   \n",
       "299984  A563187 2011-12-08 14:52:00 -11062.06        NaN  United Kingdom   \n",
       "\n",
       "       ProdID        ProdDescr  Qta  \n",
       "299983      B  Adjust bad debt    1  \n",
       "299984      B  Adjust bad debt    1  "
      ]
     },
     "execution_count": 11,
     "metadata": {},
     "output_type": "execute_result"
    }
   ],
   "source": [
    "# Negative values in Sale\n",
    "df[df.Sale < 0]"
   ]
  },
  {
   "cell_type": "code",
   "execution_count": 12,
   "metadata": {},
   "outputs": [
    {
     "data": {
      "text/plain": [
       "299983    Adjust bad debt\n",
       "299984    Adjust bad debt\n",
       "Name: ProdDescr, dtype: object"
      ]
     },
     "execution_count": 12,
     "metadata": {},
     "output_type": "execute_result"
    }
   ],
   "source": [
    "df[df.Sale < 0].ProdDescr"
   ]
  },
  {
   "cell_type": "markdown",
   "metadata": {},
   "source": [
    "According to the description associated with both records (*ProdDescr* : \"Adjust bad dept\"), these transactions could be associated with some kind of refund operation.\n",
    "    "
   ]
  },
  {
   "cell_type": "code",
   "execution_count": 13,
   "metadata": {},
   "outputs": [
    {
     "data": {
      "text/html": [
       "<div>\n",
       "<style scoped>\n",
       "    .dataframe tbody tr th:only-of-type {\n",
       "        vertical-align: middle;\n",
       "    }\n",
       "\n",
       "    .dataframe tbody tr th {\n",
       "        vertical-align: top;\n",
       "    }\n",
       "\n",
       "    .dataframe thead th {\n",
       "        text-align: right;\n",
       "    }\n",
       "</style>\n",
       "<table border=\"1\" class=\"dataframe\">\n",
       "  <thead>\n",
       "    <tr style=\"text-align: right;\">\n",
       "      <th></th>\n",
       "      <th>Sale</th>\n",
       "      <th>Qta</th>\n",
       "    </tr>\n",
       "  </thead>\n",
       "  <tbody>\n",
       "    <tr>\n",
       "      <th>count</th>\n",
       "      <td>471910.00</td>\n",
       "      <td>471910.00</td>\n",
       "    </tr>\n",
       "    <tr>\n",
       "      <th>mean</th>\n",
       "      <td>4.03</td>\n",
       "      <td>10.72</td>\n",
       "    </tr>\n",
       "    <tr>\n",
       "      <th>std</th>\n",
       "      <td>83.77</td>\n",
       "      <td>231.36</td>\n",
       "    </tr>\n",
       "    <tr>\n",
       "      <th>min</th>\n",
       "      <td>-11062.06</td>\n",
       "      <td>-80995.00</td>\n",
       "    </tr>\n",
       "    <tr>\n",
       "      <th>25%</th>\n",
       "      <td>1.25</td>\n",
       "      <td>1.00</td>\n",
       "    </tr>\n",
       "    <tr>\n",
       "      <th>50%</th>\n",
       "      <td>2.08</td>\n",
       "      <td>4.00</td>\n",
       "    </tr>\n",
       "    <tr>\n",
       "      <th>75%</th>\n",
       "      <td>3.75</td>\n",
       "      <td>12.00</td>\n",
       "    </tr>\n",
       "    <tr>\n",
       "      <th>max</th>\n",
       "      <td>38970.00</td>\n",
       "      <td>80995.00</td>\n",
       "    </tr>\n",
       "  </tbody>\n",
       "</table>\n",
       "</div>"
      ],
      "text/plain": [
       "           Sale       Qta\n",
       "count 471910.00 471910.00\n",
       "mean       4.03     10.72\n",
       "std       83.77    231.36\n",
       "min   -11062.06 -80995.00\n",
       "25%        1.25      1.00\n",
       "50%        2.08      4.00\n",
       "75%        3.75     12.00\n",
       "max    38970.00  80995.00"
      ]
     },
     "execution_count": 13,
     "metadata": {},
     "output_type": "execute_result"
    }
   ],
   "source": [
    "# df[df.Sale.apply(abs) < 10].Sale.plot.box()\n",
    "df.describe()"
   ]
  },
  {
   "cell_type": "markdown",
   "metadata": {},
   "source": [
    "Anyway, the statistical significance that these two isolated cases have with respect to the analysis of the dataset in question is minimal if compared to the remaining amount of data. <br>Considering these two records as **outliers**, could therefore **improve the total reliability of the remaining tests** conducted on the dataset.\n",
    "\n",
    "The further discussion about removing them continues in the section **Assessing and improving Data Quality**."
   ]
  },
  {
   "cell_type": "markdown",
   "metadata": {},
   "source": [
    "##### Qta\n",
    "\n",
    "We compute a list of the records with negative values for *Qta*."
   ]
  },
  {
   "cell_type": "code",
   "execution_count": 14,
   "metadata": {},
   "outputs": [
    {
     "data": {
      "text/html": [
       "<div>\n",
       "<style scoped>\n",
       "    .dataframe tbody tr th:only-of-type {\n",
       "        vertical-align: middle;\n",
       "    }\n",
       "\n",
       "    .dataframe tbody tr th {\n",
       "        vertical-align: top;\n",
       "    }\n",
       "\n",
       "    .dataframe thead th {\n",
       "        text-align: right;\n",
       "    }\n",
       "</style>\n",
       "<table border=\"1\" class=\"dataframe\">\n",
       "  <thead>\n",
       "    <tr style=\"text-align: right;\">\n",
       "      <th></th>\n",
       "      <th>BasketID</th>\n",
       "      <th>BasketDate</th>\n",
       "      <th>Sale</th>\n",
       "      <th>CustomerID</th>\n",
       "      <th>CustomerCountry</th>\n",
       "      <th>ProdID</th>\n",
       "      <th>ProdDescr</th>\n",
       "      <th>Qta</th>\n",
       "    </tr>\n",
       "  </thead>\n",
       "  <tbody>\n",
       "    <tr>\n",
       "      <th>141</th>\n",
       "      <td>C536379</td>\n",
       "      <td>2010-01-12 09:41:00</td>\n",
       "      <td>27.50</td>\n",
       "      <td>14527.00</td>\n",
       "      <td>United Kingdom</td>\n",
       "      <td>D</td>\n",
       "      <td>Discount</td>\n",
       "      <td>-1</td>\n",
       "    </tr>\n",
       "    <tr>\n",
       "      <th>154</th>\n",
       "      <td>C536383</td>\n",
       "      <td>2010-01-12 09:49:00</td>\n",
       "      <td>4.65</td>\n",
       "      <td>15311.00</td>\n",
       "      <td>United Kingdom</td>\n",
       "      <td>35004C</td>\n",
       "      <td>SET OF 3 COLOURED  FLYING DUCKS</td>\n",
       "      <td>-1</td>\n",
       "    </tr>\n",
       "    <tr>\n",
       "      <th>235</th>\n",
       "      <td>C536391</td>\n",
       "      <td>2010-01-12 10:24:00</td>\n",
       "      <td>1.65</td>\n",
       "      <td>17548.00</td>\n",
       "      <td>United Kingdom</td>\n",
       "      <td>22556</td>\n",
       "      <td>PLASTERS IN TIN CIRCUS PARADE</td>\n",
       "      <td>-12</td>\n",
       "    </tr>\n",
       "    <tr>\n",
       "      <th>236</th>\n",
       "      <td>C536391</td>\n",
       "      <td>2010-01-12 10:24:00</td>\n",
       "      <td>0.29</td>\n",
       "      <td>17548.00</td>\n",
       "      <td>United Kingdom</td>\n",
       "      <td>21984</td>\n",
       "      <td>PACK OF 12 PINK PAISLEY TISSUES</td>\n",
       "      <td>-24</td>\n",
       "    </tr>\n",
       "    <tr>\n",
       "      <th>237</th>\n",
       "      <td>C536391</td>\n",
       "      <td>2010-01-12 10:24:00</td>\n",
       "      <td>0.29</td>\n",
       "      <td>17548.00</td>\n",
       "      <td>United Kingdom</td>\n",
       "      <td>21983</td>\n",
       "      <td>PACK OF 12 BLUE PAISLEY TISSUES</td>\n",
       "      <td>-24</td>\n",
       "    </tr>\n",
       "    <tr>\n",
       "      <th>...</th>\n",
       "      <td>...</td>\n",
       "      <td>...</td>\n",
       "      <td>...</td>\n",
       "      <td>...</td>\n",
       "      <td>...</td>\n",
       "      <td>...</td>\n",
       "      <td>...</td>\n",
       "      <td>...</td>\n",
       "    </tr>\n",
       "    <tr>\n",
       "      <th>540449</th>\n",
       "      <td>C581490</td>\n",
       "      <td>2011-09-12 09:57:00</td>\n",
       "      <td>0.83</td>\n",
       "      <td>14397.00</td>\n",
       "      <td>United Kingdom</td>\n",
       "      <td>23144</td>\n",
       "      <td>ZINC T-LIGHT HOLDER STARS SMALL</td>\n",
       "      <td>-11</td>\n",
       "    </tr>\n",
       "    <tr>\n",
       "      <th>541541</th>\n",
       "      <td>C581499</td>\n",
       "      <td>2011-09-12 10:28:00</td>\n",
       "      <td>224.69</td>\n",
       "      <td>15498.00</td>\n",
       "      <td>United Kingdom</td>\n",
       "      <td>M</td>\n",
       "      <td>Manual</td>\n",
       "      <td>-1</td>\n",
       "    </tr>\n",
       "    <tr>\n",
       "      <th>541715</th>\n",
       "      <td>C581568</td>\n",
       "      <td>2011-09-12 11:57:00</td>\n",
       "      <td>10.95</td>\n",
       "      <td>15311.00</td>\n",
       "      <td>United Kingdom</td>\n",
       "      <td>21258</td>\n",
       "      <td>VICTORIAN SEWING BOX LARGE</td>\n",
       "      <td>-5</td>\n",
       "    </tr>\n",
       "    <tr>\n",
       "      <th>541716</th>\n",
       "      <td>C581569</td>\n",
       "      <td>2011-09-12 11:58:00</td>\n",
       "      <td>1.25</td>\n",
       "      <td>17315.00</td>\n",
       "      <td>United Kingdom</td>\n",
       "      <td>84978</td>\n",
       "      <td>HANGING HEART JAR T-LIGHT HOLDER</td>\n",
       "      <td>-1</td>\n",
       "    </tr>\n",
       "    <tr>\n",
       "      <th>541717</th>\n",
       "      <td>C581569</td>\n",
       "      <td>2011-09-12 11:58:00</td>\n",
       "      <td>1.25</td>\n",
       "      <td>17315.00</td>\n",
       "      <td>United Kingdom</td>\n",
       "      <td>20979</td>\n",
       "      <td>36 PENCILS TUBE RED RETROSPOT</td>\n",
       "      <td>-5</td>\n",
       "    </tr>\n",
       "  </tbody>\n",
       "</table>\n",
       "<p>9752 rows × 8 columns</p>\n",
       "</div>"
      ],
      "text/plain": [
       "       BasketID          BasketDate   Sale CustomerID CustomerCountry  ProdID  \\\n",
       "141     C536379 2010-01-12 09:41:00  27.50   14527.00  United Kingdom       D   \n",
       "154     C536383 2010-01-12 09:49:00   4.65   15311.00  United Kingdom  35004C   \n",
       "235     C536391 2010-01-12 10:24:00   1.65   17548.00  United Kingdom   22556   \n",
       "236     C536391 2010-01-12 10:24:00   0.29   17548.00  United Kingdom   21984   \n",
       "237     C536391 2010-01-12 10:24:00   0.29   17548.00  United Kingdom   21983   \n",
       "...         ...                 ...    ...        ...             ...     ...   \n",
       "540449  C581490 2011-09-12 09:57:00   0.83   14397.00  United Kingdom   23144   \n",
       "541541  C581499 2011-09-12 10:28:00 224.69   15498.00  United Kingdom       M   \n",
       "541715  C581568 2011-09-12 11:57:00  10.95   15311.00  United Kingdom   21258   \n",
       "541716  C581569 2011-09-12 11:58:00   1.25   17315.00  United Kingdom   84978   \n",
       "541717  C581569 2011-09-12 11:58:00   1.25   17315.00  United Kingdom   20979   \n",
       "\n",
       "                               ProdDescr  Qta  \n",
       "141                             Discount   -1  \n",
       "154      SET OF 3 COLOURED  FLYING DUCKS   -1  \n",
       "235       PLASTERS IN TIN CIRCUS PARADE   -12  \n",
       "236     PACK OF 12 PINK PAISLEY TISSUES   -24  \n",
       "237     PACK OF 12 BLUE PAISLEY TISSUES   -24  \n",
       "...                                  ...  ...  \n",
       "540449   ZINC T-LIGHT HOLDER STARS SMALL  -11  \n",
       "541541                            Manual   -1  \n",
       "541715        VICTORIAN SEWING BOX LARGE   -5  \n",
       "541716  HANGING HEART JAR T-LIGHT HOLDER   -1  \n",
       "541717     36 PENCILS TUBE RED RETROSPOT   -5  \n",
       "\n",
       "[9752 rows x 8 columns]"
      ]
     },
     "execution_count": 14,
     "metadata": {},
     "output_type": "execute_result"
    }
   ],
   "source": [
    "# Negative values in Qta\n",
    "df[df.Qta < 0]"
   ]
  },
  {
   "cell_type": "code",
   "execution_count": 15,
   "metadata": {},
   "outputs": [
    {
     "data": {
      "text/plain": [
       "141                               Discount\n",
       "154        SET OF 3 COLOURED  FLYING DUCKS\n",
       "235         PLASTERS IN TIN CIRCUS PARADE \n",
       "236       PACK OF 12 PINK PAISLEY TISSUES \n",
       "237       PACK OF 12 BLUE PAISLEY TISSUES \n",
       "                        ...               \n",
       "540449     ZINC T-LIGHT HOLDER STARS SMALL\n",
       "541541                              Manual\n",
       "541715          VICTORIAN SEWING BOX LARGE\n",
       "541716    HANGING HEART JAR T-LIGHT HOLDER\n",
       "541717       36 PENCILS TUBE RED RETROSPOT\n",
       "Name: ProdDescr, Length: 9752, dtype: object"
      ]
     },
     "execution_count": 15,
     "metadata": {},
     "output_type": "execute_result"
    }
   ],
   "source": [
    "df[df.Qta < 0].ProdDescr"
   ]
  },
  {
   "cell_type": "markdown",
   "metadata": {},
   "source": [
    "This time the records with a negative value for *Qta* are over 9000 and this amount does guarantee a stronger statistical relevance with respect to the analysis of the dataset.\n",
    "\n",
    "The values of *ProdDescr* associated with these records, however, don't provide any contextualization for the values of *Qta*.\n",
    "The best hypothesis remains that one of transactions during which the company acquired (and didn't sell) some asset from the customers."
   ]
  },
  {
   "cell_type": "markdown",
   "metadata": {},
   "source": [
    "#### Other interesting considerations: high and symmetrical values in Qta"
   ]
  },
  {
   "cell_type": "code",
   "execution_count": 16,
   "metadata": {},
   "outputs": [
    {
     "data": {
      "text/html": [
       "<div>\n",
       "<style scoped>\n",
       "    .dataframe tbody tr th:only-of-type {\n",
       "        vertical-align: middle;\n",
       "    }\n",
       "\n",
       "    .dataframe tbody tr th {\n",
       "        vertical-align: top;\n",
       "    }\n",
       "\n",
       "    .dataframe thead th {\n",
       "        text-align: right;\n",
       "    }\n",
       "</style>\n",
       "<table border=\"1\" class=\"dataframe\">\n",
       "  <thead>\n",
       "    <tr style=\"text-align: right;\">\n",
       "      <th></th>\n",
       "      <th>BasketID</th>\n",
       "      <th>BasketDate</th>\n",
       "      <th>Sale</th>\n",
       "      <th>CustomerID</th>\n",
       "      <th>CustomerCountry</th>\n",
       "      <th>ProdID</th>\n",
       "      <th>ProdDescr</th>\n",
       "      <th>Qta</th>\n",
       "    </tr>\n",
       "  </thead>\n",
       "  <tbody>\n",
       "    <tr>\n",
       "      <th>61619</th>\n",
       "      <td>541431</td>\n",
       "      <td>2011-01-18 10:01:00</td>\n",
       "      <td>1.04</td>\n",
       "      <td>12346.00</td>\n",
       "      <td>United Kingdom</td>\n",
       "      <td>23166</td>\n",
       "      <td>MEDIUM CERAMIC TOP STORAGE JAR</td>\n",
       "      <td>74215</td>\n",
       "    </tr>\n",
       "    <tr>\n",
       "      <th>61624</th>\n",
       "      <td>C541433</td>\n",
       "      <td>2011-01-18 10:17:00</td>\n",
       "      <td>1.04</td>\n",
       "      <td>12346.00</td>\n",
       "      <td>United Kingdom</td>\n",
       "      <td>23166</td>\n",
       "      <td>MEDIUM CERAMIC TOP STORAGE JAR</td>\n",
       "      <td>-74215</td>\n",
       "    </tr>\n",
       "    <tr>\n",
       "      <th>502122</th>\n",
       "      <td>578841</td>\n",
       "      <td>2011-11-25 15:57:00</td>\n",
       "      <td>0.00</td>\n",
       "      <td>13256.00</td>\n",
       "      <td>United Kingdom</td>\n",
       "      <td>84826</td>\n",
       "      <td>ASSTD DESIGN 3D PAPER STICKERS</td>\n",
       "      <td>12540</td>\n",
       "    </tr>\n",
       "    <tr>\n",
       "      <th>540421</th>\n",
       "      <td>581483</td>\n",
       "      <td>2011-09-12 09:15:00</td>\n",
       "      <td>2.08</td>\n",
       "      <td>16446.00</td>\n",
       "      <td>United Kingdom</td>\n",
       "      <td>23843</td>\n",
       "      <td>PAPER CRAFT , LITTLE BIRDIE</td>\n",
       "      <td>80995</td>\n",
       "    </tr>\n",
       "    <tr>\n",
       "      <th>540422</th>\n",
       "      <td>C581484</td>\n",
       "      <td>2011-09-12 09:27:00</td>\n",
       "      <td>2.08</td>\n",
       "      <td>16446.00</td>\n",
       "      <td>United Kingdom</td>\n",
       "      <td>23843</td>\n",
       "      <td>PAPER CRAFT , LITTLE BIRDIE</td>\n",
       "      <td>-80995</td>\n",
       "    </tr>\n",
       "  </tbody>\n",
       "</table>\n",
       "</div>"
      ],
      "text/plain": [
       "       BasketID          BasketDate  Sale CustomerID CustomerCountry ProdID  \\\n",
       "61619    541431 2011-01-18 10:01:00  1.04   12346.00  United Kingdom  23166   \n",
       "61624   C541433 2011-01-18 10:17:00  1.04   12346.00  United Kingdom  23166   \n",
       "502122   578841 2011-11-25 15:57:00  0.00   13256.00  United Kingdom  84826   \n",
       "540421   581483 2011-09-12 09:15:00  2.08   16446.00  United Kingdom  23843   \n",
       "540422  C581484 2011-09-12 09:27:00  2.08   16446.00  United Kingdom  23843   \n",
       "\n",
       "                             ProdDescr    Qta  \n",
       "61619   MEDIUM CERAMIC TOP STORAGE JAR  74215  \n",
       "61624   MEDIUM CERAMIC TOP STORAGE JAR -74215  \n",
       "502122  ASSTD DESIGN 3D PAPER STICKERS  12540  \n",
       "540421     PAPER CRAFT , LITTLE BIRDIE  80995  \n",
       "540422     PAPER CRAFT , LITTLE BIRDIE -80995  "
      ]
     },
     "execution_count": 16,
     "metadata": {},
     "output_type": "execute_result"
    }
   ],
   "source": [
    "df[df.Qta.apply(abs) > 10000]\n"
   ]
  },
  {
   "cell_type": "markdown",
   "metadata": {},
   "source": [
    "## Assessing and improving Data Quality"
   ]
  },
  {
   "cell_type": "markdown",
   "metadata": {},
   "source": [
    "### Handling duplicates"
   ]
  },
  {
   "cell_type": "markdown",
   "metadata": {},
   "source": [
    "The pandas function **duplicated()** returns a list of boolean values where each *True* corresponds to the duplicate of a row within the dataframe. "
   ]
  },
  {
   "cell_type": "code",
   "execution_count": 17,
   "metadata": {},
   "outputs": [
    {
     "data": {
      "text/plain": [
       "True"
      ]
     },
     "execution_count": 17,
     "metadata": {},
     "output_type": "execute_result"
    }
   ],
   "source": [
    "df.duplicated().any()"
   ]
  },
  {
   "cell_type": "code",
   "execution_count": 18,
   "metadata": {},
   "outputs": [
    {
     "data": {
      "text/plain": [
       "False    466678\n",
       "True       5232\n",
       "dtype: int64"
      ]
     },
     "execution_count": 18,
     "metadata": {},
     "output_type": "execute_result"
    }
   ],
   "source": [
    "df.duplicated().value_counts()"
   ]
  },
  {
   "cell_type": "markdown",
   "metadata": {},
   "source": [
    "Having confirmed the presence of 5232 duplicated rows within the dataframe, we print them so to provide a sample:"
   ]
  },
  {
   "cell_type": "code",
   "execution_count": 19,
   "metadata": {},
   "outputs": [
    {
     "data": {
      "text/html": [
       "<div>\n",
       "<style scoped>\n",
       "    .dataframe tbody tr th:only-of-type {\n",
       "        vertical-align: middle;\n",
       "    }\n",
       "\n",
       "    .dataframe tbody tr th {\n",
       "        vertical-align: top;\n",
       "    }\n",
       "\n",
       "    .dataframe thead th {\n",
       "        text-align: right;\n",
       "    }\n",
       "</style>\n",
       "<table border=\"1\" class=\"dataframe\">\n",
       "  <thead>\n",
       "    <tr style=\"text-align: right;\">\n",
       "      <th></th>\n",
       "      <th>BasketID</th>\n",
       "      <th>BasketDate</th>\n",
       "      <th>Sale</th>\n",
       "      <th>CustomerID</th>\n",
       "      <th>CustomerCountry</th>\n",
       "      <th>ProdID</th>\n",
       "      <th>ProdDescr</th>\n",
       "      <th>Qta</th>\n",
       "    </tr>\n",
       "  </thead>\n",
       "  <tbody>\n",
       "    <tr>\n",
       "      <th>517</th>\n",
       "      <td>536409</td>\n",
       "      <td>2010-01-12 11:45:00</td>\n",
       "      <td>1.25</td>\n",
       "      <td>17908.00</td>\n",
       "      <td>United Kingdom</td>\n",
       "      <td>21866</td>\n",
       "      <td>UNION JACK FLAG LUGGAGE TAG</td>\n",
       "      <td>1</td>\n",
       "    </tr>\n",
       "    <tr>\n",
       "      <th>527</th>\n",
       "      <td>536409</td>\n",
       "      <td>2010-01-12 11:45:00</td>\n",
       "      <td>2.10</td>\n",
       "      <td>17908.00</td>\n",
       "      <td>United Kingdom</td>\n",
       "      <td>22866</td>\n",
       "      <td>HAND WARMER SCOTTY DOG DESIGN</td>\n",
       "      <td>1</td>\n",
       "    </tr>\n",
       "    <tr>\n",
       "      <th>537</th>\n",
       "      <td>536409</td>\n",
       "      <td>2010-01-12 11:45:00</td>\n",
       "      <td>2.95</td>\n",
       "      <td>17908.00</td>\n",
       "      <td>United Kingdom</td>\n",
       "      <td>22900</td>\n",
       "      <td>SET 2 TEA TOWELS I LOVE LONDON</td>\n",
       "      <td>1</td>\n",
       "    </tr>\n",
       "    <tr>\n",
       "      <th>539</th>\n",
       "      <td>536409</td>\n",
       "      <td>2010-01-12 11:45:00</td>\n",
       "      <td>4.95</td>\n",
       "      <td>17908.00</td>\n",
       "      <td>United Kingdom</td>\n",
       "      <td>22111</td>\n",
       "      <td>SCOTTIE DOG HOT WATER BOTTLE</td>\n",
       "      <td>1</td>\n",
       "    </tr>\n",
       "    <tr>\n",
       "      <th>555</th>\n",
       "      <td>536412</td>\n",
       "      <td>2010-01-12 11:49:00</td>\n",
       "      <td>2.95</td>\n",
       "      <td>17920.00</td>\n",
       "      <td>United Kingdom</td>\n",
       "      <td>22327</td>\n",
       "      <td>ROUND SNACK BOXES SET OF 4 SKULLS</td>\n",
       "      <td>1</td>\n",
       "    </tr>\n",
       "    <tr>\n",
       "      <th>...</th>\n",
       "      <td>...</td>\n",
       "      <td>...</td>\n",
       "      <td>...</td>\n",
       "      <td>...</td>\n",
       "      <td>...</td>\n",
       "      <td>...</td>\n",
       "      <td>...</td>\n",
       "      <td>...</td>\n",
       "    </tr>\n",
       "    <tr>\n",
       "      <th>541675</th>\n",
       "      <td>581538</td>\n",
       "      <td>2011-09-12 11:34:00</td>\n",
       "      <td>0.39</td>\n",
       "      <td>14446.00</td>\n",
       "      <td>United Kingdom</td>\n",
       "      <td>22068</td>\n",
       "      <td>BLACK PIRATE TREASURE CHEST</td>\n",
       "      <td>1</td>\n",
       "    </tr>\n",
       "    <tr>\n",
       "      <th>541689</th>\n",
       "      <td>581538</td>\n",
       "      <td>2011-09-12 11:34:00</td>\n",
       "      <td>2.49</td>\n",
       "      <td>14446.00</td>\n",
       "      <td>United Kingdom</td>\n",
       "      <td>23318</td>\n",
       "      <td>BOX OF 6 MINI VINTAGE CRACKERS</td>\n",
       "      <td>1</td>\n",
       "    </tr>\n",
       "    <tr>\n",
       "      <th>541692</th>\n",
       "      <td>581538</td>\n",
       "      <td>2011-09-12 11:34:00</td>\n",
       "      <td>1.95</td>\n",
       "      <td>14446.00</td>\n",
       "      <td>United Kingdom</td>\n",
       "      <td>22992</td>\n",
       "      <td>REVOLVER WOODEN RULER</td>\n",
       "      <td>1</td>\n",
       "    </tr>\n",
       "    <tr>\n",
       "      <th>541699</th>\n",
       "      <td>581538</td>\n",
       "      <td>2011-09-12 11:34:00</td>\n",
       "      <td>2.10</td>\n",
       "      <td>14446.00</td>\n",
       "      <td>United Kingdom</td>\n",
       "      <td>22694</td>\n",
       "      <td>WICKER STAR</td>\n",
       "      <td>1</td>\n",
       "    </tr>\n",
       "    <tr>\n",
       "      <th>541701</th>\n",
       "      <td>581538</td>\n",
       "      <td>2011-09-12 11:34:00</td>\n",
       "      <td>2.08</td>\n",
       "      <td>14446.00</td>\n",
       "      <td>United Kingdom</td>\n",
       "      <td>23343</td>\n",
       "      <td>JUMBO BAG VINTAGE CHRISTMAS</td>\n",
       "      <td>1</td>\n",
       "    </tr>\n",
       "  </tbody>\n",
       "</table>\n",
       "<p>5232 rows × 8 columns</p>\n",
       "</div>"
      ],
      "text/plain": [
       "       BasketID          BasketDate  Sale CustomerID CustomerCountry ProdID  \\\n",
       "517      536409 2010-01-12 11:45:00  1.25   17908.00  United Kingdom  21866   \n",
       "527      536409 2010-01-12 11:45:00  2.10   17908.00  United Kingdom  22866   \n",
       "537      536409 2010-01-12 11:45:00  2.95   17908.00  United Kingdom  22900   \n",
       "539      536409 2010-01-12 11:45:00  4.95   17908.00  United Kingdom  22111   \n",
       "555      536412 2010-01-12 11:49:00  2.95   17920.00  United Kingdom  22327   \n",
       "...         ...                 ...   ...        ...             ...    ...   \n",
       "541675   581538 2011-09-12 11:34:00  0.39   14446.00  United Kingdom  22068   \n",
       "541689   581538 2011-09-12 11:34:00  2.49   14446.00  United Kingdom  23318   \n",
       "541692   581538 2011-09-12 11:34:00  1.95   14446.00  United Kingdom  22992   \n",
       "541699   581538 2011-09-12 11:34:00  2.10   14446.00  United Kingdom  22694   \n",
       "541701   581538 2011-09-12 11:34:00  2.08   14446.00  United Kingdom  23343   \n",
       "\n",
       "                                ProdDescr  Qta  \n",
       "517           UNION JACK FLAG LUGGAGE TAG    1  \n",
       "527         HAND WARMER SCOTTY DOG DESIGN    1  \n",
       "537       SET 2 TEA TOWELS I LOVE LONDON     1  \n",
       "539          SCOTTIE DOG HOT WATER BOTTLE    1  \n",
       "555     ROUND SNACK BOXES SET OF 4 SKULLS    1  \n",
       "...                                   ...  ...  \n",
       "541675        BLACK PIRATE TREASURE CHEST    1  \n",
       "541689     BOX OF 6 MINI VINTAGE CRACKERS    1  \n",
       "541692             REVOLVER WOODEN RULER     1  \n",
       "541699                       WICKER STAR     1  \n",
       "541701       JUMBO BAG VINTAGE CHRISTMAS     1  \n",
       "\n",
       "[5232 rows x 8 columns]"
      ]
     },
     "execution_count": 19,
     "metadata": {},
     "output_type": "execute_result"
    }
   ],
   "source": [
    "duplicates = df[df.duplicated()]\n",
    "duplicates"
   ]
  },
  {
   "cell_type": "markdown",
   "metadata": {},
   "source": [
    "We print a couple of records consisting in an \"original\" row and its duplicate."
   ]
  },
  {
   "cell_type": "code",
   "execution_count": 20,
   "metadata": {},
   "outputs": [
    {
     "data": {
      "text/html": [
       "<div>\n",
       "<style scoped>\n",
       "    .dataframe tbody tr th:only-of-type {\n",
       "        vertical-align: middle;\n",
       "    }\n",
       "\n",
       "    .dataframe tbody tr th {\n",
       "        vertical-align: top;\n",
       "    }\n",
       "\n",
       "    .dataframe thead th {\n",
       "        text-align: right;\n",
       "    }\n",
       "</style>\n",
       "<table border=\"1\" class=\"dataframe\">\n",
       "  <thead>\n",
       "    <tr style=\"text-align: right;\">\n",
       "      <th></th>\n",
       "      <th>BasketID</th>\n",
       "      <th>BasketDate</th>\n",
       "      <th>Sale</th>\n",
       "      <th>CustomerID</th>\n",
       "      <th>CustomerCountry</th>\n",
       "      <th>ProdID</th>\n",
       "      <th>ProdDescr</th>\n",
       "      <th>Qta</th>\n",
       "    </tr>\n",
       "  </thead>\n",
       "  <tbody>\n",
       "    <tr>\n",
       "      <th>494</th>\n",
       "      <td>536409</td>\n",
       "      <td>2010-01-12 11:45:00</td>\n",
       "      <td>1.25</td>\n",
       "      <td>17908.00</td>\n",
       "      <td>United Kingdom</td>\n",
       "      <td>21866</td>\n",
       "      <td>UNION JACK FLAG LUGGAGE TAG</td>\n",
       "      <td>1</td>\n",
       "    </tr>\n",
       "    <tr>\n",
       "      <th>517</th>\n",
       "      <td>536409</td>\n",
       "      <td>2010-01-12 11:45:00</td>\n",
       "      <td>1.25</td>\n",
       "      <td>17908.00</td>\n",
       "      <td>United Kingdom</td>\n",
       "      <td>21866</td>\n",
       "      <td>UNION JACK FLAG LUGGAGE TAG</td>\n",
       "      <td>1</td>\n",
       "    </tr>\n",
       "  </tbody>\n",
       "</table>\n",
       "</div>"
      ],
      "text/plain": [
       "    BasketID          BasketDate  Sale CustomerID CustomerCountry ProdID  \\\n",
       "494   536409 2010-01-12 11:45:00  1.25   17908.00  United Kingdom  21866   \n",
       "517   536409 2010-01-12 11:45:00  1.25   17908.00  United Kingdom  21866   \n",
       "\n",
       "                       ProdDescr  Qta  \n",
       "494  UNION JACK FLAG LUGGAGE TAG    1  \n",
       "517  UNION JACK FLAG LUGGAGE TAG    1  "
      ]
     },
     "execution_count": 20,
     "metadata": {},
     "output_type": "execute_result"
    }
   ],
   "source": [
    "df[(df.ProdDescr == \"UNION JACK FLAG LUGGAGE TAG\") & (df.CustomerID == 17908)]"
   ]
  },
  {
   "cell_type": "markdown",
   "metadata": {},
   "source": [
    "**COMMENTS ON WHY WE CHOOSE TO DELETE THE DUPLICATES...**"
   ]
  },
  {
   "cell_type": "code",
   "execution_count": 21,
   "metadata": {},
   "outputs": [
    {
     "data": {
      "text/plain": [
       "False"
      ]
     },
     "execution_count": 21,
     "metadata": {},
     "output_type": "execute_result"
    }
   ],
   "source": [
    "df.drop_duplicates(inplace=True)\n",
    "df.duplicated().any()"
   ]
  },
  {
   "cell_type": "markdown",
   "metadata": {},
   "source": [
    "### Handling missing values\n",
    "#### Missing values detection\n",
    "We confirm what was established by the **info()** function regarding missing values within the dataset by making use of the pandas function **isnull()**."
   ]
  },
  {
   "cell_type": "code",
   "execution_count": 22,
   "metadata": {},
   "outputs": [
    {
     "data": {
      "text/plain": [
       "BasketID           False\n",
       "BasketDate         False\n",
       "Sale               False\n",
       "CustomerID          True\n",
       "CustomerCountry    False\n",
       "ProdID             False\n",
       "ProdDescr           True\n",
       "Qta                False\n",
       "dtype: bool"
      ]
     },
     "execution_count": 22,
     "metadata": {},
     "output_type": "execute_result"
    }
   ],
   "source": [
    "df.isnull().any()"
   ]
  },
  {
   "cell_type": "markdown",
   "metadata": {},
   "source": [
    "As mentioned above, the columns *CustomerID* and *ProdDescr* present missing values.\n",
    "\n",
    "Missing values could be contained also within the columns of numerical attributes like *Qta* or *Sale* (i.e. represented by 0),\n",
    "therefore, specific code needs to be written in order to check for these cases."
   ]
  },
  {
   "cell_type": "markdown",
   "metadata": {},
   "source": [
    "#### Missing values in *Sale* and *Qta*\n",
    "We search for values equal to zero in both of the attributes."
   ]
  },
  {
   "cell_type": "code",
   "execution_count": 23,
   "metadata": {},
   "outputs": [
    {
     "data": {
      "text/plain": [
       "0"
      ]
     },
     "execution_count": 23,
     "metadata": {},
     "output_type": "execute_result"
    }
   ],
   "source": [
    "df.Qta.where(df['Qta'] == 0).count() #Zero values in Qta"
   ]
  },
  {
   "cell_type": "code",
   "execution_count": 24,
   "metadata": {},
   "outputs": [
    {
     "data": {
      "text/plain": [
       "1278"
      ]
     },
     "execution_count": 24,
     "metadata": {},
     "output_type": "execute_result"
    }
   ],
   "source": [
    "df.Sale.where(df['Sale'] == 0).count() #Zero values in Sale"
   ]
  },
  {
   "cell_type": "markdown",
   "metadata": {},
   "source": [
    "The sales column has 1279 values equal to zero but, given the transactional\n",
    "nature of the dataset under examination, we believe that the aforementioned\n",
    "zero values do retain a useful significance for the purposes of our analysis.\n",
    "\n",
    "Therefore, these attributes are not going to be involved in the process of replacing\n",
    "missing values which is now focused only on the categorical attributes of the dataset."
   ]
  },
  {
   "cell_type": "markdown",
   "metadata": {},
   "source": [
    "#### Missing values in the other categorical attributes\n",
    "\n",
    "***CustomerCountry***\n",
    "\n",
    "The presence of 340 records including an \"**Unspecified**\" value for *CustomerCountry* has been already addressed. \n",
    "Given the inherent ambiguity of the value we consider it a strong candidate for a replacement with values with a stronger statistical significance.\n",
    "\n",
    "Before committing to this decision, however, we check for the values within the *CustomerID* column of the records that present an \"Unspecified\" *CustomerCountry*.\n",
    "Other transactions of the same customers, represented here by other records with the same value for *CustomerID*, may display a different value of *CustomerCountry* suitable to replace the others.\n",
    "\n",
    "We compute a list of all the values for *CustomerID* associated with records with an \"Unspecified\" *CustomerCountry*."
   ]
  },
  {
   "cell_type": "code",
   "execution_count": 25,
   "metadata": {},
   "outputs": [
    {
     "data": {
      "text/plain": [
       "Float64Index([12743.0, 16320.0, 14265.0, 12363.0], dtype='float64')"
      ]
     },
     "execution_count": 25,
     "metadata": {},
     "output_type": "execute_result"
    }
   ],
   "source": [
    "unspecified_ids = df[df.CustomerCountry == 'Unspecified'].CustomerID.value_counts()\n",
    "unspecified_ids.keys()"
   ]
  },
  {
   "cell_type": "markdown",
   "metadata": {},
   "source": [
    "We now check for every value of *CustomerCountry* associated with said values of *CustomerID*."
   ]
  },
  {
   "cell_type": "code",
   "execution_count": 26,
   "metadata": {},
   "outputs": [
    {
     "data": {
      "text/plain": [
       "Unspecified    241\n",
       "Name: CustomerCountry, dtype: int64"
      ]
     },
     "execution_count": 26,
     "metadata": {},
     "output_type": "execute_result"
    }
   ],
   "source": [
    "df.loc[df.CustomerID.isin(unspecified_ids.keys())].CustomerCountry.value_counts()"
   ]
  },
  {
   "cell_type": "markdown",
   "metadata": {},
   "source": [
    "None of the records we have referred to are associated with a value for *CustomerCountry* other than \"Unspecified\".\n",
    "This set of records therefore acts as an autonomous group.\n",
    "\n",
    "While it is still possible to replace the values in question with the more frequent value of this attribute (in this case United Kingdom), we believe it is more interesting to wait for the results of the clustering process in view of a hypothetical grouping with records associated with a particular country."
   ]
  },
  {
   "cell_type": "markdown",
   "metadata": {},
   "source": [
    "***ProdID***"
   ]
  },
  {
   "cell_type": "code",
   "execution_count": 27,
   "metadata": {},
   "outputs": [
    {
     "data": {
      "text/plain": [
       "85123A    2179\n",
       "22423     2031\n",
       "85099B    1914\n",
       "47566     1562\n",
       "20725     1479\n",
       "          ... \n",
       "90091        1\n",
       "90187A       1\n",
       "47570b       1\n",
       "82613b       1\n",
       "22206        1\n",
       "Name: ProdID, Length: 3953, dtype: int64"
      ]
     },
     "execution_count": 27,
     "metadata": {},
     "output_type": "execute_result"
    }
   ],
   "source": [
    "df.ProdID.value_counts()"
   ]
  },
  {
   "cell_type": "markdown",
   "metadata": {},
   "source": [
    "The *ProdID* column presents 3953 unique values and this wide array of variety stands in the way of a deeper analysis of each single value."
   ]
  },
  {
   "cell_type": "markdown",
   "metadata": {},
   "source": [
    "#### Replacing missing values"
   ]
  },
  {
   "cell_type": "markdown",
   "metadata": {
    "pycharm": {
     "name": "#%% md\n"
    }
   },
   "source": [
    "##### Replacing the missing values from *CustomerID*\n",
    "\n",
    "The CustomerID column presents 65080 missing values."
   ]
  },
  {
   "cell_type": "code",
   "execution_count": 28,
   "metadata": {
    "pycharm": {
     "name": "#%%\n"
    },
    "scrolled": true
   },
   "outputs": [
    {
     "data": {
      "text/plain": [
       "65073"
      ]
     },
     "execution_count": 28,
     "metadata": {},
     "output_type": "execute_result"
    }
   ],
   "source": [
    "df.CustomerID.isnull().sum()"
   ]
  },
  {
   "cell_type": "markdown",
   "metadata": {
    "pycharm": {
     "name": "#%% md\n"
    }
   },
   "source": [
    "In order to effectively replace said values we select the most frequent IDs in a given *CustomerCountry* (the mode over a subset of the *CustomerID* column) as a substitute for the missing values associated with it.\n",
    "\n",
    "These are the most frequent CustomerID for each *CustomerCountry*:"
   ]
  },
  {
   "cell_type": "code",
   "execution_count": 29,
   "metadata": {
    "pycharm": {
     "name": "#%%\n"
    },
    "scrolled": true
   },
   "outputs": [
    {
     "name": "stdout",
     "output_type": "stream",
     "text": [
      "CustomerCountry\n",
      "Australia              12415.00\n",
      "Austria                12360.00\n",
      "Bahrain                12355.00\n",
      "Belgium                12362.00\n",
      "Brazil                 12769.00\n",
      "Canada                 17444.00\n",
      "Channel Islands        14936.00\n",
      "Cyprus                 12359.00\n",
      "Czech Republic         12781.00\n",
      "Denmark                12406.00\n",
      "EIRE                   14911.00\n",
      "European Community     15108.00\n",
      "Finland                12428.00\n",
      "France                 12681.00\n",
      "Germany                12471.00\n",
      "Greece                 12717.00\n",
      "Hong Kong                    []\n",
      "Iceland                12347.00\n",
      "Israel                 12688.00\n",
      "Italy                  12584.00\n",
      "Japan                  12753.00\n",
      "Lebanon                12764.00\n",
      "Lithuania              15332.00\n",
      "Malta                  17828.00\n",
      "Netherlands            14646.00\n",
      "Norway                 12433.00\n",
      "Poland                 12779.00\n",
      "Portugal               12757.00\n",
      "RSA                    12446.00\n",
      "Saudi Arabia           12565.00\n",
      "Singapore              12744.00\n",
      "Spain                  12540.00\n",
      "Sweden                 17404.00\n",
      "Switzerland            12451.00\n",
      "USA                    12607.00\n",
      "United Arab Emirates   12739.00\n",
      "United Kingdom         17841.00\n",
      "Unspecified            12743.00\n",
      "Name: CustomerID, dtype: object\n"
     ]
    }
   ],
   "source": [
    "country_mode = df.groupby(['CustomerCountry']).agg(lambda x:x.mode()).CustomerID\n",
    "print(country_mode)"
   ]
  },
  {
   "cell_type": "markdown",
   "metadata": {
    "pycharm": {
     "name": "#%% md\n"
    }
   },
   "source": [
    "No CustomerID is associated with any of the records with *CustomerCountry* equals to \"Hong Kong\". For the sake of replacing these empty values we craft a custom CustomerID and add it to the aforementioned list."
   ]
  },
  {
   "cell_type": "code",
   "execution_count": 30,
   "metadata": {
    "pycharm": {
     "name": "#%%\n"
    }
   },
   "outputs": [],
   "source": [
    "country_mode[\"Hong Kong\"] = \"88888.0\""
   ]
  },
  {
   "cell_type": "markdown",
   "metadata": {
    "pycharm": {
     "name": "#%% md\n"
    }
   },
   "source": [
    "Now we substitute each missing value with the corresponding element from the list."
   ]
  },
  {
   "cell_type": "code",
   "execution_count": 31,
   "metadata": {
    "pycharm": {
     "name": "#%%\n"
    }
   },
   "outputs": [],
   "source": [
    "#We replace the missing values from CustomerID with the elements from country_mode\n",
    "df['CustomerID'] = df.apply(\n",
    "    lambda row: country_mode[row['CustomerCountry']] if pd.isnull(row['CustomerID']) else row['CustomerID'],\n",
    "    axis=1\n",
    ")"
   ]
  },
  {
   "cell_type": "markdown",
   "metadata": {
    "pycharm": {
     "name": "#%% md\n"
    }
   },
   "source": [
    "After the process the number of missing values is down to zero."
   ]
  },
  {
   "cell_type": "code",
   "execution_count": 32,
   "metadata": {
    "pycharm": {
     "name": "#%%\n"
    },
    "scrolled": true
   },
   "outputs": [
    {
     "data": {
      "text/plain": [
       "0"
      ]
     },
     "execution_count": 32,
     "metadata": {},
     "output_type": "execute_result"
    }
   ],
   "source": [
    "df.CustomerID.isnull().sum()"
   ]
  },
  {
   "cell_type": "markdown",
   "metadata": {},
   "source": [
    "### Outliers detection"
   ]
  },
  {
   "cell_type": "markdown",
   "metadata": {},
   "source": [
    "We have already mentioned how both the *Sale* and *Qta* attributes contain very high values that could be easily classified as outliers, here we provide a deeper analysis of said phenomenon.\n",
    "\n",
    "These are the boxplots for the two attributes computed by the pandas function **boxplot()**:"
   ]
  },
  {
   "cell_type": "code",
   "execution_count": 33,
   "metadata": {},
   "outputs": [
    {
     "data": {
      "text/plain": [
       "<matplotlib.axes._subplots.AxesSubplot at 0x262cb36b160>"
      ]
     },
     "execution_count": 33,
     "metadata": {},
     "output_type": "execute_result"
    },
    {
     "data": {
      "image/png": "[encoded data removed]",
      "text/plain": [
       "<Figure size 432x288 with 1 Axes>"
      ]
     },
     "metadata": {
      "needs_background": "light"
     },
     "output_type": "display_data"
    }
   ],
   "source": [
    "df.boxplot()"
   ]
  },
  {
   "cell_type": "markdown",
   "metadata": {},
   "source": [
    "Indeed both plots seem to be deeply affected by outliers. \n",
    "We proceed by computing the **interquantile range** (**IQR**) and by limiting the plot to the points within it.\n",
    "\n",
    "We start by defining a function for computing the IQR:"
   ]
  },
  {
   "cell_type": "code",
   "execution_count": 34,
   "metadata": {},
   "outputs": [],
   "source": [
    "def iqr_values(s): \n",
    "    q1 = s.quantile(q = 0.25)\n",
    "    q3 = s.quantile(q = 0.75)\n",
    "    iqr = q3 - q1\n",
    "    iqr_left = q1 - 1.5*iqr\n",
    "    iqr_right = q3 + 1.5*iqr\n",
    "    return iqr_left, iqr_right"
   ]
  },
  {
   "cell_type": "markdown",
   "metadata": {},
   "source": [
    "Now we apply said function to *Sale* and plot the new boxplot. "
   ]
  },
  {
   "cell_type": "code",
   "execution_count": 35,
   "metadata": {},
   "outputs": [
    {
     "data": {
      "text/plain": [
       "<matplotlib.axes._subplots.AxesSubplot at 0x262c2fae1c0>"
      ]
     },
     "execution_count": 35,
     "metadata": {},
     "output_type": "execute_result"
    },
    {
     "data": {
      "image/png": "[encoded data removed]",
      "text/plain": [
       "<Figure size 432x288 with 1 Axes>"
      ]
     },
     "metadata": {
      "needs_background": "light"
     },
     "output_type": "display_data"
    }
   ],
   "source": [
    "left_sale, right_sale = iqr_values(df.Sale)\n",
    "df[(df.Sale > left_sale) & (df.Sale < right_sale)].Sale.plot.box()"
   ]
  },
  {
   "cell_type": "markdown",
   "metadata": {},
   "source": [
    "We do the same the *Qta* attribute."
   ]
  },
  {
   "cell_type": "code",
   "execution_count": 36,
   "metadata": {},
   "outputs": [
    {
     "data": {
      "text/plain": [
       "<matplotlib.axes._subplots.AxesSubplot at 0x262c307b4c0>"
      ]
     },
     "execution_count": 36,
     "metadata": {},
     "output_type": "execute_result"
    },
    {
     "data": {
      "image/png": "[encoded data removed]",
      "text/plain": [
       "<Figure size 432x288 with 1 Axes>"
      ]
     },
     "metadata": {
      "needs_background": "light"
     },
     "output_type": "display_data"
    }
   ],
   "source": [
    "left_qta, right_qta = iqr_values(df.Qta)\n",
    "df[(df.Qta > left_qta) & (df.Qta < right_qta)].Qta.plot.box()"
   ]
  },
  {
   "cell_type": "markdown",
   "metadata": {},
   "source": [
    "We select the records containing outliers for the *Sale* and *Qta* attributes."
   ]
  },
  {
   "cell_type": "code",
   "execution_count": 37,
   "metadata": {},
   "outputs": [
    {
     "data": {
      "text/html": [
       "<div>\n",
       "<style scoped>\n",
       "    .dataframe tbody tr th:only-of-type {\n",
       "        vertical-align: middle;\n",
       "    }\n",
       "\n",
       "    .dataframe tbody tr th {\n",
       "        vertical-align: top;\n",
       "    }\n",
       "\n",
       "    .dataframe thead th {\n",
       "        text-align: right;\n",
       "    }\n",
       "</style>\n",
       "<table border=\"1\" class=\"dataframe\">\n",
       "  <thead>\n",
       "    <tr style=\"text-align: right;\">\n",
       "      <th></th>\n",
       "      <th>BasketID</th>\n",
       "      <th>BasketDate</th>\n",
       "      <th>Sale</th>\n",
       "      <th>CustomerID</th>\n",
       "      <th>CustomerCountry</th>\n",
       "      <th>ProdID</th>\n",
       "      <th>ProdDescr</th>\n",
       "      <th>Qta</th>\n",
       "    </tr>\n",
       "  </thead>\n",
       "  <tbody>\n",
       "    <tr>\n",
       "      <th>5</th>\n",
       "      <td>536365</td>\n",
       "      <td>2010-01-12 08:26:00</td>\n",
       "      <td>7.65</td>\n",
       "      <td>17850.00</td>\n",
       "      <td>United Kingdom</td>\n",
       "      <td>22752</td>\n",
       "      <td>SET 7 BABUSHKA NESTING BOXES</td>\n",
       "      <td>2</td>\n",
       "    </tr>\n",
       "    <tr>\n",
       "      <th>13</th>\n",
       "      <td>536367</td>\n",
       "      <td>2010-01-12 08:34:00</td>\n",
       "      <td>1.69</td>\n",
       "      <td>13047.00</td>\n",
       "      <td>United Kingdom</td>\n",
       "      <td>84879</td>\n",
       "      <td>ASSORTED COLOUR BIRD ORNAMENT</td>\n",
       "      <td>32</td>\n",
       "    </tr>\n",
       "    <tr>\n",
       "      <th>20</th>\n",
       "      <td>536367</td>\n",
       "      <td>2010-01-12 08:34:00</td>\n",
       "      <td>9.95</td>\n",
       "      <td>13047.00</td>\n",
       "      <td>United Kingdom</td>\n",
       "      <td>22622</td>\n",
       "      <td>BOX OF VINTAGE ALPHABET BLOCKS</td>\n",
       "      <td>2</td>\n",
       "    </tr>\n",
       "    <tr>\n",
       "      <th>23</th>\n",
       "      <td>536367</td>\n",
       "      <td>2010-01-12 08:34:00</td>\n",
       "      <td>7.95</td>\n",
       "      <td>13047.00</td>\n",
       "      <td>United Kingdom</td>\n",
       "      <td>21777</td>\n",
       "      <td>RECIPE BOX WITH METAL HEART</td>\n",
       "      <td>4</td>\n",
       "    </tr>\n",
       "    <tr>\n",
       "      <th>24</th>\n",
       "      <td>536367</td>\n",
       "      <td>2010-01-12 08:34:00</td>\n",
       "      <td>7.95</td>\n",
       "      <td>13047.00</td>\n",
       "      <td>United Kingdom</td>\n",
       "      <td>48187</td>\n",
       "      <td>DOORMAT NEW ENGLAND</td>\n",
       "      <td>4</td>\n",
       "    </tr>\n",
       "    <tr>\n",
       "      <th>...</th>\n",
       "      <td>...</td>\n",
       "      <td>...</td>\n",
       "      <td>...</td>\n",
       "      <td>...</td>\n",
       "      <td>...</td>\n",
       "      <td>...</td>\n",
       "      <td>...</td>\n",
       "      <td>...</td>\n",
       "    </tr>\n",
       "    <tr>\n",
       "      <th>541866</th>\n",
       "      <td>581583</td>\n",
       "      <td>2011-09-12 12:23:00</td>\n",
       "      <td>1.85</td>\n",
       "      <td>13777.00</td>\n",
       "      <td>United Kingdom</td>\n",
       "      <td>85038</td>\n",
       "      <td>6 CHOCOLATE LOVE HEART T-LIGHTS</td>\n",
       "      <td>36</td>\n",
       "    </tr>\n",
       "    <tr>\n",
       "      <th>541867</th>\n",
       "      <td>581584</td>\n",
       "      <td>2011-09-12 12:25:00</td>\n",
       "      <td>0.72</td>\n",
       "      <td>13777.00</td>\n",
       "      <td>United Kingdom</td>\n",
       "      <td>20832</td>\n",
       "      <td>RED FLOCK LOVE HEART PHOTO FRAME</td>\n",
       "      <td>72</td>\n",
       "    </tr>\n",
       "    <tr>\n",
       "      <th>541868</th>\n",
       "      <td>581584</td>\n",
       "      <td>2011-09-12 12:25:00</td>\n",
       "      <td>1.85</td>\n",
       "      <td>13777.00</td>\n",
       "      <td>United Kingdom</td>\n",
       "      <td>85038</td>\n",
       "      <td>6 CHOCOLATE LOVE HEART T-LIGHTS</td>\n",
       "      <td>48</td>\n",
       "    </tr>\n",
       "    <tr>\n",
       "      <th>541892</th>\n",
       "      <td>581586</td>\n",
       "      <td>2011-09-12 12:49:00</td>\n",
       "      <td>8.95</td>\n",
       "      <td>13113.00</td>\n",
       "      <td>United Kingdom</td>\n",
       "      <td>21217</td>\n",
       "      <td>RED RETROSPOT ROUND CAKE TINS</td>\n",
       "      <td>24</td>\n",
       "    </tr>\n",
       "    <tr>\n",
       "      <th>541909</th>\n",
       "      <td>581587</td>\n",
       "      <td>2011-09-12 12:50:00</td>\n",
       "      <td>18.00</td>\n",
       "      <td>12680.00</td>\n",
       "      <td>France</td>\n",
       "      <td>POST</td>\n",
       "      <td>POSTAGE</td>\n",
       "      <td>1</td>\n",
       "    </tr>\n",
       "  </tbody>\n",
       "</table>\n",
       "<p>73324 rows × 8 columns</p>\n",
       "</div>"
      ],
      "text/plain": [
       "       BasketID          BasketDate  Sale CustomerID CustomerCountry ProdID  \\\n",
       "5        536365 2010-01-12 08:26:00  7.65   17850.00  United Kingdom  22752   \n",
       "13       536367 2010-01-12 08:34:00  1.69   13047.00  United Kingdom  84879   \n",
       "20       536367 2010-01-12 08:34:00  9.95   13047.00  United Kingdom  22622   \n",
       "23       536367 2010-01-12 08:34:00  7.95   13047.00  United Kingdom  21777   \n",
       "24       536367 2010-01-12 08:34:00  7.95   13047.00  United Kingdom  48187   \n",
       "...         ...                 ...   ...        ...             ...    ...   \n",
       "541866   581583 2011-09-12 12:23:00  1.85   13777.00  United Kingdom  85038   \n",
       "541867   581584 2011-09-12 12:25:00  0.72   13777.00  United Kingdom  20832   \n",
       "541868   581584 2011-09-12 12:25:00  1.85   13777.00  United Kingdom  85038   \n",
       "541892   581586 2011-09-12 12:49:00  8.95   13113.00  United Kingdom  21217   \n",
       "541909   581587 2011-09-12 12:50:00 18.00   12680.00          France   POST   \n",
       "\n",
       "                               ProdDescr  Qta  \n",
       "5           SET 7 BABUSHKA NESTING BOXES    2  \n",
       "13         ASSORTED COLOUR BIRD ORNAMENT   32  \n",
       "20        BOX OF VINTAGE ALPHABET BLOCKS    2  \n",
       "23           RECIPE BOX WITH METAL HEART    4  \n",
       "24                   DOORMAT NEW ENGLAND    4  \n",
       "...                                  ...  ...  \n",
       "541866   6 CHOCOLATE LOVE HEART T-LIGHTS   36  \n",
       "541867  RED FLOCK LOVE HEART PHOTO FRAME   72  \n",
       "541868   6 CHOCOLATE LOVE HEART T-LIGHTS   48  \n",
       "541892     RED RETROSPOT ROUND CAKE TINS   24  \n",
       "541909                           POSTAGE    1  \n",
       "\n",
       "[73324 rows x 8 columns]"
      ]
     },
     "execution_count": 37,
     "metadata": {},
     "output_type": "execute_result"
    }
   ],
   "source": [
    "df_outliers = df[(df.Sale < left_sale) | (df.Sale > right_sale) | (df.Qta < left_qta) | (df.Qta > right_qta)]\n",
    "df_outliers"
   ]
  },
  {
   "cell_type": "markdown",
   "metadata": {},
   "source": [
    "We delete the records containing outliers from the dataframe."
   ]
  },
  {
   "cell_type": "code",
   "execution_count": 38,
   "metadata": {},
   "outputs": [],
   "source": [
    "df.drop(df_outliers.index, inplace=True)"
   ]
  },
  {
   "cell_type": "code",
   "execution_count": 39,
   "metadata": {},
   "outputs": [
    {
     "data": {
      "text/plain": [
       "<matplotlib.axes._subplots.AxesSubplot at 0x262c3091550>"
      ]
     },
     "execution_count": 39,
     "metadata": {},
     "output_type": "execute_result"
    },
    {
     "data": {
      "image/png": "[encoded data removed]",
      "text/plain": [
       "<Figure size 432x288 with 1 Axes>"
      ]
     },
     "metadata": {
      "needs_background": "light"
     },
     "output_type": "display_data"
    }
   ],
   "source": [
    "df.Sale.plot.box()"
   ]
  },
  {
   "cell_type": "markdown",
   "metadata": {},
   "source": [
    "### Correlation coefficient and scatter plots"
   ]
  },
  {
   "cell_type": "code",
   "execution_count": 40,
   "metadata": {},
   "outputs": [
    {
     "data": {
      "text/html": [
       "<div>\n",
       "<style scoped>\n",
       "    .dataframe tbody tr th:only-of-type {\n",
       "        vertical-align: middle;\n",
       "    }\n",
       "\n",
       "    .dataframe tbody tr th {\n",
       "        vertical-align: top;\n",
       "    }\n",
       "\n",
       "    .dataframe thead th {\n",
       "        text-align: right;\n",
       "    }\n",
       "</style>\n",
       "<table border=\"1\" class=\"dataframe\">\n",
       "  <thead>\n",
       "    <tr style=\"text-align: right;\">\n",
       "      <th></th>\n",
       "      <th>Sale</th>\n",
       "      <th>Qta</th>\n",
       "    </tr>\n",
       "  </thead>\n",
       "  <tbody>\n",
       "    <tr>\n",
       "      <th>Sale</th>\n",
       "      <td>1.00</td>\n",
       "      <td>-0.34</td>\n",
       "    </tr>\n",
       "    <tr>\n",
       "      <th>Qta</th>\n",
       "      <td>-0.34</td>\n",
       "      <td>1.00</td>\n",
       "    </tr>\n",
       "  </tbody>\n",
       "</table>\n",
       "</div>"
      ],
      "text/plain": [
       "      Sale   Qta\n",
       "Sale  1.00 -0.34\n",
       "Qta  -0.34  1.00"
      ]
     },
     "execution_count": 40,
     "metadata": {},
     "output_type": "execute_result"
    }
   ],
   "source": [
    "df.corr()"
   ]
  },
  {
   "cell_type": "markdown",
   "metadata": {},
   "source": [
    "The **corr()** function from pandas computes the **pearson correlation** by default but other methods can be specified through the arguments of the function."
   ]
  },
  {
   "cell_type": "code",
   "execution_count": 41,
   "metadata": {
    "pycharm": {
     "name": "#%%\n"
    }
   },
   "outputs": [
    {
     "data": {
      "text/html": [
       "<div>\n",
       "<style scoped>\n",
       "    .dataframe tbody tr th:only-of-type {\n",
       "        vertical-align: middle;\n",
       "    }\n",
       "\n",
       "    .dataframe tbody tr th {\n",
       "        vertical-align: top;\n",
       "    }\n",
       "\n",
       "    .dataframe thead th {\n",
       "        text-align: right;\n",
       "    }\n",
       "</style>\n",
       "<table border=\"1\" class=\"dataframe\">\n",
       "  <thead>\n",
       "    <tr style=\"text-align: right;\">\n",
       "      <th></th>\n",
       "      <th>Sale</th>\n",
       "      <th>Qta</th>\n",
       "    </tr>\n",
       "  </thead>\n",
       "  <tbody>\n",
       "    <tr>\n",
       "      <th>Sale</th>\n",
       "      <td>1.00</td>\n",
       "      <td>-0.25</td>\n",
       "    </tr>\n",
       "    <tr>\n",
       "      <th>Qta</th>\n",
       "      <td>-0.25</td>\n",
       "      <td>1.00</td>\n",
       "    </tr>\n",
       "  </tbody>\n",
       "</table>\n",
       "</div>"
      ],
      "text/plain": [
       "      Sale   Qta\n",
       "Sale  1.00 -0.25\n",
       "Qta  -0.25  1.00"
      ]
     },
     "execution_count": 41,
     "metadata": {},
     "output_type": "execute_result"
    }
   ],
   "source": [
    "df.corr(method='kendall')"
   ]
  },
  {
   "cell_type": "code",
   "execution_count": 42,
   "metadata": {
    "pycharm": {
     "name": "#%%\n"
    }
   },
   "outputs": [
    {
     "data": {
      "text/html": [
       "<div>\n",
       "<style scoped>\n",
       "    .dataframe tbody tr th:only-of-type {\n",
       "        vertical-align: middle;\n",
       "    }\n",
       "\n",
       "    .dataframe tbody tr th {\n",
       "        vertical-align: top;\n",
       "    }\n",
       "\n",
       "    .dataframe thead th {\n",
       "        text-align: right;\n",
       "    }\n",
       "</style>\n",
       "<table border=\"1\" class=\"dataframe\">\n",
       "  <thead>\n",
       "    <tr style=\"text-align: right;\">\n",
       "      <th></th>\n",
       "      <th>Sale</th>\n",
       "      <th>Qta</th>\n",
       "    </tr>\n",
       "  </thead>\n",
       "  <tbody>\n",
       "    <tr>\n",
       "      <th>Sale</th>\n",
       "      <td>1.00</td>\n",
       "      <td>-0.33</td>\n",
       "    </tr>\n",
       "    <tr>\n",
       "      <th>Qta</th>\n",
       "      <td>-0.33</td>\n",
       "      <td>1.00</td>\n",
       "    </tr>\n",
       "  </tbody>\n",
       "</table>\n",
       "</div>"
      ],
      "text/plain": [
       "      Sale   Qta\n",
       "Sale  1.00 -0.33\n",
       "Qta  -0.33  1.00"
      ]
     },
     "execution_count": 42,
     "metadata": {},
     "output_type": "execute_result"
    }
   ],
   "source": [
    "df.corr(method='spearman')"
   ]
  },
  {
   "cell_type": "code",
   "execution_count": 43,
   "metadata": {},
   "outputs": [],
   "source": [
    "###"
   ]
  },
  {
   "cell_type": "code",
   "execution_count": 44,
   "metadata": {
    "pycharm": {
     "name": "#%%\n"
    }
   },
   "outputs": [
    {
     "data": {
      "image/png": "[encoded data removed]",
      "text/plain": [
       "<Figure size 432x288 with 1 Axes>"
      ]
     },
     "metadata": {
      "needs_background": "light"
     },
     "output_type": "display_data"
    }
   ],
   "source": [
    "plt.scatter(df['Sale'], df['Qta'])\n",
    "plt.xlabel('Sale')\n",
    "plt.ylabel('Qta')\n",
    "plt.show()"
   ]
  },
  {
   "cell_type": "code",
   "execution_count": null,
   "metadata": {
    "pycharm": {
     "name": "#%%\n"
    }
   },
   "outputs": [
    {
     "name": "stderr",
     "output_type": "stream",
     "text": [
      "C:\\Users\\markp\\anaconda3\\lib\\site-packages\\IPython\\core\\pylabtools.py:132: UserWarning: Creating legend with loc=\"best\" can be slow with large amounts of data.\n",
      "  fig.canvas.print_figure(bytes_io, **kw)\n"
     ]
    }
   ],
   "source": [
    "colors = [\"#FF0000\", \"#FF7F00\", \"#FFFF00\", \"#00FF00\", \"#0000FF\", \"#2E2B5F\", \"#8B00FF\"]\n",
    "days = [\"Monday\", \"Tuesday\", \"Wednesday\", \"Thursday\", \"Friday\", \"Saturday\", \"Sunday\"]\n",
    "\n",
    "for i in range(7):\n",
    "    plt.scatter(df[df['BasketDate'].dt.weekday == i]['Sale'],\n",
    "            df[df['BasketDate'].dt.weekday == i]['Qta'], color=colors[i], marker='.', label=days[i])\n",
    "\n",
    "plt.xlabel('Sale')\n",
    "plt.ylabel('Qta')\n",
    "plt.legend()\n",
    "plt.show()"
   ]
  },
  {
   "cell_type": "code",
   "execution_count": null,
   "metadata": {
    "pycharm": {
     "name": "#%%\n"
    }
   },
   "outputs": [],
   "source": [
    "colors = [\"#004F61\", \"#03637B\", \"#057696\", \"#0988B0\", \"#0E9ACA\", \"#14ABE5\", \"#1ABCFE\", \"#2ED7FF\", \"#43EFFF\", \"#58FFFF\", \"#6EFFFA\", \"#85FFF0\", \"#9CFFEA\"]\n",
    "months = [\"January\", \"February\", \"March\", \"April\", \"May\", \"June\", \"July\", \"August\", \"September\", \"October\", \"November\", \"December\"]\n",
    "\n",
    "for i in range(12):\n",
    "    plt.scatter(df[df['BasketDate'].dt.month == i - 1]['Sale'],\n",
    "            df[df['BasketDate'].dt.month == i - 1]['Qta'], color=colors[12 - i ], marker='.', label=months[i])\n",
    "\n",
    "plt.xlabel('Sale')\n",
    "plt.ylabel('Qta')\n",
    "plt.legend()\n",
    "plt.show()"
   ]
  },
  {
   "cell_type": "code",
   "execution_count": null,
   "metadata": {
    "pycharm": {
     "name": "#%%\n"
    }
   },
   "outputs": [],
   "source": [
    "colors = [\"#805F0D\", \"#929210\", \"#81A413\", \"#60B617\", \"#38C81B\", \"#1FDA35\", \"#23EA74\", \"#28FAB9\", \"#3EFDED\", \"#55E7FF\", \"#6CCAFF\", \"#84B7FF\", \"#9CAFFF\", \"#BAB6FF\", \"#DED0FF\"]\n",
    "hours = [\"Past 6:00\", \"Past 7:00\", \"Past 8:00\", \"Past 9:00\", \"Past 10:00\", \"Past 11:00\", \"Past 12:00\", \"Past 13:00\", \"Past 14:00\", \"Past 15:00\", \"Past 16:00\", \"Past 17:00\", \"Past 18:00\", \"Past 19:00\", \"Past 20:00\"]\n",
    "\n",
    "for i in range(6, 21):\n",
    "    plt.scatter(df[df['BasketDate'].dt.hour == i]['Sale'],\n",
    "            df[df['BasketDate'].dt.hour == i]['Qta'], color=colors[i - 6], marker='.', label=hours[i - 6])\n",
    "\n",
    "plt.xlabel('Sale')\n",
    "plt.ylabel('Qta')\n",
    "plt.legend()\n",
    "plt.show()"
   ]
  },
  {
   "cell_type": "markdown",
   "metadata": {},
   "source": [
    "### Distributions"
   ]
  },
  {
   "cell_type": "markdown",
   "metadata": {},
   "source": [
    "#### BasketDate"
   ]
  },
  {
   "cell_type": "code",
   "execution_count": null,
   "metadata": {},
   "outputs": [],
   "source": [
    "# Set up a grid of plots:\n",
    "fig = plt.figure(figsize=(20, 10))\n",
    "fig_dims = (2, 2)\n",
    "fig.subplots_adjust(hspace=0.4, wspace=0.4)\n",
    "\n",
    "\n",
    "\n",
    "# Plot BasketDate by Years\n",
    "plt.subplot2grid(fig_dims, (0, 0))\n",
    "df['BasketDate'].groupby(df.BasketDate.dt.year).agg('count').plot(kind=\"bar\")\n",
    "plt.title(\"BasketDate by year\")\n",
    "plt.xlabel(\"Years\")\n",
    "plt.ylabel(\"Number of records\")\n",
    "\n",
    "\n",
    "\n",
    "# Plot BasketDate by Months\n",
    "plt.subplot2grid(fig_dims, (0, 1))\n",
    "df['BasketDate'].groupby(df.BasketDate.dt.month).agg('count').plot(kind=\"bar\")\n",
    "plt.title(\"BasketDate by month\")\n",
    "plt.xlabel(\"Months (1 = Jan, ..., 12 = Dec)\")\n",
    "plt.ylabel(\"Number of records\")\n",
    "\n",
    "\n",
    "\n",
    "# Plot BasketDate by Day of the Week\n",
    "plt.subplot2grid(fig_dims, (1, 0))\n",
    "df['BasketDate'].groupby(df.BasketDate.dt.weekday).agg('count').plot(kind=\"bar\")\n",
    "plt.title(\"BasketDate by days of the week\")\n",
    "plt.xlabel(\"Days (0 = Monday, ..., 6 = Sunday)\")\n",
    "plt.ylabel(\"Number of records\")\n",
    "\n",
    "\n",
    "\n",
    "# Plot BasketDate by Hour of the day\n",
    "plt.subplot2grid(fig_dims, (1, 1))\n",
    "df['BasketDate'].groupby(df.BasketDate.dt.hour).agg('count').plot(kind=\"bar\")\n",
    "plt.title(\"BasketDate by hours of the day\")\n",
    "plt.xlabel(\"Hours\")\n",
    "plt.ylabel(\"Number of records\")"
   ]
  },
  {
   "cell_type": "markdown",
   "metadata": {},
   "source": [
    "#### Sale"
   ]
  },
  {
   "cell_type": "code",
   "execution_count": null,
   "metadata": {},
   "outputs": [],
   "source": [
    "df.Sale.plot(title=\"Distribution of Sale\")"
   ]
  },
  {
   "cell_type": "code",
   "execution_count": null,
   "metadata": {},
   "outputs": [],
   "source": [
    "df.Sale.plot(kind='kde')"
   ]
  },
  {
   "cell_type": "code",
   "execution_count": null,
   "metadata": {},
   "outputs": [],
   "source": [
    "n_bin = int(math.sqrt(df.count()[0]))\n",
    "df.Sale.hist(bins=100)"
   ]
  },
  {
   "cell_type": "markdown",
   "metadata": {},
   "source": [
    "The graphs above display that few records present extremely high values for the *Sale* attributes while most of the other values are grouped together below the mean.<br>\n",
    "Said behaviour classifies the distribution of *Sale* as **positively skewed**.\n",
    "\n",
    "\n",
    "!!! <b>MAKE SOME KIND OF PLOT THAT MAKES SENSE</b> !!!"
   ]
  },
  {
   "cell_type": "markdown",
   "metadata": {},
   "source": [
    "#### CustomerCountry"
   ]
  },
  {
   "cell_type": "code",
   "execution_count": null,
   "metadata": {},
   "outputs": [],
   "source": [
    "df.CustomerCountry.value_counts().count()"
   ]
  },
  {
   "cell_type": "markdown",
   "metadata": {},
   "source": [
    "The records contained within the dataset present 38 possible values for the attribute *CustomerCountry*."
   ]
  },
  {
   "cell_type": "code",
   "execution_count": null,
   "metadata": {},
   "outputs": [],
   "source": [
    "df.CustomerCountry.value_counts()"
   ]
  },
  {
   "cell_type": "markdown",
   "metadata": {},
   "source": [
    "Among said values, \"**United Kingdom**\", being present within the 90% of the records in the dataset is the most frequent one."
   ]
  },
  {
   "cell_type": "code",
   "execution_count": null,
   "metadata": {},
   "outputs": [],
   "source": [
    "uk_percentage = df[df.CustomerCountry == \"United Kingdom\"].count()[0] # number of records with CustomerCountry equals to \"United Kingdom\"\n",
    "tot_rows = df.count()[0] # number of rows within the dataframe\n",
    "uk_percentage = (uk_percentage / tot_rows)*100\n",
    "print(uk_percentage)"
   ]
  },
  {
   "cell_type": "markdown",
   "metadata": {},
   "source": [
    "Also, 340 different records present the value \"**Unspecified**\" for the attribute in question. (See **Missing values detection**) "
   ]
  },
  {
   "cell_type": "code",
   "execution_count": null,
   "metadata": {},
   "outputs": [],
   "source": [
    "# Set up a grid of plots:\n",
    "fig = plt.figure(figsize=(20, 5))\n",
    "fig_dims = (1, 2)\n",
    "fig.subplots_adjust(hspace=0.4, wspace=0.4)\n",
    "\n",
    "# Plot Distribution of CustomerCountry\n",
    "plt.subplot2grid(fig_dims, (0, 0))\n",
    "df.CustomerCountry.value_counts().plot(kind='bar')\n",
    "plt.title(\"Distribution of CustomerCountry\")\n",
    "plt.xlabel(\"Countries\")\n",
    "plt.ylabel(\"Number of records\")\n",
    "\n",
    "# Plot Distribution of CustomerCountry - without UK\n",
    "plt.subplot2grid(fig_dims, (0, 1))\n",
    "df[df.CustomerCountry != 'United Kingdom'].CustomerCountry.value_counts().plot(kind='bar')\n",
    "plt.title(\"Distribution of CustomerCountry - without UK\")\n",
    "plt.xlabel(\"Countries\")\n",
    "plt.ylabel(\"Number of records\")\n"
   ]
  },
  {
   "cell_type": "markdown",
   "metadata": {},
   "source": [
    "#### Qta"
   ]
  },
  {
   "cell_type": "code",
   "execution_count": null,
   "metadata": {},
   "outputs": [],
   "source": [
    "df.Qta.plot(title=\"Distribution of Qta\")"
   ]
  },
  {
   "cell_type": "code",
   "execution_count": null,
   "metadata": {},
   "outputs": [],
   "source": [
    "df.Qta.plot(kind='kde')"
   ]
  },
  {
   "cell_type": "code",
   "execution_count": null,
   "metadata": {},
   "outputs": [],
   "source": [
    "n_bin = int(math.sqrt(df.count()[0]))\n",
    "print(n_bin)\n",
    "df.Qta.hist(bins=100)"
   ]
  },
  {
   "cell_type": "markdown",
   "metadata": {},
   "source": [
    "As for *Sale*, the values of *Qta* display a **positively skewed** behaviour. \n",
    "<br>Also, the graphs displays interesting couples of high symmetrical values. See **Outliers detection**."
   ]
  },
  {
   "cell_type": "markdown",
   "metadata": {},
   "source": [
    "# Data Visualization (plots)"
   ]
  },
  {
   "cell_type": "markdown",
   "metadata": {},
   "source": [
    "   ### (Grafici non relativi a periodi di tempo)\n",
    "   "
   ]
  },
  {
   "cell_type": "markdown",
   "metadata": {},
   "source": [
    "#### Shopping sessions\n",
    "\n",
    "How many shopping sessions for each country"
   ]
  },
  {
   "cell_type": "code",
   "execution_count": null,
   "metadata": {},
   "outputs": [],
   "source": [
    "print(\"Country \\t Number of sessions\")\n",
    "df['BasketID'].groupby(df['CustomerCountry']).count().sort_values()"
   ]
  },
  {
   "cell_type": "markdown",
   "metadata": {},
   "source": [
    "A total of 138 shopping sessions have been done in Hong Kong, but no customer IDs result for them.\n",
    "Zero customers have been identified in Hong Kong, even if they have done a total of 138 sessions.\n",
    "\n",
    "This problem is fixed in section ***Data Cleaning & Transformation***."
   ]
  },
  {
   "cell_type": "markdown",
   "metadata": {},
   "source": [
    "#### Products\n",
    "\n",
    "Which are the most bought products"
   ]
  },
  {
   "cell_type": "code",
   "execution_count": null,
   "metadata": {},
   "outputs": [],
   "source": [
    "print(\"Product \\t Quantity\")\n",
    "df['Qta'].groupby(df['ProdDescr']).sum().sort_values()\n",
    "# stamparne di più"
   ]
  },
  {
   "cell_type": "markdown",
   "metadata": {},
   "source": [
    "   ### Periods plots\n"
   ]
  },
  {
   "cell_type": "markdown",
   "metadata": {},
   "source": [
    "Before building plots for periods, we duplicate the dataframe and set the date as index for it. In this way we have this *ad hoc* dataframe for building plots, and we use it just for this purpose."
   ]
  },
  {
   "cell_type": "code",
   "execution_count": null,
   "metadata": {},
   "outputs": [],
   "source": [
    "df2 = df.copy()\n",
    "df2.index = pd.to_datetime(df['BasketDate'], format='%d/%m/%y %H:%M')\n",
    "df2.head()"
   ]
  },
  {
   "cell_type": "markdown",
   "metadata": {},
   "source": [
    "#### *Sale* plots\n",
    "**Monthly**"
   ]
  },
  {
   "cell_type": "code",
   "execution_count": null,
   "metadata": {},
   "outputs": [],
   "source": [
    "monthly_sales_mean = df2['Sale'].groupby([df2.index.year, df2.index.month]).mean().plot()\n",
    "plt.title('Montly sales: ')\n",
    "plt.xlabel('Month')\n",
    "plt.ylabel('Mean value')"
   ]
  },
  {
   "cell_type": "code",
   "execution_count": null,
   "metadata": {},
   "outputs": [],
   "source": [
    "monthly_sales_total = df2['Sale'].groupby([df2.index.year, df2.index.month]).sum().plot()\n",
    "plt.title('Total montly sales: ')\n",
    "plt.xlabel('Month')\n",
    "plt.ylabel('Sum')"
   ]
  },
  {
   "cell_type": "markdown",
   "metadata": {},
   "source": [
    "**Weekly**"
   ]
  },
  {
   "cell_type": "code",
   "execution_count": null,
   "metadata": {},
   "outputs": [],
   "source": [
    "weekly_sales_mean = df2['Sale'].groupby(df2.index.day).mean().plot()\n",
    "plt.title('Weekly sales: ')\n",
    "plt.xlabel('Day')\n",
    "plt.ylabel('Mean')"
   ]
  },
  {
   "cell_type": "code",
   "execution_count": null,
   "metadata": {},
   "outputs": [],
   "source": [
    "weekly_sales_total = df2['Sale'].groupby(df2.index.day).sum().plot()\n",
    "plt.title('Total weekly sales: ')\n",
    "plt.xlabel('Day')\n",
    "plt.ylabel('Sum')"
   ]
  },
  {
   "cell_type": "markdown",
   "metadata": {},
   "source": [
    "**Daily**"
   ]
  },
  {
   "cell_type": "code",
   "execution_count": null,
   "metadata": {},
   "outputs": [],
   "source": [
    "daily_sales_mean = df2['Sale'].groupby([df2.index.month, df2.index.day]).mean().plot()\n",
    "plt.title('Daily sales for each month: ')\n",
    "plt.xlabel('Month-Day')\n",
    "plt.ylabel('Mean value')"
   ]
  },
  {
   "cell_type": "code",
   "execution_count": null,
   "metadata": {},
   "outputs": [],
   "source": [
    "daily_sales_total = df2['Sale'].groupby([df2.index.month, df2.index.day]).sum().plot()\n",
    "plt.title('Total daily sales for each month: ')\n",
    "plt.xlabel('Month-Day')\n",
    "plt.ylabel('Sum')"
   ]
  },
  {
   "cell_type": "markdown",
   "metadata": {},
   "source": [
    "**Hourly**"
   ]
  },
  {
   "cell_type": "code",
   "execution_count": null,
   "metadata": {},
   "outputs": [],
   "source": [
    "# Set up a grid of plots:\n",
    "fig = plt.figure(figsize=(20, 10))\n",
    "fig_dims = (2, 2)\n",
    "fig.subplots_adjust(hspace=0.4, wspace=0.4)\n",
    "\n",
    "# Plot mean sales per hour\n",
    "plt.subplot2grid(fig_dims, (0, 0))\n",
    "hourly_sales_mean = df2['Sale'].groupby(df2.index.hour).mean().plot()\n",
    "plt.title('Sales per hour: ')\n",
    "plt.xlabel('Hour')\n",
    "plt.ylabel('Mean value')\n",
    "\n",
    "# Plot total sales per hour\n",
    "plt.subplot2grid(fig_dims, (1, 0))\n",
    "hourly_sales_total = df2['Sale'].groupby(df2.index.hour).sum().plot()\n",
    "plt.title('Total sales per hour: ')\n",
    "plt.xlabel('Hour')\n",
    "plt.ylabel('Sum')\n",
    "\n",
    "# Plot mean sales per hour for each month\n",
    "plt.subplot2grid(fig_dims, (0, 1))\n",
    "hourly_sales_mean = df2['Sale'].groupby([df2.index.month, df2.index.hour]).mean().plot()\n",
    "plt.title('Hourly sales for each month: ')\n",
    "plt.xlabel('Month-Hour')\n",
    "plt.ylabel('Mean value')\n",
    "\n",
    "# Plot total sales per hour for each month\n",
    "# evidente regolarità !!\n",
    "plt.subplot2grid(fig_dims, (1, 1))\n",
    "hourly_sales_total = df2['Sale'].groupby([df2.index.month, df2.index.hour]).sum().plot()\n",
    "plt.title('Total hourly sales for each month: ')\n",
    "plt.xlabel('Month-Hour')\n",
    "plt.ylabel('Sum')"
   ]
  },
  {
   "cell_type": "markdown",
   "metadata": {},
   "source": [
    "#### *Country* plots"
   ]
  },
  {
   "cell_type": "code",
   "execution_count": null,
   "metadata": {},
   "outputs": [],
   "source": [
    "df2.groupby(df2['CustomerCountry']).median()"
   ]
  },
  {
   "cell_type": "code",
   "execution_count": null,
   "metadata": {},
   "outputs": [],
   "source": [
    "df2['Sale'].groupby(df2['CustomerCountry']).median().plot(kind='bar')\n",
    "plt.title('Sales per country: ')\n",
    "plt.xlabel('Country')\n",
    "plt.ylabel('Sales median')"
   ]
  },
  {
   "cell_type": "code",
   "execution_count": null,
   "metadata": {},
   "outputs": [],
   "source": [
    "median_sale_country.plot()"
   ]
  },
  {
   "cell_type": "code",
   "execution_count": null,
   "metadata": {},
   "outputs": [],
   "source": []
  },
  {
   "cell_type": "markdown",
   "metadata": {},
   "source": [
    "#### *Customers* plots\n",
    "\n",
    "How many customers for each country:"
   ]
  },
  {
   "cell_type": "code",
   "execution_count": null,
   "metadata": {},
   "outputs": [],
   "source": [
    "print(\"Country \\t Number of customers\")\n",
    "df2['CustomerID'].groupby(df2['CustomerCountry']).count().sort_values()"
   ]
  },
  {
   "cell_type": "code",
   "execution_count": null,
   "metadata": {},
   "outputs": [],
   "source": [
    "df2['CustomerID'].groupby(df2['CustomerCountry']).count().plot(kind='bar')\n",
    "plt.title('Number of customers per country: ')\n",
    "plt.xlabel('Country')\n",
    "plt.ylabel('Number of customers')"
   ]
  },
  {
   "cell_type": "code",
   "execution_count": null,
   "metadata": {},
   "outputs": [],
   "source": [
    "# ELIMINARE UK per fare confronto fra gli altri paesi\n",
    "customers_without_UK = df2['CustomerID'].groupby(df2['CustomerCountry']).count()\n",
    "customers_without_UK = customers_without_UK.drop(['United Kingdom'])"
   ]
  },
  {
   "cell_type": "code",
   "execution_count": null,
   "metadata": {},
   "outputs": [],
   "source": [
    "customers_without_UK.plot(kind='bar')\n",
    "plt.title('Number of customers per country (without UK): ')\n",
    "plt.xlabel('Country')\n",
    "plt.ylabel('Customers')"
   ]
  },
  {
   "cell_type": "markdown",
   "metadata": {},
   "source": [
    "Shopping sessions for each customer: how many times each customer has bought something."
   ]
  },
  {
   "cell_type": "code",
   "execution_count": null,
   "metadata": {},
   "outputs": [],
   "source": [
    "print(\"Customer: \\t How many shopping sessions\")\n",
    "df2['BasketID'].groupby(df2['CustomerID']).count()"
   ]
  },
  {
   "cell_type": "markdown",
   "metadata": {},
   "source": [
    "Sales per customer: how much each customer has spent in total."
   ]
  },
  {
   "cell_type": "code",
   "execution_count": null,
   "metadata": {},
   "outputs": [],
   "source": [
    "print(\"Customer \\t Total sale\")\n",
    "df2['Sale'].groupby(df2['CustomerID']).sum()"
   ]
  },
  {
   "cell_type": "markdown",
   "metadata": {},
   "source": [
    "Sales per country: in which country the sales are high/low."
   ]
  },
  {
   "cell_type": "code",
   "execution_count": null,
   "metadata": {},
   "outputs": [],
   "source": [
    "print(\"Country \\t Total sale\")\n",
    "df2['Sale'].groupby(df2['CustomerCountry']).sum()"
   ]
  },
  {
   "cell_type": "code",
   "execution_count": null,
   "metadata": {},
   "outputs": [],
   "source": [
    "# ELIMINARE UK per fare confronto fra gli altri paesi\n",
    "sales_without_UK = df2['Sale'].groupby(df2['CustomerCountry']).sum()\n",
    "sales_without_UK = sales_without_UK.drop(['United Kingdom'])"
   ]
  },
  {
   "cell_type": "code",
   "execution_count": null,
   "metadata": {},
   "outputs": [],
   "source": [
    "sales_without_UK.plot(kind='bar')\n",
    "plt.title('Sales per country (without UK): ')\n",
    "plt.xlabel('Country')\n",
    "plt.ylabel('Total sales (expenditure)')"
   ]
  },
  {
   "cell_type": "markdown",
   "metadata": {},
   "source": [
    "# Task 1.2 : Data Preparation"
   ]
  },
  {
   "cell_type": "markdown",
   "metadata": {},
   "source": [
    "## Improving data quality"
   ]
  },
  {
   "cell_type": "markdown",
   "metadata": {},
   "source": [
    "### Handling duplicates"
   ]
  },
  {
   "cell_type": "markdown",
   "metadata": {},
   "source": [
    "### Handling missing values"
   ]
  },
  {
   "cell_type": "markdown",
   "metadata": {
    "pycharm": {
     "name": "#%% md\n"
    }
   },
   "source": [
    "#### Replacing the missing values from *CustomerID*\n",
    "\n",
    "The CustomerID column presents 65080 missing values."
   ]
  },
  {
   "cell_type": "code",
   "execution_count": null,
   "metadata": {
    "pycharm": {
     "name": "#%%\n"
    },
    "scrolled": true
   },
   "outputs": [],
   "source": [
    "df.CustomerID.isnull().sum()"
   ]
  },
  {
   "cell_type": "markdown",
   "metadata": {
    "pycharm": {
     "name": "#%% md\n"
    }
   },
   "source": [
    "In order to effectively replace said values we select the most frequent IDs in a given *CustomerCountry* (the mode over a subset of the *CustomerID* column) as a substitute for the missing values associated with it.\n",
    "\n",
    "These are the most frequent CustomerID for each *CustomerCountry*:"
   ]
  },
  {
   "cell_type": "code",
   "execution_count": null,
   "metadata": {
    "pycharm": {
     "name": "#%%\n"
    },
    "scrolled": true
   },
   "outputs": [],
   "source": [
    "country_mode = df.groupby(['CustomerCountry']).agg(lambda x:x.mode()).CustomerID\n",
    "print(country_mode)"
   ]
  },
  {
   "cell_type": "markdown",
   "metadata": {
    "pycharm": {
     "name": "#%% md\n"
    }
   },
   "source": [
    "No CustomerID is associated with any of the records with *CustomerCountry* equals to \"Hong Kong\". For the sake of replacing these empty values we craft a custom CustomerID and add it to the aforementioned list."
   ]
  },
  {
   "cell_type": "code",
   "execution_count": null,
   "metadata": {
    "pycharm": {
     "name": "#%%\n"
    }
   },
   "outputs": [],
   "source": [
    "country_mode[\"Hong Kong\"] = \"88888.0\""
   ]
  },
  {
   "cell_type": "markdown",
   "metadata": {
    "pycharm": {
     "name": "#%% md\n"
    }
   },
   "source": [
    "Now we substitute each missing value with the corresponding element from the list."
   ]
  },
  {
   "cell_type": "code",
   "execution_count": null,
   "metadata": {
    "pycharm": {
     "name": "#%%\n"
    }
   },
   "outputs": [],
   "source": [
    "#We replace the missing values from CustomerID with the elements from country_mode\n",
    "df['CustomerID'] = df.apply(\n",
    "    lambda row: country_mode[row['CustomerCountry']] if pd.isnull(row['CustomerID']) else row['CustomerID'],\n",
    "    axis=1\n",
    ")"
   ]
  },
  {
   "cell_type": "markdown",
   "metadata": {
    "pycharm": {
     "name": "#%% md\n"
    }
   },
   "source": [
    "After the process the number of missing values is down to zero."
   ]
  },
  {
   "cell_type": "code",
   "execution_count": null,
   "metadata": {
    "pycharm": {
     "name": "#%%\n"
    },
    "scrolled": true
   },
   "outputs": [],
   "source": [
    "df.CustomerID.isnull().sum()"
   ]
  },
  {
   "cell_type": "markdown",
   "metadata": {},
   "source": [
    "### Handling outliers"
   ]
  },
  {
   "cell_type": "markdown",
   "metadata": {},
   "source": [
    "# New features extraction\n",
    "We now find and extract new features useful for describing the customer profile and his purchasing behavior.\n",
    "\n",
    "For each customer, we extract the following indicators:\n",
    "- ***I***: the total number of items purchased by a customer during the period of\n",
    "observation.\n",
    "- ***Iu***: the number of distinct items bought by a customer in the period of\n",
    "observation.\n",
    "- ***Imax***: the maximum number of items purchased by a customer during a\n",
    "shopping session\n",
    "- ***E***: the Shannon entropy on the purchasing behaviour of the customer\n",
    "\n"
   ]
  },
  {
   "cell_type": "markdown",
   "metadata": {},
   "source": [
    "First of all, we extract the number of distinct customer:"
   ]
  },
  {
   "cell_type": "code",
   "execution_count": null,
   "metadata": {},
   "outputs": [],
   "source": [
    "print(\"There are\", df.CustomerID.unique().size, \"distinct customers. \") "
   ]
  },
  {
   "cell_type": "markdown",
   "metadata": {},
   "source": [
    "## \"I\" indicator\n"
   ]
  },
  {
   "cell_type": "code",
   "execution_count": null,
   "metadata": {},
   "outputs": [],
   "source": [
    "# total number of items purchased by a customer\n",
    "I = df['Qta'].groupby(df['CustomerID']).sum()\n",
    "print(\"\\t How many items he bought \\n\", I)"
   ]
  },
  {
   "cell_type": "markdown",
   "metadata": {},
   "source": [
    "We now check the distribution of this new indicator, unsing the **density plot**."
   ]
  },
  {
   "cell_type": "code",
   "execution_count": null,
   "metadata": {
    "scrolled": true
   },
   "outputs": [],
   "source": [
    "# DENSITY PLOT\n",
    "I.plot.kde()\n",
    "plt.title('Density distribution of total items bought: ')\n",
    "plt.axis([-4000,10000,0,0.0004])"
   ]
  },
  {
   "cell_type": "markdown",
   "metadata": {},
   "source": [
    "*Osservazioni sul tipo di distribuzione*"
   ]
  },
  {
   "cell_type": "markdown",
   "metadata": {},
   "source": [
    "## \"Iu\" indicator"
   ]
  },
  {
   "cell_type": "code",
   "execution_count": null,
   "metadata": {},
   "outputs": [],
   "source": [
    "# number of distinct items bought by a customer\n",
    "Iu = df['ProdID'].groupby(df['CustomerID']).unique()\n",
    "#Iu = pd.DataFrame(Iu)\n",
    "Iu"
   ]
  },
  {
   "cell_type": "code",
   "execution_count": null,
   "metadata": {},
   "outputs": [],
   "source": [
    "items = pd.DataFrame(data = {'TotalProd': []})\n",
    "items"
   ]
  },
  {
   "cell_type": "code",
   "execution_count": null,
   "metadata": {
    "scrolled": true
   },
   "outputs": [],
   "source": [
    "# counting uniques\n",
    "for i in Iu:\n",
    "    items = items.append({'TotalProd': i.size}, ignore_index=True)\n",
    "items.TotalProd"
   ]
  },
  {
   "cell_type": "code",
   "execution_count": null,
   "metadata": {},
   "outputs": [],
   "source": [
    "items['CustomerID'] = Iu.index\n",
    "items.index = items.CustomerID\n",
    "items"
   ]
  },
  {
   "cell_type": "code",
   "execution_count": null,
   "metadata": {},
   "outputs": [],
   "source": [
    "# DENSITY PLOT\n",
    "Iu.plot.kde()\n",
    "plt.title('Density distribution of distinct items bought: ')\n",
    "plt.axis([-1000,1500,0,0.002])"
   ]
  },
  {
   "cell_type": "code",
   "execution_count": null,
   "metadata": {},
   "outputs": [],
   "source": [
    "# FREQUENCY\n",
    "Iu.plot(kind='hist')"
   ]
  },
  {
   "cell_type": "markdown",
   "metadata": {},
   "source": [
    "## \"Imax\" indicator"
   ]
  },
  {
   "cell_type": "code",
   "execution_count": null,
   "metadata": {},
   "outputs": [],
   "source": [
    "# maximum number of items purchased by a customer during a shopping session\n",
    "#Imax = df.Qta.groupby([df.CustomerID, df.BasketID]).sum().sort_values()\n",
    "#Imax\n",
    "df.BasketID.groupby(df.CustomerID).unique()"
   ]
  },
  {
   "cell_type": "markdown",
   "metadata": {},
   "source": [
    "## \"E\" indicator"
   ]
  },
  {
   "cell_type": "markdown",
   "metadata": {},
   "source": [
    "The value of entropy is between 0 and log(n).\n",
    "NB. *n* in this case is the number of distinct customers, i.e. 4373."
   ]
  },
  {
   "cell_type": "code",
   "execution_count": null,
   "metadata": {},
   "outputs": [],
   "source": [
    "import math\n",
    "print(\"Maximum value for Entropy: \", math.log(4373)) \n",
    "# in this case every event has the same probability -> confusion, not informative at all"
   ]
  },
  {
   "cell_type": "code",
   "execution_count": null,
   "metadata": {},
   "outputs": [],
   "source": [
    "# Shannon entropy on the purchasing behaviour of the customer"
   ]
  },
  {
   "cell_type": "code",
   "execution_count": null,
   "metadata": {
    "scrolled": true
   },
   "outputs": [],
   "source": [
    "# COMPUTING SHANNON ENTROPY\n",
    "g_sum = df.groupby('CustomerID')['Sale'].transform('sum')\n",
    "values = df['Sale']/g_sum\n",
    "df['Entropy'] = -(values*np.log(values))\n",
    "\n",
    "# ENTROPY DISTRIBUTION\n",
    "df1 = df.groupby('CustomerID',as_index=False,sort=False)['Entropy'].sum()\n",
    "df1['Entropy'].plot.kde()"
   ]
  },
  {
   "cell_type": "markdown",
   "metadata": {},
   "source": [
    "## Additional indicators\n",
    "### Sales per customer"
   ]
  },
  {
   "cell_type": "code",
   "execution_count": null,
   "metadata": {},
   "outputs": [],
   "source": [
    "# DENSITY PLOT\n",
    "total_spent = df['Sale'].groupby(df['CustomerID']).sum()\n",
    "total_spent.plot(kind='kde')\n",
    "plt.title('Density distribution of items bought: ')\n",
    "plt.axis([-6000,6000,0,0.0004])"
   ]
  },
  {
   "cell_type": "code",
   "execution_count": null,
   "metadata": {},
   "outputs": [],
   "source": [
    "# SCATTER PLOT\n",
    "plt.scatter(df['Sale'], df['CustomerID'])\n",
    "plt.xlabel('Sale')\n",
    "plt.ylabel('CustomerID')\n",
    "plt.show()"
   ]
  },
  {
   "cell_type": "markdown",
   "metadata": {},
   "source": [
    "**Is that value an outlier ???**"
   ]
  },
  {
   "cell_type": "code",
   "execution_count": null,
   "metadata": {},
   "outputs": [],
   "source": [
    "# \"zoomming\" the interesting part\n",
    "plt.scatter(df['Sale'], df['CustomerID'])\n",
    "plt.xlabel('Sale')\n",
    "plt.ylabel('CustomerID')\n",
    "plt.axis([0,10000,df['CustomerID'].min(),df['CustomerID'].max()])\n",
    "plt.show()"
   ]
  },
  {
   "cell_type": "markdown",
   "metadata": {},
   "source": [
    "Ciò che emerge dal profilo del customer è che molte persone fanno spese piccole mentre poche persone fanno spese più grandi.\n",
    "Ciò è confermato dal grafico delle frequenze:"
   ]
  },
  {
   "cell_type": "code",
   "execution_count": null,
   "metadata": {
    "scrolled": true
   },
   "outputs": [],
   "source": [
    "# FREQUENCY\n",
    "df['Sale'].groupby(df['CustomerID']).sum().plot(kind='hist')"
   ]
  },
  {
   "cell_type": "markdown",
   "metadata": {},
   "source": [
    " ### Shopping sessions per customer"
   ]
  },
  {
   "cell_type": "code",
   "execution_count": null,
   "metadata": {},
   "outputs": [],
   "source": [
    "shopping_sess = df['BasketID'].groupby(df['CustomerID']).count()\n",
    "shopping_sess"
   ]
  },
  {
   "cell_type": "markdown",
   "metadata": {},
   "source": [
    "# New Dataset\n"
   ]
  },
  {
   "cell_type": "code",
   "execution_count": null,
   "metadata": {},
   "outputs": [],
   "source": [
    "#customer_data = {'Customer': [], 'TotalQta': []}\n",
    "#customers = pd.DataFrame(data=customer_data)\n",
    "#customers.Customer = df.CustomerID.unique()"
   ]
  },
  {
   "cell_type": "code",
   "execution_count": null,
   "metadata": {},
   "outputs": [],
   "source": [
    "# creating a new dataframe starting from \"I\" indicator\n",
    "customers = pd.DataFrame(I)\n",
    "customers = customers.rename(columns={\"Qta\": \"TotalQta\"})"
   ]
  },
  {
   "cell_type": "code",
   "execution_count": null,
   "metadata": {},
   "outputs": [],
   "source": [
    "# adding info from \"Iu\" indicator\n",
    "customers['TotalProd'] = items.TotalProd"
   ]
  },
  {
   "cell_type": "code",
   "execution_count": null,
   "metadata": {},
   "outputs": [],
   "source": [
    "# adding info from addictional indicators\n",
    "\n",
    "total_spent = pd.DataFrame(total_spent)\n",
    "customers['TotalSpent'] = total_spent.Sale\n",
    "\n",
    "shopping_sess = pd.DataFrame(shopping_sess)\n",
    "customers['ShopSessions'] = shopping_sess.BasketID"
   ]
  },
  {
   "cell_type": "code",
   "execution_count": null,
   "metadata": {},
   "outputs": [],
   "source": [
    "customers"
   ]
  },
  {
   "cell_type": "code",
   "execution_count": null,
   "metadata": {},
   "outputs": [],
   "source": [
    "# Exporting the new dataset in CSV format\n",
    "customers.to_csv(r'customers.csv', index = False)"
   ]
  }
 ],
 "metadata": {
  "kernelspec": {
   "display_name": "Python 3",
   "language": "python",
   "name": "python3"
  },
  "language_info": {
   "codemirror_mode": {
    "name": "ipython",
    "version": 3
   },
   "file_extension": ".py",
   "mimetype": "text/x-python",
   "name": "python",
   "nbconvert_exporter": "python",
   "pygments_lexer": "ipython3",
   "version": "3.8.3"
  }
 },
 "nbformat": 4,
 "nbformat_minor": 4
}
